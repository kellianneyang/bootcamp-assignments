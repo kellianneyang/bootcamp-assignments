{
  "nbformat": 4,
  "nbformat_minor": 0,
  "metadata": {
    "colab": {
      "provenance": [],
      "include_colab_link": true
    },
    "kernelspec": {
      "name": "python3",
      "display_name": "Python 3"
    },
    "language_info": {
      "name": "python"
    }
  },
  "cells": [
    {
      "cell_type": "markdown",
      "metadata": {
        "id": "view-in-github",
        "colab_type": "text"
      },
      "source": [
        "<a href=\"https://colab.research.google.com/github/kellianneyang/bootcamp-assignments/blob/main/Indexing_and_Slicing_Dictionaries_(Practice).ipynb\" target=\"_parent\"><img src=\"https://colab.research.google.com/assets/colab-badge.svg\" alt=\"Open In Colab\"/></a>"
      ]
    },
    {
      "cell_type": "markdown",
      "source": [
        "# Indexing and Slicing - Dictionaries\n"
      ],
      "metadata": {
        "id": "eyLJH2OFOtxy"
      }
    },
    {
      "cell_type": "markdown",
      "source": [
        "In this notebook you will see examples of indexing dictionaries for  retrieving values, updating values, and creating a new key:value pairs.\n",
        "\n",
        "NOTE: Sets are not indexible because they are not ordered.  Instead, they have special methods to add, remove, or check for the presence of objects."
      ],
      "metadata": {
        "id": "zPAul2iiPAEL"
      }
    },
    {
      "cell_type": "markdown",
      "source": [
        "# Indexing\n"
      ],
      "metadata": {
        "id": "vmBZ_iwwSVk5"
      }
    },
    {
      "cell_type": "markdown",
      "source": [
        "\n",
        "## Tracking Coworker's Favorite Colors\n"
      ],
      "metadata": {
        "id": "d8YR6teXyS58"
      }
    },
    {
      "cell_type": "markdown",
      "source": [
        "\n",
        "A group of co-workers realized that they don't know each other very well beyond the day to day tasks of their jobs.\n",
        "\n",
        "To help build team comraderie, they decide to share their favorite colors with everyone.\n",
        "\n",
        "Let's make a dictionary of favorite colors, called `fav_colors` to track this information.  \n",
        "\n",
        "Since we want to be able to use look up a person's favorite color, we will use a dictionary with everyone's names as the keys and their favorite colors as the values.\n",
        "\n",
        "\n",
        "Run the cell below to create the dictionary of favorite colors."
      ],
      "metadata": {
        "id": "Tnp7ObvA12kJ"
      }
    },
    {
      "cell_type": "code",
      "source": [
        "## Run this cell without making changes.\n",
        "\n",
        "# Create the dictionary \n",
        "fav_colors = {'James':'Red',\n",
        "              'Purvi':\"Orange\",\n",
        "              \"Sherlin\":'Purple',\n",
        "              'Josh':'Indigo'}\n",
        "fav_colors"
      ],
      "metadata": {
        "id": "gNEZel1QO0dB",
        "colab": {
          "base_uri": "https://localhost:8080/"
        },
        "outputId": "1f1d9b8c-b25f-4142-a994-397017b9b2cc"
      },
      "execution_count": null,
      "outputs": [
        {
          "output_type": "execute_result",
          "data": {
            "text/plain": [
              "{'James': 'Red', 'Purvi': 'Orange', 'Sherlin': 'Purple', 'Josh': 'Indigo'}"
            ]
          },
          "metadata": {},
          "execution_count": 1
        }
      ]
    },
    {
      "cell_type": "markdown",
      "source": [
        "## Adding to Our Dictionary"
      ],
      "metadata": {
        "id": "cXTnJA0s1XWC"
      }
    },
    {
      "cell_type": "markdown",
      "source": [
        "- A new person just the joined the team and needs to be added to our dictionary. We need to add Neerja to our dictionary and her favorite color is Green.\n"
      ],
      "metadata": {
        "id": "a5SZb_at0Mci"
      }
    },
    {
      "cell_type": "code",
      "source": [
        "# Run this cell without making changes\n",
        "\n",
        "# add a new key for \"Neerja\" with the value set to Aqua\n",
        "fav_colors['Neerja'] = 'Green'\n",
        "\n",
        "# display the full dictionary\n",
        "fav_colors"
      ],
      "metadata": {
        "colab": {
          "base_uri": "https://localhost:8080/"
        },
        "id": "A-kV2zq-0MHN",
        "outputId": "5f9fa920-a300-4c53-886d-ebe8338a9651"
      },
      "execution_count": null,
      "outputs": [
        {
          "output_type": "execute_result",
          "data": {
            "text/plain": [
              "{'James': 'Red',\n",
              " 'Purvi': 'Orange',\n",
              " 'Sherlin': 'Purple',\n",
              " 'Josh': 'Indigo',\n",
              " 'Neerja': 'Green'}"
            ]
          },
          "metadata": {},
          "execution_count": 2
        }
      ]
    },
    {
      "cell_type": "markdown",
      "source": [
        "### 💪 Your Turn"
      ],
      "metadata": {
        "id": "NdndpZEJ1bBc"
      }
    },
    {
      "cell_type": "markdown",
      "source": [
        "- Add your own name and favorite color to the `fav_colors` dictionary."
      ],
      "metadata": {
        "id": "0_pHVXj51cp3"
      }
    },
    {
      "cell_type": "code",
      "source": [
        "# Your code here\n",
        "\n",
        "## Add a new key with your name and set it to your fav color\n",
        "fav_colors[\"Kellianne\"] = \"Red\"\n",
        "\n",
        "## print or display the updated dictionary\n",
        "fav_colors"
      ],
      "metadata": {
        "id": "YumFcdpp1gtn",
        "colab": {
          "base_uri": "https://localhost:8080/"
        },
        "outputId": "c95b1c98-b8f8-42e4-fe44-6d2e4389d78b"
      },
      "execution_count": null,
      "outputs": [
        {
          "output_type": "execute_result",
          "data": {
            "text/plain": [
              "{'James': 'Red',\n",
              " 'Purvi': 'Orange',\n",
              " 'Sherlin': 'Purple',\n",
              " 'Josh': 'Indigo',\n",
              " 'Neerja': 'Green',\n",
              " 'Kellianne': 'Red'}"
            ]
          },
          "metadata": {},
          "execution_count": 3
        }
      ]
    },
    {
      "cell_type": "markdown",
      "source": [
        "## Updating Our Dictionary."
      ],
      "metadata": {
        "id": "yL7oyAPC5abV"
      }
    },
    {
      "cell_type": "markdown",
      "source": [
        "On second thought, James has had a change of heart and his new favorite color is Blue. Let's change the value for James to Blue and then confirm the value has been updated."
      ],
      "metadata": {
        "id": "Pgx9as4E5bsm"
      }
    },
    {
      "cell_type": "code",
      "source": [
        "# Run this cell without changes\n",
        "\n",
        "# Updating the value for James to \"Blue\"\n",
        "fav_colors['James'] = 'Blue'\n",
        "\n",
        "# Confirm that the value has changed\n",
        "fav_colors['James']"
      ],
      "metadata": {
        "colab": {
          "base_uri": "https://localhost:8080/",
          "height": 35
        },
        "id": "iGtn6aea5jcS",
        "outputId": "83d3a3cd-b000-485b-91b1-dcb4203f913a"
      },
      "execution_count": null,
      "outputs": [
        {
          "output_type": "execute_result",
          "data": {
            "text/plain": [
              "'Blue'"
            ],
            "application/vnd.google.colaboratory.intrinsic+json": {
              "type": "string"
            }
          },
          "metadata": {},
          "execution_count": 4
        }
      ]
    },
    {
      "cell_type": "markdown",
      "source": [
        "### 💪 Your Turn\n"
      ],
      "metadata": {
        "id": "uZVdZd2453aG"
      }
    },
    {
      "cell_type": "markdown",
      "source": [
        "Purvi has also realized that she no longer likes Orange and that her true favorite color is Green.\n",
        "\n",
        "Update the fav_colors dictionary to change Purvi's value to Green."
      ],
      "metadata": {
        "id": "NDnJ1FMe56tJ"
      }
    },
    {
      "cell_type": "code",
      "source": [
        "# Your code here\n",
        "\n",
        "# Update the value for Purvi to \"Green\"\n",
        "fav_colors[\"Purvi\"] = \"Green\"\n",
        "# Confirm that the value has changed\n",
        "fav_colors[\"Purvi\"]"
      ],
      "metadata": {
        "id": "Qln3g-Fn6Jgc",
        "colab": {
          "base_uri": "https://localhost:8080/",
          "height": 35
        },
        "outputId": "0ee9d68e-a1df-4b53-afcb-62c6e5b41ce7"
      },
      "execution_count": null,
      "outputs": [
        {
          "output_type": "execute_result",
          "data": {
            "text/plain": [
              "'Green'"
            ],
            "application/vnd.google.colaboratory.intrinsic+json": {
              "type": "string"
            }
          },
          "metadata": {},
          "execution_count": 5
        }
      ]
    },
    {
      "cell_type": "markdown",
      "source": [
        "## Tracking Favorite Colors AND Favorite Candy"
      ],
      "metadata": {
        "id": "3jvWg0sv2AMY"
      }
    },
    {
      "cell_type": "markdown",
      "source": [
        "The team realized that only sharing their favorite colors is barely scratching the surface of getting to know each other. \n",
        "\n",
        "The team decides to also share their favorite candies, too.\n",
        "\n",
        "\n",
        "To track both their favorite color AND candy, we *could* make a second dictionary called `fav_candy`, **but** then we wouldn't have our information stored together for each person. \n",
        "\n",
        "The alternative is to make a **nested** dictionary. \n",
        "\n",
        "Let's create a nested dictionary called `fav_items`. In our nested dictionary, we will still have the team members' names as the keys, but instead of a string with their favorite colors as the values, we will store **another** dictionary that contains 2 key:value pairs: \"color\" and \"candy\". "
      ],
      "metadata": {
        "id": "_KX3DUIW2AKA"
      }
    },
    {
      "cell_type": "code",
      "source": [
        "## Run this cell without making changes.\n",
        "\n",
        "# Create the nested dictionary \n",
        "## make a dictionary of fav_items with the names as the key and a dictionary of {color:red,candy:jelly bellies}\n",
        "fav_items = {\"James\": {'color':'Blue', \n",
        "                       'candy':'Jelly Bellies'},\n",
        "             \"Purvi\": {'color':'Green',\n",
        "                       'candy':'Dark Chocolate'},\n",
        "             'Sherlin': {'color':'Purple',\n",
        "                      'candy':\"Peanut M&M's\"},\n",
        "             'Josh': {'color':'Indigo',\n",
        "                      'candy':'Chocolate Covered Potato Chips'},\n",
        "             \"Neerja\":{'color': 'Green',\n",
        "                       'candy': 'Milk Chocolate'}\n",
        "             }\n",
        "\n",
        "# display the full nested dictionary.\n",
        "fav_items"
      ],
      "metadata": {
        "colab": {
          "base_uri": "https://localhost:8080/"
        },
        "id": "4coFD9mP1_iX",
        "outputId": "eb589419-1948-477c-d864-153f73887653"
      },
      "execution_count": null,
      "outputs": [
        {
          "output_type": "execute_result",
          "data": {
            "text/plain": [
              "{'James': {'color': 'Blue', 'candy': 'Jelly Bellies'},\n",
              " 'Purvi': {'color': 'Green', 'candy': 'Dark Chocolate'},\n",
              " 'Sherlin': {'color': 'Purple', 'candy': \"Peanut M&M's\"},\n",
              " 'Josh': {'color': 'Indigo', 'candy': 'Chocolate Covered Potato Chips'},\n",
              " 'Neerja': {'color': 'Green', 'candy': 'Milk Chocolate'}}"
            ]
          },
          "metadata": {},
          "execution_count": 6
        }
      ]
    },
    {
      "cell_type": "markdown",
      "source": [
        "- The team realized they didn't offer to include their boss in the activity and found out that their boss, \"Brenda\" likes the color blue and her favoriate candy is Reese. Let's add Brenda to our `fav_items` dictionary.\n",
        "  - Tip: make sure to use double quotes for strings that will contain an apostrophe. "
      ],
      "metadata": {
        "id": "XJGQUeUx2AH6"
      }
    },
    {
      "cell_type": "code",
      "source": [
        "# Run this cell without changes\n",
        "\n",
        "# Adding \"Brenda\" and her favorites to the dictionary\n",
        "fav_items['Brenda'] = {'color':'Blue','candy':\"Reese's Cups\"}\n",
        "\n",
        "# display the updated dictionary\n",
        "fav_items"
      ],
      "metadata": {
        "colab": {
          "base_uri": "https://localhost:8080/"
        },
        "id": "8dpQ-4194OsQ",
        "outputId": "02cc5a57-cc9f-4685-87e4-9251c03b6d63"
      },
      "execution_count": null,
      "outputs": [
        {
          "output_type": "execute_result",
          "data": {
            "text/plain": [
              "{'James': {'color': 'Blue', 'candy': 'Jelly Bellies'},\n",
              " 'Purvi': {'color': 'Green', 'candy': 'Dark Chocolate'},\n",
              " 'Sherlin': {'color': 'Purple', 'candy': \"Peanut M&M's\"},\n",
              " 'Josh': {'color': 'Indigo', 'candy': 'Chocolate Covered Potato Chips'},\n",
              " 'Neerja': {'color': 'Green', 'candy': 'Milk Chocolate'},\n",
              " 'Brenda': {'color': 'Blue', 'candy': \"Reese's Cups\"}}"
            ]
          },
          "metadata": {},
          "execution_count": 7
        }
      ]
    },
    {
      "cell_type": "markdown",
      "source": [
        "### 💪 Your Turn"
      ],
      "metadata": {
        "id": "EGvAhUJC4qd9"
      }
    },
    {
      "cell_type": "markdown",
      "source": [
        "Add your yourself to our new `fav_items` dictionary following the example above. If you don't like candy, go ahead and list your favorite snack or meal instead."
      ],
      "metadata": {
        "id": "SmHv85s74sTh"
      }
    },
    {
      "cell_type": "code",
      "source": [
        "# Your code here\n",
        "\n",
        "## Add a new key with your name your fav items\n",
        "fav_items[\"Kellianne\"] = {\"color\": \"Red\", \"candy\": \"Haribo Gummy Bears\"}\n",
        "\n",
        "## print or display the updated dictionary\n",
        "fav_items"
      ],
      "metadata": {
        "id": "OdqvyhGJ46Ls",
        "colab": {
          "base_uri": "https://localhost:8080/"
        },
        "outputId": "5145e070-0223-4800-a413-f90ae414c1fa"
      },
      "execution_count": null,
      "outputs": [
        {
          "output_type": "execute_result",
          "data": {
            "text/plain": [
              "{'James': {'color': 'Blue', 'candy': 'Jelly Bellies'},\n",
              " 'Purvi': {'color': 'Green', 'candy': 'Dark Chocolate'},\n",
              " 'Sherlin': {'color': 'Purple', 'candy': \"Peanut M&M's\"},\n",
              " 'Josh': {'color': 'Indigo', 'candy': 'Chocolate Covered Potato Chips'},\n",
              " 'Neerja': {'color': 'Green', 'candy': 'Milk Chocolate'},\n",
              " 'Brenda': {'color': 'Blue', 'candy': \"Reese's Cups\"},\n",
              " 'Kellianne': {'color': 'Red', 'candy': 'Haribo Gummy Bears'}}"
            ]
          },
          "metadata": {},
          "execution_count": 8
        }
      ]
    },
    {
      "cell_type": "markdown",
      "source": [
        "## Indexing Nested Dictionaries"
      ],
      "metadata": {
        "id": "YCh3uSGB5Qmc"
      }
    },
    {
      "cell_type": "markdown",
      "source": [
        "Now that we have everyone's favorites saved in our dictionary. Let's answer some questions about specific people and items. Now that we have a nested dictionary, we will need to use 2 sets of square brackets. the first set to slice out the name of the person and another set of square brakcets to slice out their favorite item.\n"
      ],
      "metadata": {
        "id": "D25mtgid6g2N"
      }
    },
    {
      "cell_type": "markdown",
      "source": [
        "\n",
        "#### Example: What is Purvi's favorite candy?"
      ],
      "metadata": {
        "id": "FNrJFd2-6oi_"
      }
    },
    {
      "cell_type": "code",
      "source": [
        "# Run this cell without changes\n",
        "\n",
        "# Slice out Purvi's favorite candy\n",
        "fav_items['Purvi']['candy']"
      ],
      "metadata": {
        "colab": {
          "base_uri": "https://localhost:8080/",
          "height": 35
        },
        "id": "Dh9xzNUL66Kn",
        "outputId": "ddb6b5bb-0841-45fd-8566-4f84a93a372c"
      },
      "execution_count": null,
      "outputs": [
        {
          "output_type": "execute_result",
          "data": {
            "text/plain": [
              "'Dark Chocolate'"
            ],
            "application/vnd.google.colaboratory.intrinsic+json": {
              "type": "string"
            }
          },
          "metadata": {},
          "execution_count": 9
        }
      ]
    },
    {
      "cell_type": "markdown",
      "source": [
        "### 💪 Your Turn"
      ],
      "metadata": {
        "id": "EB3rkScV5SuS"
      }
    },
    {
      "cell_type": "markdown",
      "source": [
        "What is Sherlin's favorite color?"
      ],
      "metadata": {
        "id": "6hGC-WIa7LzY"
      }
    },
    {
      "cell_type": "code",
      "source": [
        "# Your code here\n",
        "\n",
        "# Slice out Sherlin's favorite color\n",
        "fav_items[\"Sherlin\"][\"color\"]"
      ],
      "metadata": {
        "id": "UKzMFiP27J-K",
        "colab": {
          "base_uri": "https://localhost:8080/",
          "height": 35
        },
        "outputId": "9beb52e9-8b7a-49b3-fd40-1fdf211268e4"
      },
      "execution_count": null,
      "outputs": [
        {
          "output_type": "execute_result",
          "data": {
            "text/plain": [
              "'Purple'"
            ],
            "application/vnd.google.colaboratory.intrinsic+json": {
              "type": "string"
            }
          },
          "metadata": {},
          "execution_count": 13
        }
      ]
    },
    {
      "cell_type": "markdown",
      "source": [
        "## Updating a Nested Dictionary\n",
        "\n"
      ],
      "metadata": {
        "id": "AXVEx7Hy8BRi"
      }
    },
    {
      "cell_type": "markdown",
      "source": [
        "James realized his favorite color isn't really red or blue - its Purple. \n",
        "\n",
        "Let's update the value for James' favorite color in our nested dictionary.\n",
        "\n",
        "Just like we needed a set of square brackets for each key we sliced to get to Sherlin's favorite color, we also need to use multiple square brackets to update a nested dictionary value."
      ],
      "metadata": {
        "id": "Z5tJ2tbU8C9N"
      }
    },
    {
      "cell_type": "code",
      "source": [
        "# Run this cell without changes\n",
        "\n",
        "# update james' fav color to Purple\n",
        "fav_items['James'][\"color\"] = \"Purple\"\n",
        "\n",
        "# confirm the value has changed\n",
        "fav_items['James'][\"color\"]"
      ],
      "metadata": {
        "colab": {
          "base_uri": "https://localhost:8080/",
          "height": 35
        },
        "id": "YSue6Ir68ebn",
        "outputId": "27aada42-303e-45bf-8e57-fcedaa5d680d"
      },
      "execution_count": null,
      "outputs": [
        {
          "output_type": "execute_result",
          "data": {
            "text/plain": [
              "'Purple'"
            ],
            "application/vnd.google.colaboratory.intrinsic+json": {
              "type": "string"
            }
          },
          "metadata": {},
          "execution_count": 14
        }
      ]
    },
    {
      "cell_type": "markdown",
      "source": [
        "### 💪 Your Turn"
      ],
      "metadata": {
        "id": "HTTYHJWQ8drB"
      }
    },
    {
      "cell_type": "markdown",
      "source": [
        "Neerja realized that she really prefers dark chocolate over milk chocolate. \n",
        "Change Neerja's favorite candy to \"Dark Chocolate.\""
      ],
      "metadata": {
        "id": "ilAaM-Et8rHE"
      }
    },
    {
      "cell_type": "code",
      "source": [
        "# Your code here\n",
        "\n",
        "## Change Neerja's fav candy\n",
        "fav_items[\"Neerja\"][\"candy\"] = \"Dark Chocolate\"\n",
        "\n",
        "## confirm the value has changed\n",
        "fav_items[\"Neerja\"][\"candy\"]"
      ],
      "metadata": {
        "id": "M0FUjgGu86JB",
        "colab": {
          "base_uri": "https://localhost:8080/",
          "height": 35
        },
        "outputId": "cb46ffde-334c-4883-ae5d-6b2f32b48511"
      },
      "execution_count": null,
      "outputs": [
        {
          "output_type": "execute_result",
          "data": {
            "text/plain": [
              "'Dark Chocolate'"
            ],
            "application/vnd.google.colaboratory.intrinsic+json": {
              "type": "string"
            }
          },
          "metadata": {},
          "execution_count": 15
        }
      ]
    },
    {
      "cell_type": "markdown",
      "source": [
        "# Summary\n",
        "\n",
        "In this assignment you practiced working with Python dictionaries. We reviewed how to create a new dictionary, how to index a dictionary using keys, and how to insert new key:value pairs into a dictionary.\n",
        "\n",
        "You also learned how to work with a nested dictionary and how we need a new set of square brackets for every key we need to slice out from our nested dictionaries."
      ],
      "metadata": {
        "id": "APirEhWdsrtz"
      }
    }
  ]
}