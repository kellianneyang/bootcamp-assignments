{
  "nbformat": 4,
  "nbformat_minor": 0,
  "metadata": {
    "colab": {
      "provenance": [],
      "authorship_tag": "ABX9TyPvEC8M1tFsAb/3PISM/Kc+",
      "include_colab_link": true
    },
    "kernelspec": {
      "name": "python3",
      "display_name": "Python 3"
    },
    "language_info": {
      "name": "python"
    }
  },
  "cells": [
    {
      "cell_type": "markdown",
      "metadata": {
        "id": "view-in-github",
        "colab_type": "text"
      },
      "source": [
        "<a href=\"https://colab.research.google.com/github/kellianneyang/bootcamp-assignments/blob/main/Bakery_NumPy_Exercise_(Core).ipynb\" target=\"_parent\"><img src=\"https://colab.research.google.com/assets/colab-badge.svg\" alt=\"Open In Colab\"/></a>"
      ]
    },
    {
      "cell_type": "markdown",
      "source": [
        "Bakery NumPy Exercise (Core)\n",
        "\n",
        "Name: Kellianne Yang"
      ],
      "metadata": {
        "id": "dpas6Utt7ShR"
      }
    },
    {
      "cell_type": "code",
      "execution_count": null,
      "metadata": {
        "id": "FfbOJGUZ_EAc"
      },
      "outputs": [],
      "source": [
        "import numpy as np"
      ]
    },
    {
      "cell_type": "code",
      "source": [
        "# Teens for Tech\n",
        "# brownie: $2\n",
        "# cookie: $1\n",
        "# cake: $10\n",
        "# goal: $200"
      ],
      "metadata": {
        "id": "fnune5sI_I7u"
      },
      "execution_count": null,
      "outputs": []
    },
    {
      "cell_type": "code",
      "source": [
        "names_list = [\"brownie\", \"cookie\", \"cake\"]\n",
        "print(names_list)"
      ],
      "metadata": {
        "colab": {
          "base_uri": "https://localhost:8080/"
        },
        "id": "Xu_iYx6__Z_l",
        "outputId": "edc5cce6-24c0-4c60-cafb-d25810fbf7d0"
      },
      "execution_count": null,
      "outputs": [
        {
          "output_type": "stream",
          "name": "stdout",
          "text": [
            "['brownie', 'cookie', 'cake']\n"
          ]
        }
      ]
    },
    {
      "cell_type": "code",
      "source": [
        "prices_list = [2, 1, 10]\n",
        "print(prices_list)"
      ],
      "metadata": {
        "colab": {
          "base_uri": "https://localhost:8080/"
        },
        "id": "wwAjnk0O_gta",
        "outputId": "d7caedea-a7bd-484d-a00e-9485b79360eb"
      },
      "execution_count": null,
      "outputs": [
        {
          "output_type": "stream",
          "name": "stdout",
          "text": [
            "[2, 1, 10]\n"
          ]
        }
      ]
    },
    {
      "cell_type": "code",
      "source": [
        "quantities_sold_list = [17, 40, 1]\n",
        "print(quantities_sold_list)"
      ],
      "metadata": {
        "colab": {
          "base_uri": "https://localhost:8080/"
        },
        "id": "lCyu9AML_uE9",
        "outputId": "64efedfb-2384-4f62-bb0e-182924b140fa"
      },
      "execution_count": null,
      "outputs": [
        {
          "output_type": "stream",
          "name": "stdout",
          "text": [
            "[17, 40, 1]\n"
          ]
        }
      ]
    },
    {
      "cell_type": "code",
      "source": [
        "# prices_list * quantities_sold_list\n",
        "# throws a type error"
      ],
      "metadata": {
        "id": "jWoqCDiQ_0vo"
      },
      "execution_count": null,
      "outputs": []
    },
    {
      "cell_type": "code",
      "source": [
        "names = np.array(names_list)\n",
        "prices = np.array(prices_list)\n",
        "quantities_sold = np.array(quantities_sold_list)\n",
        "\n",
        "print(names, prices, quantities_sold)"
      ],
      "metadata": {
        "colab": {
          "base_uri": "https://localhost:8080/"
        },
        "id": "l-oecRHI_6Vi",
        "outputId": "e9d11542-7d59-45f9-c1cf-4fcc26d82625"
      },
      "execution_count": null,
      "outputs": [
        {
          "output_type": "stream",
          "name": "stdout",
          "text": [
            "['brownie' 'cookie' 'cake'] [ 2  1 10] [17 40  1]\n"
          ]
        }
      ]
    },
    {
      "cell_type": "code",
      "source": [
        "# arrays are ordered and mutable (like lists), but they are faster and more \n",
        "# memory-efficient"
      ],
      "metadata": {
        "id": "SRMBcXUVAKO6"
      },
      "execution_count": null,
      "outputs": []
    },
    {
      "cell_type": "code",
      "source": [
        "# element-wise calculation: first element in each array is calculated, then \n",
        "# second element in each array, etc.\n",
        "gross_profit = prices * quantities_sold\n",
        "display(gross_profit)"
      ],
      "metadata": {
        "colab": {
          "base_uri": "https://localhost:8080/",
          "height": 34
        },
        "id": "joQiE4uaAiHO",
        "outputId": "dde48345-dfd4-482e-c008-07ea762a425c"
      },
      "execution_count": null,
      "outputs": [
        {
          "output_type": "display_data",
          "data": {
            "text/plain": [
              "array([34, 40, 10])"
            ]
          },
          "metadata": {}
        }
      ]
    },
    {
      "cell_type": "code",
      "source": [
        "expenses_list = [0.25, 0.50, 5]\n",
        "expenses = np.array(expenses_list)\n",
        "display(expenses)"
      ],
      "metadata": {
        "colab": {
          "base_uri": "https://localhost:8080/",
          "height": 34
        },
        "id": "6wMYv9KgAst8",
        "outputId": "60cf9e04-1a34-473a-ff23-2b3b11bb842e"
      },
      "execution_count": null,
      "outputs": [
        {
          "output_type": "display_data",
          "data": {
            "text/plain": [
              "array([0.25, 0.5 , 5.  ])"
            ]
          },
          "metadata": {}
        }
      ]
    },
    {
      "cell_type": "code",
      "source": [
        "net_profit_per_good = prices - expenses\n",
        "display(net_profit_per_good)"
      ],
      "metadata": {
        "colab": {
          "base_uri": "https://localhost:8080/",
          "height": 34
        },
        "id": "-q1AVnPFBRqT",
        "outputId": "8373114f-c212-4336-bda4-9e25582b21e3"
      },
      "execution_count": null,
      "outputs": [
        {
          "output_type": "display_data",
          "data": {
            "text/plain": [
              "array([1.75, 0.5 , 5.  ])"
            ]
          },
          "metadata": {}
        }
      ]
    },
    {
      "cell_type": "code",
      "source": [
        "# element-wise booleans: a new array created based on the T/F value of a statement\n",
        "net_profit_per_good > 2"
      ],
      "metadata": {
        "colab": {
          "base_uri": "https://localhost:8080/"
        },
        "id": "oZw16saXBeZe",
        "outputId": "26960b53-bc35-4f16-d1fa-991a0d360a38"
      },
      "execution_count": null,
      "outputs": [
        {
          "output_type": "execute_result",
          "data": {
            "text/plain": [
              "array([False, False,  True])"
            ]
          },
          "metadata": {},
          "execution_count": 12
        }
      ]
    },
    {
      "cell_type": "code",
      "source": [
        "index_profits = net_profit_per_good > 2\n",
        "display(index_profits)"
      ],
      "metadata": {
        "colab": {
          "base_uri": "https://localhost:8080/",
          "height": 34
        },
        "id": "F2hCPksbB1AO",
        "outputId": "2d44de0e-7e8e-49cb-e44a-2ad0cd499f02"
      },
      "execution_count": null,
      "outputs": [
        {
          "output_type": "display_data",
          "data": {
            "text/plain": [
              "array([False, False,  True])"
            ]
          },
          "metadata": {}
        }
      ]
    },
    {
      "cell_type": "code",
      "source": [
        "# if we want the names of the goods, we can slice the names array with the\n",
        "# index_profits array\n",
        "names[index_profits]"
      ],
      "metadata": {
        "colab": {
          "base_uri": "https://localhost:8080/"
        },
        "id": "R1HvCXvDB_X5",
        "outputId": "232d35cd-95f8-4b45-a424-804dc6615a34"
      },
      "execution_count": null,
      "outputs": [
        {
          "output_type": "execute_result",
          "data": {
            "text/plain": [
              "array(['cake'], dtype='<U7')"
            ]
          },
          "metadata": {},
          "execution_count": 14
        }
      ]
    },
    {
      "cell_type": "code",
      "source": [
        "# python assumes that we want a result with only the \"True\" elements\n",
        "# if we want the opposite, we can use the operator ~ (NOT)\n",
        "~index_profits"
      ],
      "metadata": {
        "colab": {
          "base_uri": "https://localhost:8080/"
        },
        "id": "0QoNvHR5CGJp",
        "outputId": "db38a748-7d74-46fb-ebd6-f723f2a8ed91"
      },
      "execution_count": null,
      "outputs": [
        {
          "output_type": "execute_result",
          "data": {
            "text/plain": [
              "array([ True,  True, False])"
            ]
          },
          "metadata": {},
          "execution_count": 15
        }
      ]
    },
    {
      "cell_type": "code",
      "source": [
        "names[~index_profits]"
      ],
      "metadata": {
        "colab": {
          "base_uri": "https://localhost:8080/"
        },
        "id": "uob_banCCkVm",
        "outputId": "96f47224-d0d4-49bd-8648-b2fd5816d5ae"
      },
      "execution_count": null,
      "outputs": [
        {
          "output_type": "execute_result",
          "data": {
            "text/plain": [
              "array(['brownie', 'cookie'], dtype='<U7')"
            ]
          },
          "metadata": {},
          "execution_count": 16
        }
      ]
    },
    {
      "cell_type": "code",
      "source": [
        "# adding (= appending) a value to an array\n",
        "prices = np.append(prices, 7)\n",
        "display(prices)"
      ],
      "metadata": {
        "colab": {
          "base_uri": "https://localhost:8080/",
          "height": 34
        },
        "id": "K2FMRZZMCpDM",
        "outputId": "43e47e51-0e84-47b9-b329-b48996cc163f"
      },
      "execution_count": null,
      "outputs": [
        {
          "output_type": "display_data",
          "data": {
            "text/plain": [
              "array([ 2,  1, 10,  7])"
            ]
          },
          "metadata": {}
        }
      ]
    },
    {
      "cell_type": "code",
      "source": [
        "names = np.append(names, \"pie\")\n",
        "display(names)"
      ],
      "metadata": {
        "colab": {
          "base_uri": "https://localhost:8080/",
          "height": 34
        },
        "id": "JaRzF-W1DF0M",
        "outputId": "4af1fc48-485f-469b-ca78-64c422520229"
      },
      "execution_count": null,
      "outputs": [
        {
          "output_type": "display_data",
          "data": {
            "text/plain": [
              "array(['brownie', 'cookie', 'cake', 'pie'], dtype='<U7')"
            ]
          },
          "metadata": {}
        }
      ]
    },
    {
      "cell_type": "code",
      "source": [
        "# adding (= appending) multiple values to an array at once: append a LIST\n",
        "prices = np.append(prices, [4.5, 3, 4, 9])\n",
        "display(prices)"
      ],
      "metadata": {
        "colab": {
          "base_uri": "https://localhost:8080/",
          "height": 34
        },
        "id": "1qiqeolkDM46",
        "outputId": "d8348728-52c9-4f4a-9267-f2cfbf7eb9b7"
      },
      "execution_count": null,
      "outputs": [
        {
          "output_type": "display_data",
          "data": {
            "text/plain": [
              "array([ 2. ,  1. , 10. ,  7. ,  4.5,  3. ,  4. ,  9. ])"
            ]
          },
          "metadata": {}
        }
      ]
    },
    {
      "cell_type": "code",
      "source": [
        "names = np.append(names, [\"fudge\", \"cupcake\", \"banana bread\", \"torte\"])\n",
        "display(names)"
      ],
      "metadata": {
        "colab": {
          "base_uri": "https://localhost:8080/",
          "height": 52
        },
        "id": "Gy8P809IDc4G",
        "outputId": "0aef80ed-37bc-4b6d-945c-82ff48473354"
      },
      "execution_count": null,
      "outputs": [
        {
          "output_type": "display_data",
          "data": {
            "text/plain": [
              "array(['brownie', 'cookie', 'cake', 'pie', 'fudge', 'cupcake',\n",
              "       'banana bread', 'torte'], dtype='<U12')"
            ]
          },
          "metadata": {}
        }
      ]
    },
    {
      "cell_type": "code",
      "source": [
        "# deleting an element from an np array(identify element by index)\n",
        "names = np.delete(names, -1)\n",
        "prices = np.delete(prices, -1)\n",
        "display(names)\n",
        "display(prices)"
      ],
      "metadata": {
        "colab": {
          "base_uri": "https://localhost:8080/",
          "height": 69
        },
        "id": "yUUp6AF4DoBX",
        "outputId": "d2966758-8c76-4674-a97b-ccf309e0e0e5"
      },
      "execution_count": null,
      "outputs": [
        {
          "output_type": "display_data",
          "data": {
            "text/plain": [
              "array(['brownie', 'cookie', 'cake', 'pie', 'fudge', 'cupcake',\n",
              "       'banana bread'], dtype='<U12')"
            ]
          },
          "metadata": {}
        },
        {
          "output_type": "display_data",
          "data": {
            "text/plain": [
              "array([ 2. ,  1. , 10. ,  7. ,  4.5,  3. ,  4. ])"
            ]
          },
          "metadata": {}
        }
      ]
    },
    {
      "cell_type": "code",
      "source": [
        "# getting the indices of elements in an np array: enumerate()\n",
        "# need to loop through the array\n",
        "# enumerate returns index, value\n",
        "\n",
        "for i, name in enumerate(names):\n",
        "  print(f\"Index {i}: {name}\")"
      ],
      "metadata": {
        "colab": {
          "base_uri": "https://localhost:8080/"
        },
        "id": "ptI_CVMGEAR0",
        "outputId": "b70b3a61-537b-4c14-fe54-79e5545a85d4"
      },
      "execution_count": null,
      "outputs": [
        {
          "output_type": "stream",
          "name": "stdout",
          "text": [
            "Index 0: brownie\n",
            "Index 1: cookie\n",
            "Index 2: cake\n",
            "Index 3: pie\n",
            "Index 4: fudge\n",
            "Index 5: cupcake\n",
            "Index 6: banana bread\n"
          ]
        }
      ]
    },
    {
      "cell_type": "code",
      "source": [
        "# more on enumerate:\n",
        "# we can put more than two variables in the enumerate call (indirectly), \n",
        "# if we have another corresponding array, as follows:\n",
        "\n",
        "for i, name in enumerate(names):\n",
        "  print(f\"Index {i}: {name} (price = ${prices[i]})\")"
      ],
      "metadata": {
        "colab": {
          "base_uri": "https://localhost:8080/"
        },
        "id": "jk4M1KVtFpr0",
        "outputId": "e90f66ad-4ac8-43c0-9413-8661d5ff4880"
      },
      "execution_count": null,
      "outputs": [
        {
          "output_type": "stream",
          "name": "stdout",
          "text": [
            "Index 0: brownie (price = $2.0)\n",
            "Index 1: cookie (price = $1.0)\n",
            "Index 2: cake (price = $10.0)\n",
            "Index 3: pie (price = $7.0)\n",
            "Index 4: fudge (price = $4.5)\n",
            "Index 5: cupcake (price = $3.0)\n",
            "Index 6: banana bread (price = $4.0)\n"
          ]
        }
      ]
    },
    {
      "cell_type": "code",
      "source": [
        "# replacing an element in an np array (identify element by index)\n",
        "# in this example we just want to replace the price of cakes, so the names\n",
        "# array is unchanged but we need to change the prices array\n",
        "\n",
        "prices[2] = 12\n",
        "print(names[2])\n",
        "print(prices[2])"
      ],
      "metadata": {
        "colab": {
          "base_uri": "https://localhost:8080/"
        },
        "id": "GIa3DoZYFLKN",
        "outputId": "163047f2-b96e-4e16-8188-99a70f1586bf"
      },
      "execution_count": null,
      "outputs": [
        {
          "output_type": "stream",
          "name": "stdout",
          "text": [
            "cake\n",
            "12.0\n"
          ]
        }
      ]
    },
    {
      "cell_type": "code",
      "source": [
        "# INTRO TO PANDAS"
      ],
      "metadata": {
        "id": "JmuSxxUOFiaE"
      },
      "execution_count": null,
      "outputs": []
    },
    {
      "cell_type": "code",
      "source": [
        "import pandas as pd"
      ],
      "metadata": {
        "id": "o91-WoY9Gied"
      },
      "execution_count": null,
      "outputs": []
    },
    {
      "cell_type": "code",
      "source": [
        "# series are used for 1d data\n",
        "# dataframes are used for 2d data"
      ],
      "metadata": {
        "id": "3GOhLHfWHyfI"
      },
      "execution_count": null,
      "outputs": []
    },
    {
      "cell_type": "code",
      "source": [
        "# the only required argument for a series is as array, and it will\n",
        "# look like this:\n",
        "prices_pd = pd.Series(prices)\n",
        "display(prices_pd)"
      ],
      "metadata": {
        "colab": {
          "base_uri": "https://localhost:8080/",
          "height": 156
        },
        "id": "eJXDtISZH5iE",
        "outputId": "a624136a-b9a0-4f1b-950a-b064cab07d51"
      },
      "execution_count": null,
      "outputs": [
        {
          "output_type": "display_data",
          "data": {
            "text/plain": [
              "0     2.0\n",
              "1     1.0\n",
              "2    12.0\n",
              "3     7.0\n",
              "4     4.5\n",
              "5     3.0\n",
              "6     4.0\n",
              "dtype: float64"
            ]
          },
          "metadata": {}
        }
      ]
    },
    {
      "cell_type": "code",
      "source": [
        "# you can pass another array for pandas to use as the index for the series\n",
        "# (default is to have an integer array as above)\n",
        "prices_pd = pd.Series(prices, index=names)\n",
        "display(prices_pd)"
      ],
      "metadata": {
        "colab": {
          "base_uri": "https://localhost:8080/",
          "height": 156
        },
        "id": "QUgJF2JNH-Eu",
        "outputId": "629191f1-8fe2-40ad-ad24-f35f347a3271"
      },
      "execution_count": null,
      "outputs": [
        {
          "output_type": "display_data",
          "data": {
            "text/plain": [
              "brownie          2.0\n",
              "cookie           1.0\n",
              "cake            12.0\n",
              "pie              7.0\n",
              "fudge            4.5\n",
              "cupcake          3.0\n",
              "banana bread     4.0\n",
              "dtype: float64"
            ]
          },
          "metadata": {}
        }
      ]
    },
    {
      "cell_type": "code",
      "source": [
        "# slicing from a series: need to use .loc[], with the index in []\n",
        "prices_pd.loc[\"cake\"]"
      ],
      "metadata": {
        "colab": {
          "base_uri": "https://localhost:8080/"
        },
        "id": "CKt0XRqFIkMc",
        "outputId": "7a543c08-26c8-4799-8754-0fbd64a36ec4"
      },
      "execution_count": null,
      "outputs": [
        {
          "output_type": "execute_result",
          "data": {
            "text/plain": [
              "12.0"
            ]
          },
          "metadata": {},
          "execution_count": 30
        }
      ]
    },
    {
      "cell_type": "code",
      "source": [
        "# to access the numpy array of values from the series without the indices:\n",
        "# use the .values attribute\n",
        "display(prices_pd.values)"
      ],
      "metadata": {
        "colab": {
          "base_uri": "https://localhost:8080/",
          "height": 34
        },
        "id": "Kc1incISI8LH",
        "outputId": "4a215f3b-90db-46f7-f432-cbd795d79a51"
      },
      "execution_count": null,
      "outputs": [
        {
          "output_type": "display_data",
          "data": {
            "text/plain": [
              "array([ 2. ,  1. , 12. ,  7. ,  4.5,  3. ,  4. ])"
            ]
          },
          "metadata": {}
        }
      ]
    },
    {
      "cell_type": "code",
      "source": [
        "# 2-DIMENSIONAL NUMPY ARRAYS\n",
        "# make sure that all lists are the same length\n",
        "data = np.array([names_list, prices_list, expenses_list, quantities_sold])\n",
        "display(data)"
      ],
      "metadata": {
        "id": "u6x1UUpGJc6D",
        "colab": {
          "base_uri": "https://localhost:8080/",
          "height": 86
        },
        "outputId": "62cc9cd9-eebf-4d55-a583-4d70a0001078"
      },
      "execution_count": null,
      "outputs": [
        {
          "output_type": "display_data",
          "data": {
            "text/plain": [
              "array([['brownie', 'cookie', 'cake'],\n",
              "       ['2', '1', '10'],\n",
              "       ['0.25', '0.5', '5'],\n",
              "       ['17', '40', '1']], dtype='<U32')"
            ]
          },
          "metadata": {}
        }
      ]
    },
    {
      "cell_type": "code",
      "source": [
        "print(data.shape)"
      ],
      "metadata": {
        "colab": {
          "base_uri": "https://localhost:8080/"
        },
        "id": "Aew22MOU8Zrw",
        "outputId": "62a8e87c-83db-46ae-a1fc-65368070ea89"
      },
      "execution_count": null,
      "outputs": [
        {
          "output_type": "stream",
          "name": "stdout",
          "text": [
            "(4, 3)\n"
          ]
        }
      ]
    },
    {
      "cell_type": "code",
      "source": [
        "print(data.ndim)"
      ],
      "metadata": {
        "colab": {
          "base_uri": "https://localhost:8080/"
        },
        "id": "PwZEXPg38i2_",
        "outputId": "e04cc570-8216-4891-c586-cf0b3838c962"
      },
      "execution_count": null,
      "outputs": [
        {
          "output_type": "stream",
          "name": "stdout",
          "text": [
            "2\n"
          ]
        }
      ]
    },
    {
      "cell_type": "code",
      "source": [
        "# can combine arrays using np.stack\n",
        "# throws an error\n",
        "# np.stack([names, prices, expenses, quantities_sold])"
      ],
      "metadata": {
        "id": "soW630jC8mhP"
      },
      "execution_count": null,
      "outputs": []
    },
    {
      "cell_type": "code",
      "source": [
        "print(names.shape, prices.shape, expenses.shape, quantities_sold.shape)"
      ],
      "metadata": {
        "colab": {
          "base_uri": "https://localhost:8080/"
        },
        "id": "c-kK3cne87tT",
        "outputId": "a9761a64-eb83-4d68-a247-94d129de17fc"
      },
      "execution_count": null,
      "outputs": [
        {
          "output_type": "stream",
          "name": "stdout",
          "text": [
            "(7,) (7,) (3,) (3,)\n"
          ]
        }
      ]
    },
    {
      "cell_type": "code",
      "source": [
        "expenses = np.append(expenses, [3.5, 2, .9, 1.25])\n",
        "quantities_sold = np.append(quantities_sold, [0, 0, 0, 0])\n",
        "display(expenses, quantities_sold)"
      ],
      "metadata": {
        "colab": {
          "base_uri": "https://localhost:8080/",
          "height": 52
        },
        "id": "igMSqKG79CqT",
        "outputId": "a83c5102-3244-4825-8b11-def62e7119ff"
      },
      "execution_count": null,
      "outputs": [
        {
          "output_type": "display_data",
          "data": {
            "text/plain": [
              "array([0.25, 0.5 , 5.  , 3.5 , 2.  , 0.9 , 1.25])"
            ]
          },
          "metadata": {}
        },
        {
          "output_type": "display_data",
          "data": {
            "text/plain": [
              "array([17, 40,  1,  0,  0,  0,  0])"
            ]
          },
          "metadata": {}
        }
      ]
    },
    {
      "cell_type": "code",
      "source": [
        "data = np.stack([names, prices, expenses, quantities_sold])\n",
        "print(data.shape)\n",
        "display(data)"
      ],
      "metadata": {
        "colab": {
          "base_uri": "https://localhost:8080/",
          "height": 121
        },
        "id": "JTuaBYE09c1p",
        "outputId": "9cfea3d2-a279-40d0-df93-0293ba60f763"
      },
      "execution_count": null,
      "outputs": [
        {
          "output_type": "stream",
          "name": "stdout",
          "text": [
            "(4, 7)\n"
          ]
        },
        {
          "output_type": "display_data",
          "data": {
            "text/plain": [
              "array([['brownie', 'cookie', 'cake', 'pie', 'fudge', 'cupcake',\n",
              "        'banana bread'],\n",
              "       ['2.0', '1.0', '12.0', '7.0', '4.5', '3.0', '4.0'],\n",
              "       ['0.25', '0.5', '5.0', '3.5', '2.0', '0.9', '1.25'],\n",
              "       ['17', '40', '1', '0', '0', '0', '0']], dtype='<U32')"
            ]
          },
          "metadata": {}
        }
      ]
    },
    {
      "cell_type": "code",
      "source": [
        "# to access a single datum in a 2D array, think of it as a spreadsheet\n",
        "# you need two numbers: first for the first axis location, and second for the second axis location\n",
        "# first number locates the row, second number locates the column\n",
        "\n",
        "# if you give a 2D array a single value to access, it will give you the 1D array at that location\n",
        "# arrays are zero-indexed\n",
        "\n",
        "data[1]"
      ],
      "metadata": {
        "colab": {
          "base_uri": "https://localhost:8080/"
        },
        "id": "x1JnuaOX9nU4",
        "outputId": "3b63061c-0730-4e37-9a53-87952e1830e9"
      },
      "execution_count": null,
      "outputs": [
        {
          "output_type": "execute_result",
          "data": {
            "text/plain": [
              "array(['2.0', '1.0', '12.0', '7.0', '4.5', '3.0', '4.0'], dtype='<U32')"
            ]
          },
          "metadata": {},
          "execution_count": 39
        }
      ]
    },
    {
      "cell_type": "code",
      "source": [
        "# one way to access: two sets of square brackets, one after another\n",
        "data[1][1]"
      ],
      "metadata": {
        "colab": {
          "base_uri": "https://localhost:8080/",
          "height": 35
        },
        "id": "0zgvhgDM-AMu",
        "outputId": "c1783f09-a6f1-435f-afc6-865b2998f686"
      },
      "execution_count": null,
      "outputs": [
        {
          "output_type": "execute_result",
          "data": {
            "text/plain": [
              "'1.0'"
            ],
            "application/vnd.google.colaboratory.intrinsic+json": {
              "type": "string"
            }
          },
          "metadata": {},
          "execution_count": 40
        }
      ]
    },
    {
      "cell_type": "code",
      "source": [
        "# another way to access: one set of square brackets with a comma inside\n",
        "data[1, 1]"
      ],
      "metadata": {
        "colab": {
          "base_uri": "https://localhost:8080/",
          "height": 35
        },
        "id": "IuD7kdid-ba3",
        "outputId": "8d8ed0a6-1f04-44df-9d43-ef4afeb93017"
      },
      "execution_count": null,
      "outputs": [
        {
          "output_type": "execute_result",
          "data": {
            "text/plain": [
              "'1.0'"
            ],
            "application/vnd.google.colaboratory.intrinsic+json": {
              "type": "string"
            }
          },
          "metadata": {},
          "execution_count": 41
        }
      ]
    },
    {
      "cell_type": "code",
      "source": [
        "# Pandas DataFrame allows us to label our arrays\n",
        "# first axis (rows) is referred to as index\n",
        "# second axis (columns) is referred to as columns\n",
        "\n",
        "# index and columns are arguments you can give pd.DataFrame\n",
        "\n",
        "# create a pd.DataFrame from an np.array\n",
        "\n",
        "baking_df = pd.DataFrame(data, index = ['names', 'price', 'expenses', 'quantities_sold'])\n",
        "display(baking_df)"
      ],
      "metadata": {
        "colab": {
          "base_uri": "https://localhost:8080/",
          "height": 174
        },
        "id": "YtOTOxDa-la3",
        "outputId": "58b382ce-d93a-41a0-bdee-c9e025fdf967"
      },
      "execution_count": null,
      "outputs": [
        {
          "output_type": "display_data",
          "data": {
            "text/plain": [
              "                       0       1     2    3      4        5             6\n",
              "names            brownie  cookie  cake  pie  fudge  cupcake  banana bread\n",
              "price                2.0     1.0  12.0  7.0    4.5      3.0           4.0\n",
              "expenses            0.25     0.5   5.0  3.5    2.0      0.9          1.25\n",
              "quantities_sold       17      40     1    0      0        0             0"
            ],
            "text/html": [
              "\n",
              "  <div id=\"df-46cf6198-e84f-49e7-a3d4-b840b5238a26\">\n",
              "    <div class=\"colab-df-container\">\n",
              "      <div>\n",
              "<style scoped>\n",
              "    .dataframe tbody tr th:only-of-type {\n",
              "        vertical-align: middle;\n",
              "    }\n",
              "\n",
              "    .dataframe tbody tr th {\n",
              "        vertical-align: top;\n",
              "    }\n",
              "\n",
              "    .dataframe thead th {\n",
              "        text-align: right;\n",
              "    }\n",
              "</style>\n",
              "<table border=\"1\" class=\"dataframe\">\n",
              "  <thead>\n",
              "    <tr style=\"text-align: right;\">\n",
              "      <th></th>\n",
              "      <th>0</th>\n",
              "      <th>1</th>\n",
              "      <th>2</th>\n",
              "      <th>3</th>\n",
              "      <th>4</th>\n",
              "      <th>5</th>\n",
              "      <th>6</th>\n",
              "    </tr>\n",
              "  </thead>\n",
              "  <tbody>\n",
              "    <tr>\n",
              "      <th>names</th>\n",
              "      <td>brownie</td>\n",
              "      <td>cookie</td>\n",
              "      <td>cake</td>\n",
              "      <td>pie</td>\n",
              "      <td>fudge</td>\n",
              "      <td>cupcake</td>\n",
              "      <td>banana bread</td>\n",
              "    </tr>\n",
              "    <tr>\n",
              "      <th>price</th>\n",
              "      <td>2.0</td>\n",
              "      <td>1.0</td>\n",
              "      <td>12.0</td>\n",
              "      <td>7.0</td>\n",
              "      <td>4.5</td>\n",
              "      <td>3.0</td>\n",
              "      <td>4.0</td>\n",
              "    </tr>\n",
              "    <tr>\n",
              "      <th>expenses</th>\n",
              "      <td>0.25</td>\n",
              "      <td>0.5</td>\n",
              "      <td>5.0</td>\n",
              "      <td>3.5</td>\n",
              "      <td>2.0</td>\n",
              "      <td>0.9</td>\n",
              "      <td>1.25</td>\n",
              "    </tr>\n",
              "    <tr>\n",
              "      <th>quantities_sold</th>\n",
              "      <td>17</td>\n",
              "      <td>40</td>\n",
              "      <td>1</td>\n",
              "      <td>0</td>\n",
              "      <td>0</td>\n",
              "      <td>0</td>\n",
              "      <td>0</td>\n",
              "    </tr>\n",
              "  </tbody>\n",
              "</table>\n",
              "</div>\n",
              "      <button class=\"colab-df-convert\" onclick=\"convertToInteractive('df-46cf6198-e84f-49e7-a3d4-b840b5238a26')\"\n",
              "              title=\"Convert this dataframe to an interactive table.\"\n",
              "              style=\"display:none;\">\n",
              "        \n",
              "  <svg xmlns=\"http://www.w3.org/2000/svg\" height=\"24px\"viewBox=\"0 0 24 24\"\n",
              "       width=\"24px\">\n",
              "    <path d=\"M0 0h24v24H0V0z\" fill=\"none\"/>\n",
              "    <path d=\"M18.56 5.44l.94 2.06.94-2.06 2.06-.94-2.06-.94-.94-2.06-.94 2.06-2.06.94zm-11 1L8.5 8.5l.94-2.06 2.06-.94-2.06-.94L8.5 2.5l-.94 2.06-2.06.94zm10 10l.94 2.06.94-2.06 2.06-.94-2.06-.94-.94-2.06-.94 2.06-2.06.94z\"/><path d=\"M17.41 7.96l-1.37-1.37c-.4-.4-.92-.59-1.43-.59-.52 0-1.04.2-1.43.59L10.3 9.45l-7.72 7.72c-.78.78-.78 2.05 0 2.83L4 21.41c.39.39.9.59 1.41.59.51 0 1.02-.2 1.41-.59l7.78-7.78 2.81-2.81c.8-.78.8-2.07 0-2.86zM5.41 20L4 18.59l7.72-7.72 1.47 1.35L5.41 20z\"/>\n",
              "  </svg>\n",
              "      </button>\n",
              "      \n",
              "  <style>\n",
              "    .colab-df-container {\n",
              "      display:flex;\n",
              "      flex-wrap:wrap;\n",
              "      gap: 12px;\n",
              "    }\n",
              "\n",
              "    .colab-df-convert {\n",
              "      background-color: #E8F0FE;\n",
              "      border: none;\n",
              "      border-radius: 50%;\n",
              "      cursor: pointer;\n",
              "      display: none;\n",
              "      fill: #1967D2;\n",
              "      height: 32px;\n",
              "      padding: 0 0 0 0;\n",
              "      width: 32px;\n",
              "    }\n",
              "\n",
              "    .colab-df-convert:hover {\n",
              "      background-color: #E2EBFA;\n",
              "      box-shadow: 0px 1px 2px rgba(60, 64, 67, 0.3), 0px 1px 3px 1px rgba(60, 64, 67, 0.15);\n",
              "      fill: #174EA6;\n",
              "    }\n",
              "\n",
              "    [theme=dark] .colab-df-convert {\n",
              "      background-color: #3B4455;\n",
              "      fill: #D2E3FC;\n",
              "    }\n",
              "\n",
              "    [theme=dark] .colab-df-convert:hover {\n",
              "      background-color: #434B5C;\n",
              "      box-shadow: 0px 1px 3px 1px rgba(0, 0, 0, 0.15);\n",
              "      filter: drop-shadow(0px 1px 2px rgba(0, 0, 0, 0.3));\n",
              "      fill: #FFFFFF;\n",
              "    }\n",
              "  </style>\n",
              "\n",
              "      <script>\n",
              "        const buttonEl =\n",
              "          document.querySelector('#df-46cf6198-e84f-49e7-a3d4-b840b5238a26 button.colab-df-convert');\n",
              "        buttonEl.style.display =\n",
              "          google.colab.kernel.accessAllowed ? 'block' : 'none';\n",
              "\n",
              "        async function convertToInteractive(key) {\n",
              "          const element = document.querySelector('#df-46cf6198-e84f-49e7-a3d4-b840b5238a26');\n",
              "          const dataTable =\n",
              "            await google.colab.kernel.invokeFunction('convertToInteractive',\n",
              "                                                     [key], {});\n",
              "          if (!dataTable) return;\n",
              "\n",
              "          const docLinkHtml = 'Like what you see? Visit the ' +\n",
              "            '<a target=\"_blank\" href=https://colab.research.google.com/notebooks/data_table.ipynb>data table notebook</a>'\n",
              "            + ' to learn more about interactive tables.';\n",
              "          element.innerHTML = '';\n",
              "          dataTable['output_type'] = 'display_data';\n",
              "          await google.colab.output.renderOutput(dataTable, element);\n",
              "          const docLink = document.createElement('div');\n",
              "          docLink.innerHTML = docLinkHtml;\n",
              "          element.appendChild(docLink);\n",
              "        }\n",
              "      </script>\n",
              "    </div>\n",
              "  </div>\n",
              "  "
            ]
          },
          "metadata": {}
        }
      ]
    },
    {
      "cell_type": "code",
      "source": [
        "# switch the rows and columns by using transpose: df.T\n",
        "\n",
        "baking_df = baking_df.T\n",
        "display(baking_df)"
      ],
      "metadata": {
        "colab": {
          "base_uri": "https://localhost:8080/",
          "height": 269
        },
        "id": "PpI2ZsRa_aZn",
        "outputId": "fd93cab3-5ecd-4137-b6ff-6bc443b1e5ef"
      },
      "execution_count": null,
      "outputs": [
        {
          "output_type": "display_data",
          "data": {
            "text/plain": [
              "          names price expenses quantities_sold\n",
              "0       brownie   2.0     0.25              17\n",
              "1        cookie   1.0      0.5              40\n",
              "2          cake  12.0      5.0               1\n",
              "3           pie   7.0      3.5               0\n",
              "4         fudge   4.5      2.0               0\n",
              "5       cupcake   3.0      0.9               0\n",
              "6  banana bread   4.0     1.25               0"
            ],
            "text/html": [
              "\n",
              "  <div id=\"df-d44928c6-9dc2-48f2-8ed6-eda8375a80d5\">\n",
              "    <div class=\"colab-df-container\">\n",
              "      <div>\n",
              "<style scoped>\n",
              "    .dataframe tbody tr th:only-of-type {\n",
              "        vertical-align: middle;\n",
              "    }\n",
              "\n",
              "    .dataframe tbody tr th {\n",
              "        vertical-align: top;\n",
              "    }\n",
              "\n",
              "    .dataframe thead th {\n",
              "        text-align: right;\n",
              "    }\n",
              "</style>\n",
              "<table border=\"1\" class=\"dataframe\">\n",
              "  <thead>\n",
              "    <tr style=\"text-align: right;\">\n",
              "      <th></th>\n",
              "      <th>names</th>\n",
              "      <th>price</th>\n",
              "      <th>expenses</th>\n",
              "      <th>quantities_sold</th>\n",
              "    </tr>\n",
              "  </thead>\n",
              "  <tbody>\n",
              "    <tr>\n",
              "      <th>0</th>\n",
              "      <td>brownie</td>\n",
              "      <td>2.0</td>\n",
              "      <td>0.25</td>\n",
              "      <td>17</td>\n",
              "    </tr>\n",
              "    <tr>\n",
              "      <th>1</th>\n",
              "      <td>cookie</td>\n",
              "      <td>1.0</td>\n",
              "      <td>0.5</td>\n",
              "      <td>40</td>\n",
              "    </tr>\n",
              "    <tr>\n",
              "      <th>2</th>\n",
              "      <td>cake</td>\n",
              "      <td>12.0</td>\n",
              "      <td>5.0</td>\n",
              "      <td>1</td>\n",
              "    </tr>\n",
              "    <tr>\n",
              "      <th>3</th>\n",
              "      <td>pie</td>\n",
              "      <td>7.0</td>\n",
              "      <td>3.5</td>\n",
              "      <td>0</td>\n",
              "    </tr>\n",
              "    <tr>\n",
              "      <th>4</th>\n",
              "      <td>fudge</td>\n",
              "      <td>4.5</td>\n",
              "      <td>2.0</td>\n",
              "      <td>0</td>\n",
              "    </tr>\n",
              "    <tr>\n",
              "      <th>5</th>\n",
              "      <td>cupcake</td>\n",
              "      <td>3.0</td>\n",
              "      <td>0.9</td>\n",
              "      <td>0</td>\n",
              "    </tr>\n",
              "    <tr>\n",
              "      <th>6</th>\n",
              "      <td>banana bread</td>\n",
              "      <td>4.0</td>\n",
              "      <td>1.25</td>\n",
              "      <td>0</td>\n",
              "    </tr>\n",
              "  </tbody>\n",
              "</table>\n",
              "</div>\n",
              "      <button class=\"colab-df-convert\" onclick=\"convertToInteractive('df-d44928c6-9dc2-48f2-8ed6-eda8375a80d5')\"\n",
              "              title=\"Convert this dataframe to an interactive table.\"\n",
              "              style=\"display:none;\">\n",
              "        \n",
              "  <svg xmlns=\"http://www.w3.org/2000/svg\" height=\"24px\"viewBox=\"0 0 24 24\"\n",
              "       width=\"24px\">\n",
              "    <path d=\"M0 0h24v24H0V0z\" fill=\"none\"/>\n",
              "    <path d=\"M18.56 5.44l.94 2.06.94-2.06 2.06-.94-2.06-.94-.94-2.06-.94 2.06-2.06.94zm-11 1L8.5 8.5l.94-2.06 2.06-.94-2.06-.94L8.5 2.5l-.94 2.06-2.06.94zm10 10l.94 2.06.94-2.06 2.06-.94-2.06-.94-.94-2.06-.94 2.06-2.06.94z\"/><path d=\"M17.41 7.96l-1.37-1.37c-.4-.4-.92-.59-1.43-.59-.52 0-1.04.2-1.43.59L10.3 9.45l-7.72 7.72c-.78.78-.78 2.05 0 2.83L4 21.41c.39.39.9.59 1.41.59.51 0 1.02-.2 1.41-.59l7.78-7.78 2.81-2.81c.8-.78.8-2.07 0-2.86zM5.41 20L4 18.59l7.72-7.72 1.47 1.35L5.41 20z\"/>\n",
              "  </svg>\n",
              "      </button>\n",
              "      \n",
              "  <style>\n",
              "    .colab-df-container {\n",
              "      display:flex;\n",
              "      flex-wrap:wrap;\n",
              "      gap: 12px;\n",
              "    }\n",
              "\n",
              "    .colab-df-convert {\n",
              "      background-color: #E8F0FE;\n",
              "      border: none;\n",
              "      border-radius: 50%;\n",
              "      cursor: pointer;\n",
              "      display: none;\n",
              "      fill: #1967D2;\n",
              "      height: 32px;\n",
              "      padding: 0 0 0 0;\n",
              "      width: 32px;\n",
              "    }\n",
              "\n",
              "    .colab-df-convert:hover {\n",
              "      background-color: #E2EBFA;\n",
              "      box-shadow: 0px 1px 2px rgba(60, 64, 67, 0.3), 0px 1px 3px 1px rgba(60, 64, 67, 0.15);\n",
              "      fill: #174EA6;\n",
              "    }\n",
              "\n",
              "    [theme=dark] .colab-df-convert {\n",
              "      background-color: #3B4455;\n",
              "      fill: #D2E3FC;\n",
              "    }\n",
              "\n",
              "    [theme=dark] .colab-df-convert:hover {\n",
              "      background-color: #434B5C;\n",
              "      box-shadow: 0px 1px 3px 1px rgba(0, 0, 0, 0.15);\n",
              "      filter: drop-shadow(0px 1px 2px rgba(0, 0, 0, 0.3));\n",
              "      fill: #FFFFFF;\n",
              "    }\n",
              "  </style>\n",
              "\n",
              "      <script>\n",
              "        const buttonEl =\n",
              "          document.querySelector('#df-d44928c6-9dc2-48f2-8ed6-eda8375a80d5 button.colab-df-convert');\n",
              "        buttonEl.style.display =\n",
              "          google.colab.kernel.accessAllowed ? 'block' : 'none';\n",
              "\n",
              "        async function convertToInteractive(key) {\n",
              "          const element = document.querySelector('#df-d44928c6-9dc2-48f2-8ed6-eda8375a80d5');\n",
              "          const dataTable =\n",
              "            await google.colab.kernel.invokeFunction('convertToInteractive',\n",
              "                                                     [key], {});\n",
              "          if (!dataTable) return;\n",
              "\n",
              "          const docLinkHtml = 'Like what you see? Visit the ' +\n",
              "            '<a target=\"_blank\" href=https://colab.research.google.com/notebooks/data_table.ipynb>data table notebook</a>'\n",
              "            + ' to learn more about interactive tables.';\n",
              "          element.innerHTML = '';\n",
              "          dataTable['output_type'] = 'display_data';\n",
              "          await google.colab.output.renderOutput(dataTable, element);\n",
              "          const docLink = document.createElement('div');\n",
              "          docLink.innerHTML = docLinkHtml;\n",
              "          element.appendChild(docLink);\n",
              "        }\n",
              "      </script>\n",
              "    </div>\n",
              "  </div>\n",
              "  "
            ]
          },
          "metadata": {}
        }
      ]
    },
    {
      "cell_type": "code",
      "source": [
        "baking_df = baking_df.set_index('names')\n",
        "display(baking_df)"
      ],
      "metadata": {
        "colab": {
          "base_uri": "https://localhost:8080/",
          "height": 300
        },
        "id": "cqKHN9-w_lxm",
        "outputId": "2aae027d-8682-44cf-8bfe-530d4b7141c1"
      },
      "execution_count": null,
      "outputs": [
        {
          "output_type": "display_data",
          "data": {
            "text/plain": [
              "             price expenses quantities_sold\n",
              "names                                      \n",
              "brownie        2.0     0.25              17\n",
              "cookie         1.0      0.5              40\n",
              "cake          12.0      5.0               1\n",
              "pie            7.0      3.5               0\n",
              "fudge          4.5      2.0               0\n",
              "cupcake        3.0      0.9               0\n",
              "banana bread   4.0     1.25               0"
            ],
            "text/html": [
              "\n",
              "  <div id=\"df-1d858a18-a1fa-48ea-845e-76d451afc1c7\">\n",
              "    <div class=\"colab-df-container\">\n",
              "      <div>\n",
              "<style scoped>\n",
              "    .dataframe tbody tr th:only-of-type {\n",
              "        vertical-align: middle;\n",
              "    }\n",
              "\n",
              "    .dataframe tbody tr th {\n",
              "        vertical-align: top;\n",
              "    }\n",
              "\n",
              "    .dataframe thead th {\n",
              "        text-align: right;\n",
              "    }\n",
              "</style>\n",
              "<table border=\"1\" class=\"dataframe\">\n",
              "  <thead>\n",
              "    <tr style=\"text-align: right;\">\n",
              "      <th></th>\n",
              "      <th>price</th>\n",
              "      <th>expenses</th>\n",
              "      <th>quantities_sold</th>\n",
              "    </tr>\n",
              "    <tr>\n",
              "      <th>names</th>\n",
              "      <th></th>\n",
              "      <th></th>\n",
              "      <th></th>\n",
              "    </tr>\n",
              "  </thead>\n",
              "  <tbody>\n",
              "    <tr>\n",
              "      <th>brownie</th>\n",
              "      <td>2.0</td>\n",
              "      <td>0.25</td>\n",
              "      <td>17</td>\n",
              "    </tr>\n",
              "    <tr>\n",
              "      <th>cookie</th>\n",
              "      <td>1.0</td>\n",
              "      <td>0.5</td>\n",
              "      <td>40</td>\n",
              "    </tr>\n",
              "    <tr>\n",
              "      <th>cake</th>\n",
              "      <td>12.0</td>\n",
              "      <td>5.0</td>\n",
              "      <td>1</td>\n",
              "    </tr>\n",
              "    <tr>\n",
              "      <th>pie</th>\n",
              "      <td>7.0</td>\n",
              "      <td>3.5</td>\n",
              "      <td>0</td>\n",
              "    </tr>\n",
              "    <tr>\n",
              "      <th>fudge</th>\n",
              "      <td>4.5</td>\n",
              "      <td>2.0</td>\n",
              "      <td>0</td>\n",
              "    </tr>\n",
              "    <tr>\n",
              "      <th>cupcake</th>\n",
              "      <td>3.0</td>\n",
              "      <td>0.9</td>\n",
              "      <td>0</td>\n",
              "    </tr>\n",
              "    <tr>\n",
              "      <th>banana bread</th>\n",
              "      <td>4.0</td>\n",
              "      <td>1.25</td>\n",
              "      <td>0</td>\n",
              "    </tr>\n",
              "  </tbody>\n",
              "</table>\n",
              "</div>\n",
              "      <button class=\"colab-df-convert\" onclick=\"convertToInteractive('df-1d858a18-a1fa-48ea-845e-76d451afc1c7')\"\n",
              "              title=\"Convert this dataframe to an interactive table.\"\n",
              "              style=\"display:none;\">\n",
              "        \n",
              "  <svg xmlns=\"http://www.w3.org/2000/svg\" height=\"24px\"viewBox=\"0 0 24 24\"\n",
              "       width=\"24px\">\n",
              "    <path d=\"M0 0h24v24H0V0z\" fill=\"none\"/>\n",
              "    <path d=\"M18.56 5.44l.94 2.06.94-2.06 2.06-.94-2.06-.94-.94-2.06-.94 2.06-2.06.94zm-11 1L8.5 8.5l.94-2.06 2.06-.94-2.06-.94L8.5 2.5l-.94 2.06-2.06.94zm10 10l.94 2.06.94-2.06 2.06-.94-2.06-.94-.94-2.06-.94 2.06-2.06.94z\"/><path d=\"M17.41 7.96l-1.37-1.37c-.4-.4-.92-.59-1.43-.59-.52 0-1.04.2-1.43.59L10.3 9.45l-7.72 7.72c-.78.78-.78 2.05 0 2.83L4 21.41c.39.39.9.59 1.41.59.51 0 1.02-.2 1.41-.59l7.78-7.78 2.81-2.81c.8-.78.8-2.07 0-2.86zM5.41 20L4 18.59l7.72-7.72 1.47 1.35L5.41 20z\"/>\n",
              "  </svg>\n",
              "      </button>\n",
              "      \n",
              "  <style>\n",
              "    .colab-df-container {\n",
              "      display:flex;\n",
              "      flex-wrap:wrap;\n",
              "      gap: 12px;\n",
              "    }\n",
              "\n",
              "    .colab-df-convert {\n",
              "      background-color: #E8F0FE;\n",
              "      border: none;\n",
              "      border-radius: 50%;\n",
              "      cursor: pointer;\n",
              "      display: none;\n",
              "      fill: #1967D2;\n",
              "      height: 32px;\n",
              "      padding: 0 0 0 0;\n",
              "      width: 32px;\n",
              "    }\n",
              "\n",
              "    .colab-df-convert:hover {\n",
              "      background-color: #E2EBFA;\n",
              "      box-shadow: 0px 1px 2px rgba(60, 64, 67, 0.3), 0px 1px 3px 1px rgba(60, 64, 67, 0.15);\n",
              "      fill: #174EA6;\n",
              "    }\n",
              "\n",
              "    [theme=dark] .colab-df-convert {\n",
              "      background-color: #3B4455;\n",
              "      fill: #D2E3FC;\n",
              "    }\n",
              "\n",
              "    [theme=dark] .colab-df-convert:hover {\n",
              "      background-color: #434B5C;\n",
              "      box-shadow: 0px 1px 3px 1px rgba(0, 0, 0, 0.15);\n",
              "      filter: drop-shadow(0px 1px 2px rgba(0, 0, 0, 0.3));\n",
              "      fill: #FFFFFF;\n",
              "    }\n",
              "  </style>\n",
              "\n",
              "      <script>\n",
              "        const buttonEl =\n",
              "          document.querySelector('#df-1d858a18-a1fa-48ea-845e-76d451afc1c7 button.colab-df-convert');\n",
              "        buttonEl.style.display =\n",
              "          google.colab.kernel.accessAllowed ? 'block' : 'none';\n",
              "\n",
              "        async function convertToInteractive(key) {\n",
              "          const element = document.querySelector('#df-1d858a18-a1fa-48ea-845e-76d451afc1c7');\n",
              "          const dataTable =\n",
              "            await google.colab.kernel.invokeFunction('convertToInteractive',\n",
              "                                                     [key], {});\n",
              "          if (!dataTable) return;\n",
              "\n",
              "          const docLinkHtml = 'Like what you see? Visit the ' +\n",
              "            '<a target=\"_blank\" href=https://colab.research.google.com/notebooks/data_table.ipynb>data table notebook</a>'\n",
              "            + ' to learn more about interactive tables.';\n",
              "          element.innerHTML = '';\n",
              "          dataTable['output_type'] = 'display_data';\n",
              "          await google.colab.output.renderOutput(dataTable, element);\n",
              "          const docLink = document.createElement('div');\n",
              "          docLink.innerHTML = docLinkHtml;\n",
              "          element.appendChild(docLink);\n",
              "        }\n",
              "      </script>\n",
              "    </div>\n",
              "  </div>\n",
              "  "
            ]
          },
          "metadata": {}
        }
      ]
    },
    {
      "cell_type": "code",
      "source": [
        "# Bakery NumPy Exercise (Core)\n",
        "# step 1\n",
        "# Open the notebook you created during the previous lesson: \"Working With NumPy \n",
        "# Arrays\"\n",
        "\n",
        "# step 2\n",
        "# Use enumerate to loop through the names array and print the index number and \n",
        "# name for every baked good.\n",
        "\n",
        "for i in enumerate(names):\n",
        "  print(f\"Index {i}\")\n",
        "\n",
        "print('')\n",
        "\n",
        "for i, name in enumerate(names):\n",
        "  print(f\"Index {i}: {name}\")\n"
      ],
      "metadata": {
        "colab": {
          "base_uri": "https://localhost:8080/"
        },
        "id": "AROweYrK_wtP",
        "outputId": "5620f56d-4100-42a4-f3a4-85ee0e9c96ef"
      },
      "execution_count": null,
      "outputs": [
        {
          "output_type": "stream",
          "name": "stdout",
          "text": [
            "Index (0, 'brownie')\n",
            "Index (1, 'cookie')\n",
            "Index (2, 'cake')\n",
            "Index (3, 'pie')\n",
            "Index (4, 'fudge')\n",
            "Index (5, 'cupcake')\n",
            "Index (6, 'banana bread')\n",
            "\n",
            "Index 0: brownie\n",
            "Index 1: cookie\n",
            "Index 2: cake\n",
            "Index 3: pie\n",
            "Index 4: fudge\n",
            "Index 5: cupcake\n",
            "Index 6: banana bread\n"
          ]
        }
      ]
    },
    {
      "cell_type": "code",
      "source": [
        "# step 3\n",
        "# Update the quantity_sold_array to include the sale of 2 pies, 3 trays of \n",
        "# fudge, 16 cupcakes, and 5 loaves of banana bread. You also realize that one \n",
        "# of the cookies you thought was sold had actually fallen on the ground, so \n",
        "# edit the quantity_sold_array from 40 to 39.\n",
        "\n",
        "quantities_sold[3] = 2\n",
        "quantities_sold[4] = 3\n",
        "quantities_sold[5] = 16\n",
        "quantities_sold[6] = 5\n",
        "quantities_sold[1] = 39\n",
        "\n",
        "display(quantities_sold)"
      ],
      "metadata": {
        "colab": {
          "base_uri": "https://localhost:8080/",
          "height": 34
        },
        "id": "UNBUsxdGCVbP",
        "outputId": "2f7d6c5e-a917-4d9e-8275-ee1619266f85"
      },
      "execution_count": null,
      "outputs": [
        {
          "output_type": "display_data",
          "data": {
            "text/plain": [
              "array([17, 39,  1,  2,  3, 16,  5])"
            ]
          },
          "metadata": {}
        }
      ]
    },
    {
      "cell_type": "code",
      "source": [
        "# step 4\n",
        "# Determine the amount of money collected from the sale of each item at the \n",
        "# bake sale.\n",
        "\n",
        "gross_profits = quantities_sold * prices\n",
        "print(f\"Gross profits: {gross_profits}\")"
      ],
      "metadata": {
        "colab": {
          "base_uri": "https://localhost:8080/"
        },
        "id": "VgW68vhmE5Kt",
        "outputId": "4b7f7bd4-c2dd-4299-f44f-0e2293d04caa"
      },
      "execution_count": null,
      "outputs": [
        {
          "output_type": "stream",
          "name": "stdout",
          "text": [
            "Gross profits: [34.  39.  12.  14.  13.5 48.  20. ]\n"
          ]
        }
      ]
    },
    {
      "cell_type": "code",
      "source": [
        "# step 5\n",
        "# Create a NumPy array \"quantity_leftover\" that includes the quantity of each \n",
        "# item remaining at the end of the sale: 2 cakes, 1 pie, 6 trays of fudge, 2 \n",
        "# loaves of banana bread. Hint: Make sure to include \"0\" for any item that was \n",
        "# sold out. Why is this important when creating the array?\n",
        "# A: the arrays need to be the same shapes to do any calculations\n",
        "\n",
        "quantity_leftover = np.array([0, 0, 2, 1, 6, 0, 2])\n",
        "display(quantity_leftover)"
      ],
      "metadata": {
        "colab": {
          "base_uri": "https://localhost:8080/",
          "height": 34
        },
        "id": "C4yN-PP-FbXO",
        "outputId": "1829c3a6-b1ce-47e5-8628-339575d0b11a"
      },
      "execution_count": null,
      "outputs": [
        {
          "output_type": "display_data",
          "data": {
            "text/plain": [
              "array([0, 0, 2, 1, 6, 0, 2])"
            ]
          },
          "metadata": {}
        }
      ]
    },
    {
      "cell_type": "code",
      "source": [
        "# step 6\n",
        "# The club decides to sell the leftover items at half price and everything \n",
        "# quickly sells out! Determine how much money was collected from the clearance \n",
        "# sale.\n",
        "\n",
        "clearance_sale_gross_profits = quantity_leftover * (prices * 0.5)\n",
        "print(f\"Clearance Sale gross profits: {clearance_sale_gross_profits}\")\n",
        "\n",
        "clearance_sale_sum = clearance_sale_gross_profits.sum()\n",
        "print(f\"Clearance Sale sum: {clearance_sale_sum}\")"
      ],
      "metadata": {
        "colab": {
          "base_uri": "https://localhost:8080/"
        },
        "id": "j7b9KH1kHc89",
        "outputId": "d29a8e03-e9f3-456f-e1e8-4d2f5546e55c"
      },
      "execution_count": null,
      "outputs": [
        {
          "output_type": "stream",
          "name": "stdout",
          "text": [
            "Clearance Sale gross profits: [ 0.   0.  12.   3.5 13.5  0.   4. ]\n",
            "Clearance Sale sum: 33.0\n"
          ]
        }
      ]
    },
    {
      "cell_type": "code",
      "source": [
        "# step 7\n",
        "# How much total money was collected from the bake sale (including the sale of \n",
        "# full price and clearance items)?\n",
        "\n",
        "total_gross_profits = gross_profits + clearance_sale_gross_profits\n",
        "total_money = total_gross_profits.sum()\n",
        "print(f\"Total money generated: ${total_money:.2f}\")"
      ],
      "metadata": {
        "colab": {
          "base_uri": "https://localhost:8080/"
        },
        "id": "hIN71z3pJK0l",
        "outputId": "e582e5f3-6cb6-4441-a62e-90f1f2ffbb62"
      },
      "execution_count": null,
      "outputs": [
        {
          "output_type": "stream",
          "name": "stdout",
          "text": [
            "Total money generated: $213.50\n"
          ]
        }
      ]
    },
    {
      "cell_type": "code",
      "source": [],
      "metadata": {
        "id": "xXkK1aQ6JzVl"
      },
      "execution_count": null,
      "outputs": []
    }
  ]
}