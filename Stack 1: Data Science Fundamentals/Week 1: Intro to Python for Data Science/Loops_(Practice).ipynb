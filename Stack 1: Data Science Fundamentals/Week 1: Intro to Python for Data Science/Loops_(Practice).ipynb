{
  "nbformat": 4,
  "nbformat_minor": 0,
  "metadata": {
    "colab": {
      "provenance": [],
      "authorship_tag": "ABX9TyOM2peuk2AIFlnxJ1j4ffmP",
      "include_colab_link": true
    },
    "kernelspec": {
      "name": "python3",
      "display_name": "Python 3"
    },
    "language_info": {
      "name": "python"
    }
  },
  "cells": [
    {
      "cell_type": "markdown",
      "metadata": {
        "id": "view-in-github",
        "colab_type": "text"
      },
      "source": [
        "<a href=\"https://colab.research.google.com/github/kellianneyang/bootcamp-assignments/blob/main/Loops_(Practice).ipynb\" target=\"_parent\"><img src=\"https://colab.research.google.com/assets/colab-badge.svg\" alt=\"Open In Colab\"/></a>"
      ]
    },
    {
      "cell_type": "code",
      "execution_count": null,
      "metadata": {
        "id": "sOYlS1Hf7eg_"
      },
      "outputs": [],
      "source": [
        "# iterable: anything that can be traversed in order, e.g., lists, tuples, \n",
        "# dictioonaries, sets, strings, and range objects\n",
        "# not iterable: integers, booleans, floats\n",
        "\n",
        "# list comprehension: a way to execute a for-loop in one line of code\n",
        "# code occurs within a list (i.e., within square brackets [])\n",
        "# first part is the transformation, then the for-loop statement\n",
        "# e.g., [num*2 for num in X]\n",
        "# CANNOT define new temporary variables in list comprehension\n",
        "# w3 schools resource for list comprehensions: https://www.w3schools.com/python/python_lists_comprehension.asp\n"
      ]
    },
    {
      "cell_type": "code",
      "source": [
        "fahrenheit_temps = [65, 60, 55, 72, 67, 84]\n",
        "\n",
        "# list comprehension solution\n",
        "celsius_temps_1 = [round((num - 32) * (5/9), 2) for num in fahrenheit_temps]\n",
        "print(celsius_temps_1)"
      ],
      "metadata": {
        "colab": {
          "base_uri": "https://localhost:8080/"
        },
        "id": "yrCqQDJr9DKh",
        "outputId": "a9dd0c52-333f-4642-fbd0-a9c04c17ced7"
      },
      "execution_count": null,
      "outputs": [
        {
          "output_type": "stream",
          "name": "stdout",
          "text": [
            "[18.33, 15.56, 12.78, 22.22, 19.44, 28.89]\n"
          ]
        }
      ]
    },
    {
      "cell_type": "code",
      "source": [
        "# regular for-loop solution\n",
        "celsius_temps_2 = []\n",
        "for num in fahrenheit_temps:\n",
        "  c_temp = (num -32) * (5/9)\n",
        "  c_temp = round(c_temp, 2)\n",
        "  celsius_temps_2.append(c_temp)\n",
        "\n",
        "print(celsius_temps_2)\n"
      ],
      "metadata": {
        "colab": {
          "base_uri": "https://localhost:8080/"
        },
        "id": "aS16zTLP9TJf",
        "outputId": "cb6c1fb0-371e-4e27-f122-227f4774fc3d"
      },
      "execution_count": null,
      "outputs": [
        {
          "output_type": "stream",
          "name": "stdout",
          "text": [
            "[18.33, 15.56, 12.78, 22.22, 19.44, 28.89]\n"
          ]
        }
      ]
    },
    {
      "cell_type": "code",
      "source": [
        "# a range is a numeric sequence of INTEGERS (no floats)\n",
        "# 3 values: start (included), stop (excluded), and step (increment)\n",
        "demo_range = range(2, 11, 2)\n",
        "for i in demo_range:\n",
        "  print(i)"
      ],
      "metadata": {
        "colab": {
          "base_uri": "https://localhost:8080/"
        },
        "id": "G1V9c7Ra-gIQ",
        "outputId": "51402be4-565e-4621-bbcf-1aec22d596f2"
      },
      "execution_count": null,
      "outputs": [
        {
          "output_type": "stream",
          "name": "stdout",
          "text": [
            "2\n",
            "4\n",
            "6\n",
            "8\n",
            "10\n"
          ]
        }
      ]
    },
    {
      "cell_type": "code",
      "source": [
        "# default arguments for range():\n",
        "# start: 0\n",
        "# step (increment): 1\n",
        "default_range = range(7)\n",
        "for i in default_range:\n",
        "  print(i)"
      ],
      "metadata": {
        "colab": {
          "base_uri": "https://localhost:8080/"
        },
        "id": "FctO5Q8s_M2s",
        "outputId": "d6d9b8f2-4d6c-4140-e71b-19611709cff8"
      },
      "execution_count": null,
      "outputs": [
        {
          "output_type": "stream",
          "name": "stdout",
          "text": [
            "0\n",
            "1\n",
            "2\n",
            "3\n",
            "4\n",
            "5\n",
            "6\n"
          ]
        }
      ]
    },
    {
      "cell_type": "code",
      "source": [
        "# can typecast a range object into a list if needed\n",
        "list(default_range)"
      ],
      "metadata": {
        "colab": {
          "base_uri": "https://localhost:8080/"
        },
        "id": "Czhh6_-5_d7X",
        "outputId": "81dbdd42-236e-41ac-8f03-d28498ab714e"
      },
      "execution_count": null,
      "outputs": [
        {
          "output_type": "execute_result",
          "data": {
            "text/plain": [
              "[0, 1, 2, 3, 4, 5, 6]"
            ]
          },
          "metadata": {},
          "execution_count": 15
        }
      ]
    },
    {
      "cell_type": "code",
      "source": [
        "# use break to stop a loop when some condition should stop the loop from iterating any further\n",
        "for i in demo_range:\n",
        "  print(i)\n",
        "  if i > 5:\n",
        "    break"
      ],
      "metadata": {
        "colab": {
          "base_uri": "https://localhost:8080/"
        },
        "id": "-lyKrB7J_rM4",
        "outputId": "2b23faad-4da7-461b-e153-abbb0ea16790"
      },
      "execution_count": null,
      "outputs": [
        {
          "output_type": "stream",
          "name": "stdout",
          "text": [
            "2\n",
            "4\n",
            "6\n"
          ]
        }
      ]
    }
  ]
}
