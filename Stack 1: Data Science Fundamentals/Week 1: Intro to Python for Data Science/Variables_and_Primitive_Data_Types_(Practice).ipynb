{
  "nbformat": 4,
  "nbformat_minor": 0,
  "metadata": {
    "colab": {
      "provenance": [],
      "include_colab_link": true
    },
    "kernelspec": {
      "name": "python3",
      "display_name": "Python 3"
    },
    "language_info": {
      "name": "python"
    }
  },
  "cells": [
    {
      "cell_type": "markdown",
      "metadata": {
        "id": "view-in-github",
        "colab_type": "text"
      },
      "source": [
        "<a href=\"https://colab.research.google.com/github/kellianneyang/bootcamp-assignments/blob/main/Variables_and_Primitive_Data_Types_(Practice).ipynb\" target=\"_parent\"><img src=\"https://colab.research.google.com/assets/colab-badge.svg\" alt=\"Open In Colab\"/></a>"
      ]
    },
    {
      "cell_type": "markdown",
      "source": [
        "# Variables and Primitive Data Types Practice"
      ],
      "metadata": {
        "id": "zy9NuR2fuGeT"
      }
    },
    {
      "cell_type": "markdown",
      "source": [
        "# Task 0\n",
        "Print the string 'Hello World!'"
      ],
      "metadata": {
        "id": "uyujPC7qRJlm"
      }
    },
    {
      "cell_type": "code",
      "source": [
        "# your code here\n",
        "print(\"Hello World!\")"
      ],
      "metadata": {
        "id": "dtKQsi98RbQf",
        "outputId": "96bb4a8a-6376-4ff3-9df2-7e0d48113c91",
        "colab": {
          "base_uri": "https://localhost:8080/"
        }
      },
      "execution_count": null,
      "outputs": [
        {
          "output_type": "stream",
          "name": "stdout",
          "text": [
            "Hello World!\n"
          ]
        }
      ]
    },
    {
      "cell_type": "markdown",
      "source": [
        "## Task 1a\n",
        "\n",
        "Define a variable **distance** that points to 140.\n",
        "\n",
        "Define a variable **time** that points to 3.\n",
        "\n",
        "Define a variable **speed** that points to the calculation for the speed. Be sure to use the variables names in your calculation. (Speed = distance/time)  \n",
        "\n",
        "Print the speed using print(speed)"
      ],
      "metadata": {
        "id": "iHQFHZyXuM0k"
      }
    },
    {
      "cell_type": "code",
      "execution_count": null,
      "metadata": {
        "id": "LlQ8wB57t9n0",
        "colab": {
          "base_uri": "https://localhost:8080/"
        },
        "outputId": "2ce84ac6-8676-4d66-a116-49aa855721a8"
      },
      "outputs": [
        {
          "output_type": "stream",
          "name": "stdout",
          "text": [
            "46.666666666666664\n"
          ]
        }
      ],
      "source": [
        "distance = 140\n",
        "time = 3\n",
        "speed = distance / time\n",
        "print(speed)"
      ]
    },
    {
      "cell_type": "markdown",
      "source": [
        "#Task 1b\n",
        "Build on your previous code.\n",
        "\n",
        "Instead of just printing speed, print an f statement that says:\n",
        "\n",
        "If it takes -- hours to travel -- miles, the speed is -- miles per hour.  \n",
        "\n",
        "Fill in the blanks with the appropriate variables."
      ],
      "metadata": {
        "id": "h7juifK_vMXb"
      }
    },
    {
      "cell_type": "code",
      "source": [
        "# your code here\n",
        "print(f\"If it takes {time} hours to travel {distance} miles, the speed is {speed} miles per hour.\")"
      ],
      "metadata": {
        "id": "dt_bJZCovkvP",
        "colab": {
          "base_uri": "https://localhost:8080/"
        },
        "outputId": "9b6f11e3-cefc-4995-f230-5a67d240ec38"
      },
      "execution_count": null,
      "outputs": [
        {
          "output_type": "stream",
          "name": "stdout",
          "text": [
            "If it takes 3 hours to travel 140 miles, the speed is 46.666666666666664 miles per hour.\n"
          ]
        }
      ]
    },
    {
      "cell_type": "markdown",
      "source": [
        "# Task 1c\n",
        "Check the data type of all three of your variables"
      ],
      "metadata": {
        "id": "KOy7i12dwjkE"
      }
    },
    {
      "cell_type": "code",
      "source": [
        "type(distance)"
      ],
      "metadata": {
        "id": "QdUNyzrAxHiD",
        "colab": {
          "base_uri": "https://localhost:8080/"
        },
        "outputId": "162eb2d6-6638-45d6-82f7-97c85582d260"
      },
      "execution_count": null,
      "outputs": [
        {
          "output_type": "execute_result",
          "data": {
            "text/plain": [
              "int"
            ]
          },
          "metadata": {},
          "execution_count": 4
        }
      ]
    },
    {
      "cell_type": "code",
      "source": [
        "type(time)"
      ],
      "metadata": {
        "id": "aAOB3_Q6xSYs",
        "colab": {
          "base_uri": "https://localhost:8080/"
        },
        "outputId": "4051ca7a-c6d7-4a93-e768-39511e4eac53"
      },
      "execution_count": null,
      "outputs": [
        {
          "output_type": "execute_result",
          "data": {
            "text/plain": [
              "int"
            ]
          },
          "metadata": {},
          "execution_count": 5
        }
      ]
    },
    {
      "cell_type": "code",
      "source": [
        "type(speed)"
      ],
      "metadata": {
        "id": "_U8xxGQbxU19",
        "colab": {
          "base_uri": "https://localhost:8080/"
        },
        "outputId": "e02926b3-1b69-4bd5-c90b-93212697aada"
      },
      "execution_count": null,
      "outputs": [
        {
          "output_type": "execute_result",
          "data": {
            "text/plain": [
              "float"
            ]
          },
          "metadata": {},
          "execution_count": 6
        }
      ]
    },
    {
      "cell_type": "markdown",
      "source": [
        "# Task 1d\n",
        "Change the data type of time from integer to float.\n",
        "\n",
        "Recheck the data type to confirm it is a float."
      ],
      "metadata": {
        "id": "OFz65OX-xcHa"
      }
    },
    {
      "cell_type": "code",
      "source": [
        "time = float(time)\n",
        "type(time)"
      ],
      "metadata": {
        "id": "RxodwaNpxaQm",
        "colab": {
          "base_uri": "https://localhost:8080/"
        },
        "outputId": "899e0c1c-c364-4ef1-aa9a-31c878fb1dd5"
      },
      "execution_count": null,
      "outputs": [
        {
          "output_type": "execute_result",
          "data": {
            "text/plain": [
              "float"
            ]
          },
          "metadata": {},
          "execution_count": 7
        }
      ]
    },
    {
      "cell_type": "markdown",
      "source": [
        "# Task 2a\n",
        "Define a variable **customer** that points to a string with the customer's name, Charlene.\n",
        "\n",
        "Print the customer's name using print(customer)"
      ],
      "metadata": {
        "id": "XHbK5vGrycvU"
      }
    },
    {
      "cell_type": "code",
      "source": [
        "customer = \"Charlene\"\n",
        "print(customer)"
      ],
      "metadata": {
        "id": "NW5j7WZ_y604",
        "colab": {
          "base_uri": "https://localhost:8080/"
        },
        "outputId": "5d8b53af-4588-4d33-c72f-5a10cdca6400"
      },
      "execution_count": null,
      "outputs": [
        {
          "output_type": "stream",
          "name": "stdout",
          "text": [
            "Charlene\n"
          ]
        }
      ]
    },
    {
      "cell_type": "markdown",
      "source": [
        "# Task 2b\n",
        "Check the data type of customer"
      ],
      "metadata": {
        "id": "rqi5fTVozocO"
      }
    },
    {
      "cell_type": "code",
      "source": [
        "type(customer)"
      ],
      "metadata": {
        "id": "rDhc3ttLzjCN",
        "colab": {
          "base_uri": "https://localhost:8080/"
        },
        "outputId": "1b4f4a4d-ecc9-46ab-91de-130de6538683"
      },
      "execution_count": null,
      "outputs": [
        {
          "output_type": "execute_result",
          "data": {
            "text/plain": [
              "str"
            ]
          },
          "metadata": {},
          "execution_count": 9
        }
      ]
    },
    {
      "cell_type": "markdown",
      "source": [
        "# Task 2c\n",
        "Set up a comparison statement using == to test if the customer is Charlene. \n",
        "\n",
        "Your code should return True."
      ],
      "metadata": {
        "id": "XuM8gGRmzyz0"
      }
    },
    {
      "cell_type": "code",
      "source": [
        "customer == \"Charlene\""
      ],
      "metadata": {
        "id": "m-69lURK0NIp",
        "colab": {
          "base_uri": "https://localhost:8080/"
        },
        "outputId": "b740c4a9-9812-4235-d337-1e4e8ceaaef2"
      },
      "execution_count": null,
      "outputs": [
        {
          "output_type": "execute_result",
          "data": {
            "text/plain": [
              "True"
            ]
          },
          "metadata": {},
          "execution_count": 10
        }
      ]
    },
    {
      "cell_type": "markdown",
      "source": [
        "# Task 2d\n",
        "Set up a compararison statement using == to test if the customer is Bob.\n",
        "\n",
        "Your code should return False."
      ],
      "metadata": {
        "id": "Ox9QmPr-0NlO"
      }
    },
    {
      "cell_type": "code",
      "source": [
        "customer == \"Bob\""
      ],
      "metadata": {
        "id": "BvWaCs5R0SO-",
        "colab": {
          "base_uri": "https://localhost:8080/"
        },
        "outputId": "664d2af4-b36b-40af-db72-733c00431f80"
      },
      "execution_count": null,
      "outputs": [
        {
          "output_type": "execute_result",
          "data": {
            "text/plain": [
              "False"
            ]
          },
          "metadata": {},
          "execution_count": 11
        }
      ]
    }
  ]
}
