{
  "nbformat": 4,
  "nbformat_minor": 0,
  "metadata": {
    "colab": {
      "provenance": [],
      "authorship_tag": "ABX9TyNuu7NyNepJ49gzV6ihUWeu",
      "include_colab_link": true
    },
    "kernelspec": {
      "name": "python3",
      "display_name": "Python 3"
    },
    "language_info": {
      "name": "python"
    }
  },
  "cells": [
    {
      "cell_type": "markdown",
      "metadata": {
        "id": "view-in-github",
        "colab_type": "text"
      },
      "source": [
        "<a href=\"https://colab.research.google.com/github/kellianneyang/bootcamp-assignments/blob/main/Dictionaries_(Practice).ipynb\" target=\"_parent\"><img src=\"https://colab.research.google.com/assets/colab-badge.svg\" alt=\"Open In Colab\"/></a>"
      ]
    },
    {
      "cell_type": "code",
      "execution_count": null,
      "metadata": {
        "id": "hv0Y8UqStxzC"
      },
      "outputs": [],
      "source": [
        "# use a key to access a value\n",
        "# keys are immutable; values are mutable\n",
        "# can convert a collection into a dictionary with .dict()"
      ]
    },
    {
      "cell_type": "code",
      "source": [
        "state_caps = {\"Ohio\": \"Columbus\", \n",
        "              \"Alabama\": \"Montgomery\", \n",
        "              \"Washington\": \"Olympia\"}"
      ],
      "metadata": {
        "id": "zarXR6pOuCqp"
      },
      "execution_count": null,
      "outputs": []
    },
    {
      "cell_type": "code",
      "source": [
        "print(state_caps)"
      ],
      "metadata": {
        "colab": {
          "base_uri": "https://localhost:8080/"
        },
        "id": "TDsPDEOAuNr4",
        "outputId": "94432086-40b9-46f6-cc77-d94d6a526cdc"
      },
      "execution_count": null,
      "outputs": [
        {
          "output_type": "stream",
          "name": "stdout",
          "text": [
            "{'Ohio': 'Columbus', 'Alabama': 'Montgomery', 'Washington': 'Olympia'}\n"
          ]
        }
      ]
    },
    {
      "cell_type": "code",
      "source": [
        "print(state_caps[\"Washington\"])"
      ],
      "metadata": {
        "colab": {
          "base_uri": "https://localhost:8080/"
        },
        "id": "aIN_HQtjuPEv",
        "outputId": "17d2a9f3-2977-4707-bc34-ce9e9793da94"
      },
      "execution_count": null,
      "outputs": [
        {
          "output_type": "stream",
          "name": "stdout",
          "text": [
            "Olympia\n"
          ]
        }
      ]
    },
    {
      "cell_type": "code",
      "source": [
        "state_caps[\"Utah\"] = \"Salt Lake\""
      ],
      "metadata": {
        "id": "YYwexuuouVTW"
      },
      "execution_count": null,
      "outputs": []
    },
    {
      "cell_type": "code",
      "source": [
        "print(state_caps)"
      ],
      "metadata": {
        "colab": {
          "base_uri": "https://localhost:8080/"
        },
        "id": "4tk47hTKuZ6X",
        "outputId": "971a0691-f481-4198-f00a-48321e09509d"
      },
      "execution_count": null,
      "outputs": [
        {
          "output_type": "stream",
          "name": "stdout",
          "text": [
            "{'Ohio': 'Columbus', 'Alabama': 'Montgomery', 'Washington': 'Olympia', 'Utah': 'Salt Lake'}\n"
          ]
        }
      ]
    },
    {
      "cell_type": "code",
      "source": [
        "# if you add a key to a dictionary when the same key already exists, \n",
        "# the old key will be overwritten"
      ],
      "metadata": {
        "id": "bSSyztVOubD3"
      },
      "execution_count": null,
      "outputs": []
    },
    {
      "cell_type": "code",
      "source": [
        "state_caps[\"Utah\"] = \"Salt Lake City\""
      ],
      "metadata": {
        "id": "zsdrjLVVumDg"
      },
      "execution_count": null,
      "outputs": []
    },
    {
      "cell_type": "code",
      "source": [
        "print(state_caps)"
      ],
      "metadata": {
        "colab": {
          "base_uri": "https://localhost:8080/"
        },
        "id": "dHagtHYkuxe4",
        "outputId": "c7a3a2cc-7ee8-450d-b578-b01465506efe"
      },
      "execution_count": null,
      "outputs": [
        {
          "output_type": "stream",
          "name": "stdout",
          "text": [
            "{'Ohio': 'Columbus', 'Alabama': 'Montgomery', 'Washington': 'Olympia', 'Utah': 'Salt Lake City'}\n"
          ]
        }
      ]
    },
    {
      "cell_type": "code",
      "source": [
        "state_caps.pop(\"Ohio\")"
      ],
      "metadata": {
        "colab": {
          "base_uri": "https://localhost:8080/",
          "height": 35
        },
        "id": "rZMgvQEguygs",
        "outputId": "d588b388-8a91-4951-db8c-ad550bac0bf1"
      },
      "execution_count": null,
      "outputs": [
        {
          "output_type": "execute_result",
          "data": {
            "text/plain": [
              "'Columbus'"
            ],
            "application/vnd.google.colaboratory.intrinsic+json": {
              "type": "string"
            }
          },
          "metadata": {},
          "execution_count": 14
        }
      ]
    },
    {
      "cell_type": "code",
      "source": [
        "print(f\"After popping, the dictionary now looks like this: {state_caps}.\")"
      ],
      "metadata": {
        "colab": {
          "base_uri": "https://localhost:8080/"
        },
        "id": "CcM8bdUTu-qX",
        "outputId": "88862b49-67da-426d-c6bd-d5c023f906fa"
      },
      "execution_count": null,
      "outputs": [
        {
          "output_type": "stream",
          "name": "stdout",
          "text": [
            "After popping, the dictionary now looks like this: {'Alabama': 'Montgomery', 'Washington': 'Olympia', 'Utah': 'Salt Lake City'}.\n"
          ]
        }
      ]
    },
    {
      "cell_type": "code",
      "source": [
        "# make two lists into a dictionary with .zip()\n",
        "# make sure the two lists are in the right order and are the same length\n",
        "states_list = [\"Indiana\", \"Kentucky\", \"Texas\", \"Idaho\"]\n",
        "caps_list = [\"Indianapolis\", \"Frankfort\", \"Austin\", \"Boise\"]"
      ],
      "metadata": {
        "id": "fWav0W7WvEjP"
      },
      "execution_count": null,
      "outputs": []
    },
    {
      "cell_type": "code",
      "source": [
        "zip_dict = zip(states_list, caps_list)"
      ],
      "metadata": {
        "id": "9pr9SzoTvkn4"
      },
      "execution_count": null,
      "outputs": []
    },
    {
      "cell_type": "code",
      "source": [
        "type(zip_dict)"
      ],
      "metadata": {
        "colab": {
          "base_uri": "https://localhost:8080/"
        },
        "id": "SCdL_q_vvtnu",
        "outputId": "d5e0def3-7619-458a-c859-f66d8b4bfc27"
      },
      "execution_count": null,
      "outputs": [
        {
          "output_type": "execute_result",
          "data": {
            "text/plain": [
              "zip"
            ]
          },
          "metadata": {},
          "execution_count": 18
        }
      ]
    },
    {
      "cell_type": "code",
      "source": [
        "zip_dict = dict(zip_dict)"
      ],
      "metadata": {
        "id": "cto_3mpwvu-W"
      },
      "execution_count": null,
      "outputs": []
    },
    {
      "cell_type": "code",
      "source": [
        "type(zip_dict)"
      ],
      "metadata": {
        "colab": {
          "base_uri": "https://localhost:8080/"
        },
        "id": "R2B8rqonvy4G",
        "outputId": "a95c5f97-65cb-44ff-ce46-826f7daefbb7"
      },
      "execution_count": null,
      "outputs": [
        {
          "output_type": "execute_result",
          "data": {
            "text/plain": [
              "dict"
            ]
          },
          "metadata": {},
          "execution_count": 20
        }
      ]
    },
    {
      "cell_type": "code",
      "source": [
        "print(zip_dict)"
      ],
      "metadata": {
        "colab": {
          "base_uri": "https://localhost:8080/"
        },
        "id": "s5zsAlnev0FW",
        "outputId": "ee126e09-af6f-46c6-fc18-da88f8f30857"
      },
      "execution_count": null,
      "outputs": [
        {
          "output_type": "stream",
          "name": "stdout",
          "text": [
            "{'Indiana': 'Indianapolis', 'Kentucky': 'Frankfort', 'Texas': 'Austin', 'Idaho': 'Boise'}\n"
          ]
        }
      ]
    },
    {
      "cell_type": "code",
      "source": [
        "print(f\"We created the following dictionary: {zip_dict}\")"
      ],
      "metadata": {
        "colab": {
          "base_uri": "https://localhost:8080/"
        },
        "id": "muQ1VsPGv1H2",
        "outputId": "24636454-25b3-4048-adb1-a99fd1c4869e"
      },
      "execution_count": null,
      "outputs": [
        {
          "output_type": "stream",
          "name": "stdout",
          "text": [
            "We created the following dictionary: {'Indiana': 'Indianapolis', 'Kentucky': 'Frankfort', 'Texas': 'Austin', 'Idaho': 'Boise'}\n"
          ]
        }
      ]
    },
    {
      "cell_type": "code",
      "source": [
        "# add one dictionary to another with .update()\n",
        "state_caps.update(zip_dict)\n",
        "print(state_caps)"
      ],
      "metadata": {
        "colab": {
          "base_uri": "https://localhost:8080/"
        },
        "id": "8ZAm7EC4v7qA",
        "outputId": "f94f8f89-6318-487c-f272-88858c48ece6"
      },
      "execution_count": null,
      "outputs": [
        {
          "output_type": "stream",
          "name": "stdout",
          "text": [
            "{'Alabama': 'Montgomery', 'Washington': 'Olympia', 'Utah': 'Salt Lake City', 'Indiana': 'Indianapolis', 'Kentucky': 'Frankfort', 'Texas': 'Austin', 'Idaho': 'Boise'}\n"
          ]
        }
      ]
    }
  ]
}
