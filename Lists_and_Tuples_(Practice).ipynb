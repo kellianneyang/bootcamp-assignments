{
  "nbformat": 4,
  "nbformat_minor": 0,
  "metadata": {
    "colab": {
      "provenance": [],
      "authorship_tag": "ABX9TyNrlNm1YOVWXBB1OIStphAS",
      "include_colab_link": true
    },
    "kernelspec": {
      "name": "python3",
      "display_name": "Python 3"
    },
    "language_info": {
      "name": "python"
    }
  },
  "cells": [
    {
      "cell_type": "markdown",
      "metadata": {
        "id": "view-in-github",
        "colab_type": "text"
      },
      "source": [
        "<a href=\"https://colab.research.google.com/github/kellianneyang/bootcamp-assignments/blob/main/Lists_and_Tuples_(Practice).ipynb\" target=\"_parent\"><img src=\"https://colab.research.google.com/assets/colab-badge.svg\" alt=\"Open In Colab\"/></a>"
      ]
    },
    {
      "cell_type": "code",
      "execution_count": null,
      "metadata": {
        "id": "ges_QWGlVDO0"
      },
      "outputs": [],
      "source": [
        "# lists and tuples are container objects/collections\n",
        "# most containers preserve the ordering of objects inside them\n",
        "# lists are mutable; tuples are immutable\n",
        "# items in lists and tuples are indexed starting at [0]"
      ]
    },
    {
      "cell_type": "code",
      "source": [
        "# lists are:\n",
        "# ordered\n",
        "# mutable\n",
        "# able to hold anything"
      ],
      "metadata": {
        "id": "zt9uYDncVnxp"
      },
      "execution_count": null,
      "outputs": []
    },
    {
      "cell_type": "code",
      "source": [
        "word_list = [\"this\", \"is\", \"a\", \"list\", \"of\", \"strings\"]\n",
        "random_list = [12, \"frog\", [\"this\", \"is\", \"a\", \"list\", \"in\", \"a\", \"list\"], True, 3.14]\n",
        "print(word_list)\n",
        "print(random_list)"
      ],
      "metadata": {
        "colab": {
          "base_uri": "https://localhost:8080/"
        },
        "id": "i9DdfFhJja5S",
        "outputId": "774fa654-0df1-4f3c-a92e-6cfa2aa40ea0"
      },
      "execution_count": null,
      "outputs": [
        {
          "output_type": "stream",
          "name": "stdout",
          "text": [
            "['this', 'is', 'a', 'list', 'of', 'strings']\n",
            "[12, 'frog', ['this', 'is', 'a', 'list', 'in', 'a', 'list'], True, 3.14]\n"
          ]
        }
      ]
    },
    {
      "cell_type": "code",
      "source": [
        "  word_list.remove(\"a\")\n",
        "  print(word_list)"
      ],
      "metadata": {
        "colab": {
          "base_uri": "https://localhost:8080/"
        },
        "id": "uukPOcwfjztV",
        "outputId": "bd1dd131-8e2c-47ec-9882-f236ad773588"
      },
      "execution_count": null,
      "outputs": [
        {
          "output_type": "stream",
          "name": "stdout",
          "text": [
            "['this', 'is', 'list', 'of', 'strings']\n"
          ]
        }
      ]
    },
    {
      "cell_type": "code",
      "source": [
        "print(random_list[0])"
      ],
      "metadata": {
        "colab": {
          "base_uri": "https://localhost:8080/"
        },
        "id": "-NdmRyaKlczN",
        "outputId": "dc6b9da3-4be8-43cb-d302-19523eeba96a"
      },
      "execution_count": null,
      "outputs": [
        {
          "output_type": "stream",
          "name": "stdout",
          "text": [
            "12\n"
          ]
        }
      ]
    },
    {
      "cell_type": "code",
      "source": [
        "print(random_list[2])"
      ],
      "metadata": {
        "colab": {
          "base_uri": "https://localhost:8080/"
        },
        "id": "pyNQkzu_lkXm",
        "outputId": "47782506-8171-4a14-fcff-a24147d492ec"
      },
      "execution_count": null,
      "outputs": [
        {
          "output_type": "stream",
          "name": "stdout",
          "text": [
            "['this', 'is', 'a', 'list', 'in', 'a', 'list']\n"
          ]
        }
      ]
    },
    {
      "cell_type": "code",
      "source": [
        "print(random_list[-1])"
      ],
      "metadata": {
        "colab": {
          "base_uri": "https://localhost:8080/"
        },
        "id": "dZGjLDR4lpqe",
        "outputId": "ca24fc02-6a64-42c0-841b-6c0df0a2b951"
      },
      "execution_count": null,
      "outputs": [
        {
          "output_type": "stream",
          "name": "stdout",
          "text": [
            "3.14\n"
          ]
        }
      ]
    },
    {
      "cell_type": "code",
      "source": [
        "# the + operator combines two lists\n",
        "new_list = word_list + random_list\n",
        "print(new_list)"
      ],
      "metadata": {
        "colab": {
          "base_uri": "https://localhost:8080/"
        },
        "id": "57n18IyiltuF",
        "outputId": "f9489511-8ec7-4dfa-c0b9-0da6d8c7beb6"
      },
      "execution_count": null,
      "outputs": [
        {
          "output_type": "stream",
          "name": "stdout",
          "text": [
            "['this', 'is', 'list', 'of', 'strings', 12, 'frog', ['this', 'is', 'a', 'list', 'in', 'a', 'list'], True, 3.14]\n"
          ]
        }
      ]
    },
    {
      "cell_type": "code",
      "source": [
        "# lists are NOT computationally efficient or memory efficient"
      ],
      "metadata": {
        "id": "nb8VuGWCl45d"
      },
      "execution_count": null,
      "outputs": []
    },
    {
      "cell_type": "code",
      "source": [
        "# tuples are:\n",
        "# ordered\n",
        "# immutable\n",
        "# able to hold anything\n",
        "integer_tuple = (1, 2, 3, 4, 5)\n",
        "random_tuple = (1, \"horse\", integer_tuple, word_list, False)\n",
        "print(integer_tuple)\n",
        "print(random_tuple)"
      ],
      "metadata": {
        "colab": {
          "base_uri": "https://localhost:8080/"
        },
        "id": "WijkFlMxmSAu",
        "outputId": "bfd40dfd-e5f2-4360-c619-8a5a06d9a3d8"
      },
      "execution_count": null,
      "outputs": [
        {
          "output_type": "stream",
          "name": "stdout",
          "text": [
            "(1, 2, 3, 4, 5)\n",
            "(1, 'horse', (1, 2, 3, 4, 5), ['this', 'is', 'list', 'of', 'strings'], False)\n"
          ]
        }
      ]
    },
    {
      "cell_type": "code",
      "source": [
        "# slicing lists and tuples: start is INCLUDED, stop is EXCLUDED\n",
        "print(random_tuple[0:2])"
      ],
      "metadata": {
        "colab": {
          "base_uri": "https://localhost:8080/"
        },
        "id": "jDPthunUmn1O",
        "outputId": "198b14a2-dd50-4d6b-81d1-358a70433aa9"
      },
      "execution_count": null,
      "outputs": [
        {
          "output_type": "stream",
          "name": "stdout",
          "text": [
            "(1, 'horse')\n"
          ]
        }
      ]
    },
    {
      "cell_type": "code",
      "source": [
        "# tuples are slightly more computationally efficient than lists"
      ],
      "metadata": {
        "id": "wcyKtSKHnGlF"
      },
      "execution_count": null,
      "outputs": []
    }
  ]
}