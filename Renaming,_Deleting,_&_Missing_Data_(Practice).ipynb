{
  "nbformat": 4,
  "nbformat_minor": 0,
  "metadata": {
    "colab": {
      "provenance": [],
      "authorship_tag": "ABX9TyP3Uo7AfDgbFvCFjvuq8CaC",
      "include_colab_link": true
    },
    "kernelspec": {
      "name": "python3",
      "display_name": "Python 3"
    },
    "language_info": {
      "name": "python"
    }
  },
  "cells": [
    {
      "cell_type": "markdown",
      "metadata": {
        "id": "view-in-github",
        "colab_type": "text"
      },
      "source": [
        "<a href=\"https://colab.research.google.com/github/kellianneyang/bootcamp-assignments/blob/main/Renaming%2C_Deleting%2C_%26_Missing_Data_(Practice).ipynb\" target=\"_parent\"><img src=\"https://colab.research.google.com/assets/colab-badge.svg\" alt=\"Open In Colab\"/></a>"
      ]
    },
    {
      "cell_type": "markdown",
      "source": [
        "# Renaming, Deleting, & Missing Data\n",
        "\n",
        "This practice assignment will reinforce important learning objectives from the previous lesson(s), and allow you to take on more challenging core assignments, preparing you for graduation.\n",
        "\n",
        "Practice and tinker with this assignment until you're comfortable performing each of the tasks. Then, be sure to submit your output as described in the steps below.\n",
        "\n"
      ],
      "metadata": {
        "id": "Axt-1kmTnd-V"
      }
    },
    {
      "cell_type": "markdown",
      "source": [
        "---"
      ],
      "metadata": {
        "id": "Wx-wlZ7Onh1d"
      }
    },
    {
      "cell_type": "markdown",
      "source": [
        "# Learning Objectives:\n",
        "\n",
        "- Practice data modification techniques, including renaming, deleting, and handling missing data."
      ],
      "metadata": {
        "id": "IN6BxtwCniQE"
      }
    },
    {
      "cell_type": "markdown",
      "source": [
        "---"
      ],
      "metadata": {
        "id": "Mue81QTdnmJ9"
      }
    },
    {
      "cell_type": "markdown",
      "source": [
        "# Instructions\n"
      ],
      "metadata": {
        "id": "Je2pnnNVnmud"
      }
    },
    {
      "cell_type": "markdown",
      "source": [
        "---"
      ],
      "metadata": {
        "id": "oFS4eJHano88"
      }
    },
    {
      "cell_type": "markdown",
      "source": [
        "# Preliminary Steps:\n",
        "\n",
        "We will build off of the work we did in the Loading & Filtering Data core assignment!\n",
        "\n",
        "1. Start by downloading [this data](https://drive.google.com/file/d/1okt7G5vC5z_mfXiN2OBF6-ea5L3xqbR7/view?usp=sharing).\n",
        "\n",
        "2. Import the data as a Pandas DataFrame.\n",
        "\n",
        "3. Name the DataFrame bike_df."
      ],
      "metadata": {
        "id": "e_vRyqPrnqJl"
      }
    },
    {
      "cell_type": "code",
      "source": [
        "import pandas as pd"
      ],
      "metadata": {
        "id": "6X0L7ZlqoUPF"
      },
      "execution_count": null,
      "outputs": []
    },
    {
      "cell_type": "code",
      "source": [
        "from google.colab import drive\n",
        "drive.mount('/content/drive')"
      ],
      "metadata": {
        "colab": {
          "base_uri": "https://localhost:8080/"
        },
        "id": "M28_Gf6KpL4d",
        "outputId": "4bc5cdd5-697a-4542-fbec-f1d392590a92"
      },
      "execution_count": null,
      "outputs": [
        {
          "output_type": "stream",
          "name": "stdout",
          "text": [
            "Drive already mounted at /content/drive; to attempt to forcibly remount, call drive.mount(\"/content/drive\", force_remount=True).\n"
          ]
        }
      ]
    },
    {
      "cell_type": "code",
      "source": [
        "bike_df = pd.read_excel('/content/RailsToTrails_National Count Data_week (2).xlsx')"
      ],
      "metadata": {
        "id": "tlyflhoRpO7d"
      },
      "execution_count": null,
      "outputs": []
    },
    {
      "cell_type": "markdown",
      "source": [
        "---"
      ],
      "metadata": {
        "id": "M_QQJP3Snxb9"
      }
    },
    {
      "cell_type": "markdown",
      "source": [
        "# Assignment:\n",
        "\n",
        "Now, complete the following:\n",
        "\n"
      ],
      "metadata": {
        "id": "EazsfdxrnyLl"
      }
    },
    {
      "cell_type": "markdown",
      "source": [
        "1. Delete the unnecessary columns:\n",
        "  1. Unnamed: 7\n",
        "  2. Unnamed: 8\n",
        "  3. Unnamed: 9"
      ],
      "metadata": {
        "id": "XWIzNeiZn0tt"
      }
    },
    {
      "cell_type": "code",
      "source": [
        "bike_df.drop(columns = ['Unnamed: 7', 'Unnamed: 8', 'Unnamed: 9'], inplace = True)\n",
        "bike_df.info()"
      ],
      "metadata": {
        "colab": {
          "base_uri": "https://localhost:8080/"
        },
        "id": "CJ1XimqYo5sV",
        "outputId": "35d405e0-0383-4eb6-e51a-f7155f3fa30c"
      },
      "execution_count": null,
      "outputs": [
        {
          "output_type": "stream",
          "name": "stdout",
          "text": [
            "<class 'pandas.core.frame.DataFrame'>\n",
            "RangeIndex: 52 entries, 0 to 51\n",
            "Data columns (total 7 columns):\n",
            " #   Column                      Non-Null Count  Dtype         \n",
            "---  ------                      --------------  -----         \n",
            " 0   Timeframe                   52 non-null     object        \n",
            " 1   Week of                     52 non-null     datetime64[ns]\n",
            " 2    2019 counts (31 counters)  52 non-null     float64       \n",
            " 3    2020 counts (31 counters)  52 non-null     float64       \n",
            " 4   2021 Counts                 0 non-null      float64       \n",
            " 5   Change 2019-2020            52 non-null     float64       \n",
            " 6   Unnamed: 6                  52 non-null     float64       \n",
            "dtypes: datetime64[ns](1), float64(5), object(1)\n",
            "memory usage: 3.0+ KB\n"
          ]
        }
      ]
    },
    {
      "cell_type": "markdown",
      "source": [
        "2. Rename the Unnamed: 6 column to percent_change."
      ],
      "metadata": {
        "id": "TGkfS4rRn5WE"
      }
    },
    {
      "cell_type": "code",
      "source": [
        "bike_df = bike_df.rename(columns = {'Unnamed: 6': 'percent_change'})\n",
        "bike_df.info()"
      ],
      "metadata": {
        "colab": {
          "base_uri": "https://localhost:8080/"
        },
        "id": "A1o7lxBMpbTc",
        "outputId": "3eaf48aa-dd66-4852-9208-619ee2e9d688"
      },
      "execution_count": null,
      "outputs": [
        {
          "output_type": "stream",
          "name": "stdout",
          "text": [
            "<class 'pandas.core.frame.DataFrame'>\n",
            "RangeIndex: 52 entries, 0 to 51\n",
            "Data columns (total 7 columns):\n",
            " #   Column                      Non-Null Count  Dtype         \n",
            "---  ------                      --------------  -----         \n",
            " 0   Timeframe                   52 non-null     object        \n",
            " 1   Week of                     52 non-null     datetime64[ns]\n",
            " 2    2019 counts (31 counters)  52 non-null     float64       \n",
            " 3    2020 counts (31 counters)  52 non-null     float64       \n",
            " 4   2021 Counts                 0 non-null      float64       \n",
            " 5   Change 2019-2020            52 non-null     float64       \n",
            " 6   percent_change              52 non-null     float64       \n",
            "dtypes: datetime64[ns](1), float64(5), object(1)\n",
            "memory usage: 3.0+ KB\n"
          ]
        }
      ]
    },
    {
      "cell_type": "markdown",
      "source": [
        "3. How many missing values are in the dataset? Which columns are they in?"
      ],
      "metadata": {
        "id": "8LbkIiPRn7EF"
      }
    },
    {
      "cell_type": "code",
      "source": [
        "bike_df.isna().sum()\n",
        "\n",
        "# There are 52 missing values in the dataset, all in column '2021 Counts'"
      ],
      "metadata": {
        "colab": {
          "base_uri": "https://localhost:8080/"
        },
        "id": "_loVwbvZqFON",
        "outputId": "565ef7b1-a56a-4249-b96b-1403a14df33c"
      },
      "execution_count": null,
      "outputs": [
        {
          "output_type": "execute_result",
          "data": {
            "text/plain": [
              "Timeframe                      0\n",
              "Week of                        0\n",
              " 2019 counts (31 counters)     0\n",
              " 2020 counts (31 counters)     0\n",
              "2021 Counts                   52\n",
              "Change 2019-2020               0\n",
              "percent_change                 0\n",
              "dtype: int64"
            ]
          },
          "metadata": {},
          "execution_count": 18
        }
      ]
    },
    {
      "cell_type": "markdown",
      "source": [
        "4. Fill all missing values in the 2021 Counts column with 0."
      ],
      "metadata": {
        "id": "Rb-8Q47Fn7y9"
      }
    },
    {
      "cell_type": "code",
      "source": [
        "bike_df['2021 Counts'].fillna(0, inplace = True)\n",
        "bike_df.isna().sum()"
      ],
      "metadata": {
        "colab": {
          "base_uri": "https://localhost:8080/"
        },
        "id": "gvN4dlprqPLs",
        "outputId": "6a8129cb-a6b0-487f-f887-3c9b1ccdc719"
      },
      "execution_count": null,
      "outputs": [
        {
          "output_type": "execute_result",
          "data": {
            "text/plain": [
              "Timeframe                     0\n",
              "Week of                       0\n",
              " 2019 counts (31 counters)    0\n",
              " 2020 counts (31 counters)    0\n",
              "2021 Counts                   0\n",
              "Change 2019-2020              0\n",
              "percent_change                0\n",
              "dtype: int64"
            ]
          },
          "metadata": {},
          "execution_count": 19
        }
      ]
    },
    {
      "cell_type": "markdown",
      "source": [
        "5. Optional/Bonus: There is a challenging but common issue in the name for the 2019 counts column. Can you find it? If so, Rename the 2019 counts (31 counters) column to \"counts_2019\" (a more Pythonic column name)"
      ],
      "metadata": {
        "id": "Vhj3qwnAn--N"
      }
    },
    {
      "cell_type": "code",
      "source": [
        "bike_df = bike_df.rename(columns = {' 2019 counts (31 counters)': 'counts_2019'})\n",
        "bike_df.info()\n",
        "\n",
        "# I think the \"challenging but common\" issue is the space at the beginning of the column name?"
      ],
      "metadata": {
        "colab": {
          "base_uri": "https://localhost:8080/"
        },
        "id": "3r5Or_t_qpDH",
        "outputId": "9d3c4c57-079c-41d6-f888-f146a25e8519"
      },
      "execution_count": null,
      "outputs": [
        {
          "output_type": "stream",
          "name": "stdout",
          "text": [
            "<class 'pandas.core.frame.DataFrame'>\n",
            "RangeIndex: 52 entries, 0 to 51\n",
            "Data columns (total 7 columns):\n",
            " #   Column                      Non-Null Count  Dtype         \n",
            "---  ------                      --------------  -----         \n",
            " 0   Timeframe                   52 non-null     object        \n",
            " 1   Week of                     52 non-null     datetime64[ns]\n",
            " 2   counts_2019                 52 non-null     float64       \n",
            " 3    2020 counts (31 counters)  52 non-null     float64       \n",
            " 4   2021 Counts                 52 non-null     float64       \n",
            " 5   Change 2019-2020            52 non-null     float64       \n",
            " 6   percent_change              52 non-null     float64       \n",
            "dtypes: datetime64[ns](1), float64(5), object(1)\n",
            "memory usage: 3.0+ KB\n"
          ]
        }
      ]
    },
    {
      "cell_type": "markdown",
      "source": [
        "Turn in an .ipynb file with your solutions to this practice!\n",
        "\n"
      ],
      "metadata": {
        "id": "5N58nfSRoApl"
      }
    },
    {
      "cell_type": "markdown",
      "source": [
        "---"
      ],
      "metadata": {
        "id": "00CthRoUoBMN"
      }
    },
    {
      "cell_type": "markdown",
      "source": [
        "# Deepen Your Knowledge\n",
        "\n",
        "The data for this practice is originally from [this source](https://www.makeovermonday.co.uk/data/) - inspired by [this article](https://www.bbc.com/future/bespoke/made-on-earth/the-great-bicycle-boom-of-2020.html) on Bicycle usage growth in 2020.\n",
        "\n"
      ],
      "metadata": {
        "id": "vHtzCIIwoCZc"
      }
    }
  ]
}