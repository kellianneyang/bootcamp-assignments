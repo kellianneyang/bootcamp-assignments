{
  "nbformat": 4,
  "nbformat_minor": 0,
  "metadata": {
    "colab": {
      "provenance": [],
      "mount_file_id": "1kYmWHeOcXdZs0JvJ3neWJTAcGi90nVEa",
      "authorship_tag": "ABX9TyMGW4EE+4sdxSmO/qrM/hrw",
      "include_colab_link": true
    },
    "kernelspec": {
      "name": "python3",
      "display_name": "Python 3"
    },
    "language_info": {
      "name": "python"
    }
  },
  "cells": [
    {
      "cell_type": "markdown",
      "metadata": {
        "id": "view-in-github",
        "colab_type": "text"
      },
      "source": [
        "<a href=\"https://colab.research.google.com/github/kellianneyang/bootcamp-assignments/blob/main/Pipelines_Activity_(Core)_Kellianne_Yang.ipynb\" target=\"_parent\"><img src=\"https://colab.research.google.com/assets/colab-badge.svg\" alt=\"Open In Colab\"/></a>"
      ]
    },
    {
      "cell_type": "markdown",
      "source": [
        "# **Pipelines Activity (Core)**"
      ],
      "metadata": {
        "id": "LCqfUE6iE82Y"
      }
    },
    {
      "cell_type": "markdown",
      "source": [
        "**Name:** Kellianne Yang"
      ],
      "metadata": {
        "id": "PIZtFyTeFAWI"
      }
    },
    {
      "cell_type": "markdown",
      "source": [
        "**The machine learning question for this assignment is:**\n",
        "\n",
        "*How well can the calories be predicted based on the Manufacturer, cereal type, grams of fat, grams of sugars, and weight in ounces per one serving of the cereal?*\n"
      ],
      "metadata": {
        "id": "_9bc6l3lFD8e"
      }
    },
    {
      "cell_type": "markdown",
      "source": [
        "# Preliminary steps"
      ],
      "metadata": {
        "id": "dAo2SxvOF4fb"
      }
    },
    {
      "cell_type": "code",
      "source": [
        "# import libraries\n",
        "import pandas as pd\n",
        "import numpy as np\n",
        "from sklearn.preprocessing import StandardScaler, OneHotEncoder\n",
        "from sklearn.impute import SimpleImputer\n",
        "from sklearn.compose import make_column_transformer, make_column_selector\n",
        "from sklearn.pipeline import make_pipeline\n",
        "from sklearn.model_selection import train_test_split\n",
        "from sklearn import set_config\n",
        "set_config(display='diagram')"
      ],
      "metadata": {
        "id": "3lSEVmnfF6hR"
      },
      "execution_count": null,
      "outputs": []
    },
    {
      "cell_type": "code",
      "source": [
        "# load data\n",
        "path = '/content/drive/MyDrive/Coding Dojo/05 Week 5: Machine Learning/Cereal with missing values.xlsx'\n",
        "df = pd.read_excel(path)"
      ],
      "metadata": {
        "id": "pqR2VL72F_Kw"
      },
      "execution_count": null,
      "outputs": []
    },
    {
      "cell_type": "code",
      "source": [
        "# inspect data\n",
        "print(df.info(), df.head(10))"
      ],
      "metadata": {
        "colab": {
          "base_uri": "https://localhost:8080/"
        },
        "id": "tx9lB1iiGGHw",
        "outputId": "b4f5abac-713c-41c3-bd24-4de413d308a9"
      },
      "execution_count": null,
      "outputs": [
        {
          "output_type": "stream",
          "name": "stdout",
          "text": [
            "<class 'pandas.core.frame.DataFrame'>\n",
            "RangeIndex: 77 entries, 0 to 76\n",
            "Data columns (total 16 columns):\n",
            " #   Column                                           Non-Null Count  Dtype  \n",
            "---  ------                                           --------------  -----  \n",
            " 0   name                                             77 non-null     object \n",
            " 1   Manufacturer                                     77 non-null     object \n",
            " 2   type                                             68 non-null     object \n",
            " 3   calories per serving                             70 non-null     float64\n",
            " 4   grams of protein                                 77 non-null     int64  \n",
            " 5   grams of fat                                     69 non-null     float64\n",
            " 6   milligrams of sodium                             76 non-null     float64\n",
            " 7   grams of dietary fiber                           77 non-null     float64\n",
            " 8   grams of complex carbohydrates                   77 non-null     float64\n",
            " 9   grams of sugars                                  68 non-null     float64\n",
            " 10  milligrams of potassium                          77 non-null     int64  \n",
            " 11  vitamins and minerals (% of FDA recommendation)  76 non-null     float64\n",
            " 12  Display shelf                                    77 non-null     int64  \n",
            " 13  Weight in ounces per one serving                 77 non-null     float64\n",
            " 14  Number of cups in one serving                    77 non-null     float64\n",
            " 15  Rating of cereal                                 77 non-null     float64\n",
            "dtypes: float64(10), int64(3), object(3)\n",
            "memory usage: 9.8+ KB\n",
            "None                       name   Manufacturer  type  calories per serving  \\\n",
            "0  Apple Cinnamon Cheerios  General Mills  Cold                 110.0   \n",
            "1                  Basic 4  General Mills  Cold                 130.0   \n",
            "2                 Cheerios  General Mills  Cold                   NaN   \n",
            "3    Cinnamon Toast Crunch  General Mills  Cold                 120.0   \n",
            "4                 Clusters  General Mills  Cold                 110.0   \n",
            "5              Cocoa Puffs  General Mills  Cold                 110.0   \n",
            "6            Count Chocula  General Mills   NaN                 110.0   \n",
            "7   Crispy Wheat & Raisins  General Mills  Cold                 100.0   \n",
            "8           Golden Grahams  General Mills  Cold                 110.0   \n",
            "9       Honey Nut Cheerios  General Mills  Cold                 110.0   \n",
            "\n",
            "   grams of protein  grams of fat  milligrams of sodium  \\\n",
            "0                 2           2.0                 180.0   \n",
            "1                 3           2.0                   NaN   \n",
            "2                 6           2.0                 290.0   \n",
            "3                 1           3.0                 210.0   \n",
            "4                 3           2.0                 140.0   \n",
            "5                 1           1.0                 180.0   \n",
            "6                 1           1.0                 180.0   \n",
            "7                 2           1.0                 140.0   \n",
            "8                 1           1.0                 280.0   \n",
            "9                 3           1.0                 250.0   \n",
            "\n",
            "   grams of dietary fiber  grams of complex carbohydrates  grams of sugars  \\\n",
            "0                     1.5                            10.5             10.0   \n",
            "1                     2.0                            18.0              NaN   \n",
            "2                     2.0                            17.0              1.0   \n",
            "3                     0.0                            13.0              9.0   \n",
            "4                     2.0                            13.0              7.0   \n",
            "5                     0.0                            12.0             13.0   \n",
            "6                     0.0                            12.0             13.0   \n",
            "7                     2.0                            11.0             10.0   \n",
            "8                     0.0                            15.0              9.0   \n",
            "9                     1.5                            11.5             10.0   \n",
            "\n",
            "   milligrams of potassium  vitamins and minerals (% of FDA recommendation)  \\\n",
            "0                       70                                             25.0   \n",
            "1                      100                                             25.0   \n",
            "2                      105                                             25.0   \n",
            "3                       45                                             25.0   \n",
            "4                      105                                             25.0   \n",
            "5                       55                                             25.0   \n",
            "6                       65                                             25.0   \n",
            "7                      120                                             25.0   \n",
            "8                       45                                             25.0   \n",
            "9                       90                                             25.0   \n",
            "\n",
            "   Display shelf  Weight in ounces per one serving  \\\n",
            "0              1                              1.00   \n",
            "1              3                              1.33   \n",
            "2              1                              1.00   \n",
            "3              2                              1.00   \n",
            "4              3                              1.00   \n",
            "5              2                              1.00   \n",
            "6              2                              1.00   \n",
            "7              3                              1.00   \n",
            "8              2                              1.00   \n",
            "9              1                              1.00   \n",
            "\n",
            "   Number of cups in one serving  Rating of cereal  \n",
            "0                           0.75         29.509541  \n",
            "1                           0.75         37.038562  \n",
            "2                           1.25         50.764999  \n",
            "3                           0.75         19.823573  \n",
            "4                           0.50         40.400208  \n",
            "5                           1.00         22.736446  \n",
            "6                           1.00         22.396513  \n",
            "7                           0.75         36.176196  \n",
            "8                           0.75         23.804043  \n",
            "9                           0.75         31.072217  \n"
          ]
        }
      ]
    },
    {
      "cell_type": "markdown",
      "source": [
        "Drop any rows that have 'calories per serving' as a missing value. Because this will be our target variable, we cannot ask our machine learning model to work with any observation that is missing this value."
      ],
      "metadata": {
        "id": "IZ0oH9xMdNCX"
      }
    },
    {
      "cell_type": "code",
      "source": [
        "df.dropna(subset = ['calories per serving'], inplace = True)"
      ],
      "metadata": {
        "id": "g8Bx1BxBdcAl"
      },
      "execution_count": null,
      "outputs": []
    },
    {
      "cell_type": "markdown",
      "source": [
        "# Define features (X) and target (y)."
      ],
      "metadata": {
        "id": "pLRVGpvTFLgD"
      }
    },
    {
      "cell_type": "markdown",
      "source": [
        "## X should only include the Manufacturer, cereal type, grams of fat, grams of sugars, and weight in ounces columns.\n"
      ],
      "metadata": {
        "id": "teIYUmndFLja"
      }
    },
    {
      "cell_type": "markdown",
      "source": [
        "## y should be calories per serving"
      ],
      "metadata": {
        "id": "0GeiDBOfFXKD"
      }
    },
    {
      "cell_type": "code",
      "source": [
        "df.columns"
      ],
      "metadata": {
        "colab": {
          "base_uri": "https://localhost:8080/"
        },
        "id": "NidPrFlVM-cC",
        "outputId": "36d860ff-25a2-4e45-b03a-794bf5c8302b"
      },
      "execution_count": null,
      "outputs": [
        {
          "output_type": "execute_result",
          "data": {
            "text/plain": [
              "Index(['name', 'Manufacturer', 'type', 'calories per serving',\n",
              "       'grams of protein', 'grams of fat', 'milligrams of sodium',\n",
              "       'grams of dietary fiber', 'grams of complex carbohydrates',\n",
              "       'grams of sugars', 'milligrams of potassium',\n",
              "       'vitamins and minerals (% of FDA recommendation)', 'Display shelf',\n",
              "       'Weight in ounces per one serving', 'Number of cups in one serving',\n",
              "       'Rating of cereal'],\n",
              "      dtype='object')"
            ]
          },
          "metadata": {},
          "execution_count": 6
        }
      ]
    },
    {
      "cell_type": "code",
      "source": [
        "# define target (y) as calories per serving\n",
        "target = 'calories per serving'\n",
        "y = df[target]"
      ],
      "metadata": {
        "id": "XrsmsdtWMTEs"
      },
      "execution_count": null,
      "outputs": []
    },
    {
      "cell_type": "code",
      "source": [
        "# define features (X) as manufacturer, cereal type, grams of fat, grams of sugar, and weight in ounces\n",
        "X = df[['Manufacturer', 'type', 'grams of fat', 'grams of sugars', 'Weight in ounces per one serving']]"
      ],
      "metadata": {
        "id": "NALcbY9jMmg7"
      },
      "execution_count": null,
      "outputs": []
    },
    {
      "cell_type": "code",
      "source": [
        "# inspect y and X\n",
        "print(y, X)"
      ],
      "metadata": {
        "colab": {
          "base_uri": "https://localhost:8080/"
        },
        "id": "J7LkMIiXMmsY",
        "outputId": "041f4378-c4ab-4a48-96d5-639fcf0ebbec"
      },
      "execution_count": null,
      "outputs": [
        {
          "output_type": "stream",
          "name": "stdout",
          "text": [
            "0     110.0\n",
            "1     130.0\n",
            "3     120.0\n",
            "4     110.0\n",
            "5     110.0\n",
            "      ...  \n",
            "72    110.0\n",
            "73    100.0\n",
            "74    100.0\n",
            "75    100.0\n",
            "76    100.0\n",
            "Name: calories per serving, Length: 70, dtype: float64                    Manufacturer  type  grams of fat  grams of sugars  \\\n",
            "0                 General Mills  Cold           2.0             10.0   \n",
            "1                 General Mills  Cold           2.0              NaN   \n",
            "3                 General Mills  Cold           3.0              9.0   \n",
            "4                 General Mills  Cold           2.0              7.0   \n",
            "5                 General Mills  Cold           1.0             13.0   \n",
            "..                          ...   ...           ...              ...   \n",
            "72               Ralston Purina  Cold           NaN              2.0   \n",
            "73               Ralston Purina  Cold           1.0              3.0   \n",
            "74  American Home Food Products   Hot           1.0              NaN   \n",
            "75                      Nabisco   Hot           0.0              0.0   \n",
            "76                  Quaker Oats   Hot           2.0             -1.0   \n",
            "\n",
            "    Weight in ounces per one serving  \n",
            "0                               1.00  \n",
            "1                               1.33  \n",
            "3                               1.00  \n",
            "4                               1.00  \n",
            "5                               1.00  \n",
            "..                               ...  \n",
            "72                              1.00  \n",
            "73                              1.00  \n",
            "74                              1.00  \n",
            "75                              1.00  \n",
            "76                              1.00  \n",
            "\n",
            "[70 rows x 5 columns]\n"
          ]
        }
      ]
    },
    {
      "cell_type": "markdown",
      "source": [
        "# Train test split the data to prepare for machine learning.\n"
      ],
      "metadata": {
        "id": "gjNk0o9cFZt7"
      }
    },
    {
      "cell_type": "code",
      "source": [
        "# train test split\n",
        "X_train, X_test, y_train, y_test = train_test_split(X, y, random_state = 42)"
      ],
      "metadata": {
        "id": "3EVvy3KnN4cT"
      },
      "execution_count": null,
      "outputs": []
    },
    {
      "cell_type": "markdown",
      "source": [
        "# Identify each feature as numerical, ordinal, or nominal. (Please provide this answer in a text cell in your Colab notebook).\n"
      ],
      "metadata": {
        "id": "5Y4F4EgbFaTI"
      }
    },
    {
      "cell_type": "code",
      "source": [
        "# inspect y\n",
        "y.dtype"
      ],
      "metadata": {
        "colab": {
          "base_uri": "https://localhost:8080/"
        },
        "id": "dZXaxMyaOzZx",
        "outputId": "8dde9df3-90dc-41bb-de7c-e7ad33563516"
      },
      "execution_count": null,
      "outputs": [
        {
          "output_type": "execute_result",
          "data": {
            "text/plain": [
              "dtype('float64')"
            ]
          },
          "metadata": {},
          "execution_count": 11
        }
      ]
    },
    {
      "cell_type": "code",
      "source": [
        "y.value_counts(dropna = False)"
      ],
      "metadata": {
        "colab": {
          "base_uri": "https://localhost:8080/"
        },
        "id": "tWOEDzcIO52a",
        "outputId": "733d876f-99df-4f93-869a-f4a0da7eb7fb"
      },
      "execution_count": null,
      "outputs": [
        {
          "output_type": "execute_result",
          "data": {
            "text/plain": [
              "110.0    27\n",
              "100.0    16\n",
              "120.0     9\n",
              "90.0      5\n",
              "140.0     3\n",
              "50.0      3\n",
              "70.0      2\n",
              "150.0     2\n",
              "130.0     1\n",
              "160.0     1\n",
              "80.0      1\n",
              "Name: calories per serving, dtype: int64"
            ]
          },
          "metadata": {},
          "execution_count": 12
        }
      ]
    },
    {
      "cell_type": "markdown",
      "source": [
        "Target variable y is numerical."
      ],
      "metadata": {
        "id": "lmrt1RbWO9d1"
      }
    },
    {
      "cell_type": "code",
      "source": [
        "# inspect value counts for each column in X_train\n",
        "for column in X_train:\n",
        "  print(f\"{column}: {df[column].dtype}\\n{X_train[column].value_counts(dropna = False)} \\n\\n\")"
      ],
      "metadata": {
        "colab": {
          "base_uri": "https://localhost:8080/"
        },
        "id": "_1OutAduOoId",
        "outputId": "b676a2af-4662-450e-8c79-1187e55ecb91"
      },
      "execution_count": null,
      "outputs": [
        {
          "output_type": "stream",
          "name": "stdout",
          "text": [
            "Manufacturer: object\n",
            "Kelloggs          16\n",
            "General Mills     13\n",
            "Quaker Oats        6\n",
            "Post               6\n",
            "Ralston Purina     6\n",
            "Nabisco            5\n",
            "Name: Manufacturer, dtype: int64 \n",
            "\n",
            "\n",
            "type: object\n",
            "Cold    45\n",
            "NaN      5\n",
            "Hot      2\n",
            "Name: type, dtype: int64 \n",
            "\n",
            "\n",
            "grams of fat: float64\n",
            "1.0    18\n",
            "0.0    17\n",
            "2.0     7\n",
            "NaN     5\n",
            "3.0     4\n",
            "5.0     1\n",
            "Name: grams of fat, dtype: int64 \n",
            "\n",
            "\n",
            "grams of sugars: float64\n",
            " 3.0     8\n",
            " 0.0     6\n",
            " NaN     6\n",
            " 11.0    5\n",
            " 12.0    4\n",
            " 6.0     4\n",
            " 7.0     3\n",
            " 8.0     3\n",
            " 9.0     2\n",
            " 15.0    2\n",
            " 10.0    2\n",
            " 13.0    2\n",
            " 2.0     2\n",
            "-1.0     1\n",
            " 14.0    1\n",
            " 4.0     1\n",
            "Name: grams of sugars, dtype: int64 \n",
            "\n",
            "\n",
            "Weight in ounces per one serving: float64\n",
            "1.00    43\n",
            "1.33     4\n",
            "1.50     2\n",
            "0.50     1\n",
            "0.83     1\n",
            "1.25     1\n",
            "Name: Weight in ounces per one serving, dtype: int64 \n",
            "\n",
            "\n"
          ]
        }
      ]
    },
    {
      "cell_type": "markdown",
      "source": [
        "'Manufacturer' and 'type' features are nominal, and 'Weight in ounces per one serving', 'grams of sugars', and 'grams of fat' are numerical."
      ],
      "metadata": {
        "id": "slZsiyndRTuo"
      }
    },
    {
      "cell_type": "markdown",
      "source": [
        "# Use pipelines and column transformers to complete the following tasks:\n"
      ],
      "metadata": {
        "id": "IYtgR_lOFcKO"
      }
    },
    {
      "cell_type": "markdown",
      "source": [
        "## Impute any missing values. Use the ‘mean’ strategy for numeric columns and the ‘most_frequent’ strategy for categorical columns.\n"
      ],
      "metadata": {
        "id": "6OUvFEoYFczU"
      }
    },
    {
      "cell_type": "code",
      "source": [
        "# make column selectors\n",
        "cat_selector = make_column_selector(dtype_include = 'object')\n",
        "num_selector = make_column_selector(dtype_include = 'number')"
      ],
      "metadata": {
        "id": "2D0lpIeIKohq"
      },
      "execution_count": null,
      "outputs": []
    },
    {
      "cell_type": "code",
      "source": [
        "# make mean imputer for numeric columns\n",
        "mean_imputer = SimpleImputer(strategy = 'mean')"
      ],
      "metadata": {
        "id": "6i8k_CJPKfo1"
      },
      "execution_count": null,
      "outputs": []
    },
    {
      "cell_type": "code",
      "source": [
        "# make most_frequent imputer for categorical columns\n",
        "freq_imputer = SimpleImputer(strategy = 'most_frequent')"
      ],
      "metadata": {
        "id": "pBYgfo-RLCuh"
      },
      "execution_count": null,
      "outputs": []
    },
    {
      "cell_type": "markdown",
      "source": [
        "## One-hot encode the nominal features.\n"
      ],
      "metadata": {
        "id": "MzAGpmYKFe48"
      }
    },
    {
      "cell_type": "markdown",
      "source": [
        "### Be sure to include the arguments: sparse=False AND handle_unknown='ignore' when creating your OneHotEncoder.\n"
      ],
      "metadata": {
        "id": "-SNdhusbFgyy"
      }
    },
    {
      "cell_type": "code",
      "source": [
        "# make one hot encoder for categorical columns\n",
        "ohe = OneHotEncoder(handle_unknown = 'ignore', sparse_output = False)"
      ],
      "metadata": {
        "id": "yUnKz20ULSrr"
      },
      "execution_count": null,
      "outputs": []
    },
    {
      "cell_type": "markdown",
      "source": [
        "## Scale the numeric columns.\n"
      ],
      "metadata": {
        "id": "iN3WZExWFiEn"
      }
    },
    {
      "cell_type": "code",
      "source": [
        "# make scaler for numeric columns\n",
        "scaler = StandardScaler()"
      ],
      "metadata": {
        "id": "K70niSMqLOqX"
      },
      "execution_count": null,
      "outputs": []
    },
    {
      "cell_type": "markdown",
      "source": [
        "# All preprocessing steps should be contained within a single preprocessing object.\n"
      ],
      "metadata": {
        "id": "HT8J1OGEFjZk"
      }
    },
    {
      "cell_type": "code",
      "source": [
        "# make numeric columns pipeline\n",
        "numeric_pipe = make_pipeline(mean_imputer, scaler)"
      ],
      "metadata": {
        "id": "-PoTQRR_Luml"
      },
      "execution_count": null,
      "outputs": []
    },
    {
      "cell_type": "code",
      "source": [
        "# make categorical columns pipeline\n",
        "categorical_pipe = make_pipeline(freq_imputer, ohe)"
      ],
      "metadata": {
        "id": "oQ4t980cL2Tz"
      },
      "execution_count": null,
      "outputs": []
    },
    {
      "cell_type": "markdown",
      "source": [
        "## Include the arguments: remainder='drop' OR remainder='passthrough' when creating your ColumnTransformer\n"
      ],
      "metadata": {
        "id": "RPEKIVfVFkxs"
      }
    },
    {
      "cell_type": "code",
      "source": [
        "# make numeric and categorical tuples for the column transformer\n",
        "numeric_tuple = (numeric_pipe, num_selector)\n",
        "categorical_tuple = (categorical_pipe, cat_selector)"
      ],
      "metadata": {
        "id": "xdDAeNYcMGAm"
      },
      "execution_count": null,
      "outputs": []
    },
    {
      "cell_type": "code",
      "source": [
        "# make column transformer with numeric and categorical pipelines\n",
        "preprocessor = make_column_transformer(numeric_tuple,\n",
        "                                       categorical_tuple)"
      ],
      "metadata": {
        "id": "Jl2OevCzL9sx"
      },
      "execution_count": null,
      "outputs": []
    },
    {
      "cell_type": "code",
      "source": [
        "# inspect column transformer\n",
        "preprocessor"
      ],
      "metadata": {
        "colab": {
          "base_uri": "https://localhost:8080/",
          "height": 151
        },
        "id": "4uF7pk-KMZHT",
        "outputId": "67955f2b-3074-44ec-bf3c-3222acd4cf2a"
      },
      "execution_count": null,
      "outputs": [
        {
          "output_type": "execute_result",
          "data": {
            "text/plain": [
              "ColumnTransformer(transformers=[('pipeline-1',\n",
              "                                 Pipeline(steps=[('simpleimputer',\n",
              "                                                  SimpleImputer()),\n",
              "                                                 ('standardscaler',\n",
              "                                                  StandardScaler())]),\n",
              "                                 <sklearn.compose._column_transformer.make_column_selector object at 0x7f1963a52820>),\n",
              "                                ('pipeline-2',\n",
              "                                 Pipeline(steps=[('simpleimputer',\n",
              "                                                  SimpleImputer(strategy='most_frequent')),\n",
              "                                                 ('onehotencoder',\n",
              "                                                  OneHotEncoder(handle_unknown='ignore',\n",
              "                                                                sparse_output=False))]),\n",
              "                                 <sklearn.compose._column_transformer.make_column_selector object at 0x7f1963a526d0>)])"
            ],
            "text/html": [
              "<style>#sk-container-id-1 {color: black;background-color: white;}#sk-container-id-1 pre{padding: 0;}#sk-container-id-1 div.sk-toggleable {background-color: white;}#sk-container-id-1 label.sk-toggleable__label {cursor: pointer;display: block;width: 100%;margin-bottom: 0;padding: 0.3em;box-sizing: border-box;text-align: center;}#sk-container-id-1 label.sk-toggleable__label-arrow:before {content: \"▸\";float: left;margin-right: 0.25em;color: #696969;}#sk-container-id-1 label.sk-toggleable__label-arrow:hover:before {color: black;}#sk-container-id-1 div.sk-estimator:hover label.sk-toggleable__label-arrow:before {color: black;}#sk-container-id-1 div.sk-toggleable__content {max-height: 0;max-width: 0;overflow: hidden;text-align: left;background-color: #f0f8ff;}#sk-container-id-1 div.sk-toggleable__content pre {margin: 0.2em;color: black;border-radius: 0.25em;background-color: #f0f8ff;}#sk-container-id-1 input.sk-toggleable__control:checked~div.sk-toggleable__content {max-height: 200px;max-width: 100%;overflow: auto;}#sk-container-id-1 input.sk-toggleable__control:checked~label.sk-toggleable__label-arrow:before {content: \"▾\";}#sk-container-id-1 div.sk-estimator input.sk-toggleable__control:checked~label.sk-toggleable__label {background-color: #d4ebff;}#sk-container-id-1 div.sk-label input.sk-toggleable__control:checked~label.sk-toggleable__label {background-color: #d4ebff;}#sk-container-id-1 input.sk-hidden--visually {border: 0;clip: rect(1px 1px 1px 1px);clip: rect(1px, 1px, 1px, 1px);height: 1px;margin: -1px;overflow: hidden;padding: 0;position: absolute;width: 1px;}#sk-container-id-1 div.sk-estimator {font-family: monospace;background-color: #f0f8ff;border: 1px dotted black;border-radius: 0.25em;box-sizing: border-box;margin-bottom: 0.5em;}#sk-container-id-1 div.sk-estimator:hover {background-color: #d4ebff;}#sk-container-id-1 div.sk-parallel-item::after {content: \"\";width: 100%;border-bottom: 1px solid gray;flex-grow: 1;}#sk-container-id-1 div.sk-label:hover label.sk-toggleable__label {background-color: #d4ebff;}#sk-container-id-1 div.sk-serial::before {content: \"\";position: absolute;border-left: 1px solid gray;box-sizing: border-box;top: 0;bottom: 0;left: 50%;z-index: 0;}#sk-container-id-1 div.sk-serial {display: flex;flex-direction: column;align-items: center;background-color: white;padding-right: 0.2em;padding-left: 0.2em;position: relative;}#sk-container-id-1 div.sk-item {position: relative;z-index: 1;}#sk-container-id-1 div.sk-parallel {display: flex;align-items: stretch;justify-content: center;background-color: white;position: relative;}#sk-container-id-1 div.sk-item::before, #sk-container-id-1 div.sk-parallel-item::before {content: \"\";position: absolute;border-left: 1px solid gray;box-sizing: border-box;top: 0;bottom: 0;left: 50%;z-index: -1;}#sk-container-id-1 div.sk-parallel-item {display: flex;flex-direction: column;z-index: 1;position: relative;background-color: white;}#sk-container-id-1 div.sk-parallel-item:first-child::after {align-self: flex-end;width: 50%;}#sk-container-id-1 div.sk-parallel-item:last-child::after {align-self: flex-start;width: 50%;}#sk-container-id-1 div.sk-parallel-item:only-child::after {width: 0;}#sk-container-id-1 div.sk-dashed-wrapped {border: 1px dashed gray;margin: 0 0.4em 0.5em 0.4em;box-sizing: border-box;padding-bottom: 0.4em;background-color: white;}#sk-container-id-1 div.sk-label label {font-family: monospace;font-weight: bold;display: inline-block;line-height: 1.2em;}#sk-container-id-1 div.sk-label-container {text-align: center;}#sk-container-id-1 div.sk-container {/* jupyter's `normalize.less` sets `[hidden] { display: none; }` but bootstrap.min.css set `[hidden] { display: none !important; }` so we also need the `!important` here to be able to override the default hidden behavior on the sphinx rendered scikit-learn.org. See: https://github.com/scikit-learn/scikit-learn/issues/21755 */display: inline-block !important;position: relative;}#sk-container-id-1 div.sk-text-repr-fallback {display: none;}</style><div id=\"sk-container-id-1\" class=\"sk-top-container\"><div class=\"sk-text-repr-fallback\"><pre>ColumnTransformer(transformers=[(&#x27;pipeline-1&#x27;,\n",
              "                                 Pipeline(steps=[(&#x27;simpleimputer&#x27;,\n",
              "                                                  SimpleImputer()),\n",
              "                                                 (&#x27;standardscaler&#x27;,\n",
              "                                                  StandardScaler())]),\n",
              "                                 &lt;sklearn.compose._column_transformer.make_column_selector object at 0x7f1963a52820&gt;),\n",
              "                                (&#x27;pipeline-2&#x27;,\n",
              "                                 Pipeline(steps=[(&#x27;simpleimputer&#x27;,\n",
              "                                                  SimpleImputer(strategy=&#x27;most_frequent&#x27;)),\n",
              "                                                 (&#x27;onehotencoder&#x27;,\n",
              "                                                  OneHotEncoder(handle_unknown=&#x27;ignore&#x27;,\n",
              "                                                                sparse_output=False))]),\n",
              "                                 &lt;sklearn.compose._column_transformer.make_column_selector object at 0x7f1963a526d0&gt;)])</pre><b>In a Jupyter environment, please rerun this cell to show the HTML representation or trust the notebook. <br />On GitHub, the HTML representation is unable to render, please try loading this page with nbviewer.org.</b></div><div class=\"sk-container\" hidden><div class=\"sk-item sk-dashed-wrapped\"><div class=\"sk-label-container\"><div class=\"sk-label sk-toggleable\"><input class=\"sk-toggleable__control sk-hidden--visually\" id=\"sk-estimator-id-1\" type=\"checkbox\" ><label for=\"sk-estimator-id-1\" class=\"sk-toggleable__label sk-toggleable__label-arrow\">ColumnTransformer</label><div class=\"sk-toggleable__content\"><pre>ColumnTransformer(transformers=[(&#x27;pipeline-1&#x27;,\n",
              "                                 Pipeline(steps=[(&#x27;simpleimputer&#x27;,\n",
              "                                                  SimpleImputer()),\n",
              "                                                 (&#x27;standardscaler&#x27;,\n",
              "                                                  StandardScaler())]),\n",
              "                                 &lt;sklearn.compose._column_transformer.make_column_selector object at 0x7f1963a52820&gt;),\n",
              "                                (&#x27;pipeline-2&#x27;,\n",
              "                                 Pipeline(steps=[(&#x27;simpleimputer&#x27;,\n",
              "                                                  SimpleImputer(strategy=&#x27;most_frequent&#x27;)),\n",
              "                                                 (&#x27;onehotencoder&#x27;,\n",
              "                                                  OneHotEncoder(handle_unknown=&#x27;ignore&#x27;,\n",
              "                                                                sparse_output=False))]),\n",
              "                                 &lt;sklearn.compose._column_transformer.make_column_selector object at 0x7f1963a526d0&gt;)])</pre></div></div></div><div class=\"sk-parallel\"><div class=\"sk-parallel-item\"><div class=\"sk-item\"><div class=\"sk-label-container\"><div class=\"sk-label sk-toggleable\"><input class=\"sk-toggleable__control sk-hidden--visually\" id=\"sk-estimator-id-2\" type=\"checkbox\" ><label for=\"sk-estimator-id-2\" class=\"sk-toggleable__label sk-toggleable__label-arrow\">pipeline-1</label><div class=\"sk-toggleable__content\"><pre>&lt;sklearn.compose._column_transformer.make_column_selector object at 0x7f1963a52820&gt;</pre></div></div></div><div class=\"sk-serial\"><div class=\"sk-item\"><div class=\"sk-serial\"><div class=\"sk-item\"><div class=\"sk-estimator sk-toggleable\"><input class=\"sk-toggleable__control sk-hidden--visually\" id=\"sk-estimator-id-3\" type=\"checkbox\" ><label for=\"sk-estimator-id-3\" class=\"sk-toggleable__label sk-toggleable__label-arrow\">SimpleImputer</label><div class=\"sk-toggleable__content\"><pre>SimpleImputer()</pre></div></div></div><div class=\"sk-item\"><div class=\"sk-estimator sk-toggleable\"><input class=\"sk-toggleable__control sk-hidden--visually\" id=\"sk-estimator-id-4\" type=\"checkbox\" ><label for=\"sk-estimator-id-4\" class=\"sk-toggleable__label sk-toggleable__label-arrow\">StandardScaler</label><div class=\"sk-toggleable__content\"><pre>StandardScaler()</pre></div></div></div></div></div></div></div></div><div class=\"sk-parallel-item\"><div class=\"sk-item\"><div class=\"sk-label-container\"><div class=\"sk-label sk-toggleable\"><input class=\"sk-toggleable__control sk-hidden--visually\" id=\"sk-estimator-id-5\" type=\"checkbox\" ><label for=\"sk-estimator-id-5\" class=\"sk-toggleable__label sk-toggleable__label-arrow\">pipeline-2</label><div class=\"sk-toggleable__content\"><pre>&lt;sklearn.compose._column_transformer.make_column_selector object at 0x7f1963a526d0&gt;</pre></div></div></div><div class=\"sk-serial\"><div class=\"sk-item\"><div class=\"sk-serial\"><div class=\"sk-item\"><div class=\"sk-estimator sk-toggleable\"><input class=\"sk-toggleable__control sk-hidden--visually\" id=\"sk-estimator-id-6\" type=\"checkbox\" ><label for=\"sk-estimator-id-6\" class=\"sk-toggleable__label sk-toggleable__label-arrow\">SimpleImputer</label><div class=\"sk-toggleable__content\"><pre>SimpleImputer(strategy=&#x27;most_frequent&#x27;)</pre></div></div></div><div class=\"sk-item\"><div class=\"sk-estimator sk-toggleable\"><input class=\"sk-toggleable__control sk-hidden--visually\" id=\"sk-estimator-id-7\" type=\"checkbox\" ><label for=\"sk-estimator-id-7\" class=\"sk-toggleable__label sk-toggleable__label-arrow\">OneHotEncoder</label><div class=\"sk-toggleable__content\"><pre>OneHotEncoder(handle_unknown=&#x27;ignore&#x27;, sparse_output=False)</pre></div></div></div></div></div></div></div></div></div></div></div></div>"
            ]
          },
          "metadata": {},
          "execution_count": 23
        }
      ]
    },
    {
      "cell_type": "markdown",
      "source": [
        "# Use your preprocessing object to transform your data appropriately, avoiding data leakage, to make it ready for modeling. Show the resulting NumPy array output.\n"
      ],
      "metadata": {
        "id": "hwZ5HsARFmjH"
      }
    },
    {
      "cell_type": "markdown",
      "source": [
        "## The .fit() and .transform() methods should ONLY be used with the resulting preprocessing object, NOT with any individual transformer.\n"
      ],
      "metadata": {
        "id": "Znq5HTB-FoBI"
      }
    },
    {
      "cell_type": "code",
      "execution_count": null,
      "metadata": {
        "colab": {
          "base_uri": "https://localhost:8080/",
          "height": 151
        },
        "id": "kW6hLB71EKKO",
        "outputId": "8cfc3629-5801-447e-cb5a-1737d71d74d8"
      },
      "outputs": [
        {
          "output_type": "execute_result",
          "data": {
            "text/plain": [
              "ColumnTransformer(transformers=[('pipeline-1',\n",
              "                                 Pipeline(steps=[('simpleimputer',\n",
              "                                                  SimpleImputer()),\n",
              "                                                 ('standardscaler',\n",
              "                                                  StandardScaler())]),\n",
              "                                 <sklearn.compose._column_transformer.make_column_selector object at 0x7f1963a52820>),\n",
              "                                ('pipeline-2',\n",
              "                                 Pipeline(steps=[('simpleimputer',\n",
              "                                                  SimpleImputer(strategy='most_frequent')),\n",
              "                                                 ('onehotencoder',\n",
              "                                                  OneHotEncoder(handle_unknown='ignore',\n",
              "                                                                sparse_output=False))]),\n",
              "                                 <sklearn.compose._column_transformer.make_column_selector object at 0x7f1963a526d0>)])"
            ],
            "text/html": [
              "<style>#sk-container-id-2 {color: black;background-color: white;}#sk-container-id-2 pre{padding: 0;}#sk-container-id-2 div.sk-toggleable {background-color: white;}#sk-container-id-2 label.sk-toggleable__label {cursor: pointer;display: block;width: 100%;margin-bottom: 0;padding: 0.3em;box-sizing: border-box;text-align: center;}#sk-container-id-2 label.sk-toggleable__label-arrow:before {content: \"▸\";float: left;margin-right: 0.25em;color: #696969;}#sk-container-id-2 label.sk-toggleable__label-arrow:hover:before {color: black;}#sk-container-id-2 div.sk-estimator:hover label.sk-toggleable__label-arrow:before {color: black;}#sk-container-id-2 div.sk-toggleable__content {max-height: 0;max-width: 0;overflow: hidden;text-align: left;background-color: #f0f8ff;}#sk-container-id-2 div.sk-toggleable__content pre {margin: 0.2em;color: black;border-radius: 0.25em;background-color: #f0f8ff;}#sk-container-id-2 input.sk-toggleable__control:checked~div.sk-toggleable__content {max-height: 200px;max-width: 100%;overflow: auto;}#sk-container-id-2 input.sk-toggleable__control:checked~label.sk-toggleable__label-arrow:before {content: \"▾\";}#sk-container-id-2 div.sk-estimator input.sk-toggleable__control:checked~label.sk-toggleable__label {background-color: #d4ebff;}#sk-container-id-2 div.sk-label input.sk-toggleable__control:checked~label.sk-toggleable__label {background-color: #d4ebff;}#sk-container-id-2 input.sk-hidden--visually {border: 0;clip: rect(1px 1px 1px 1px);clip: rect(1px, 1px, 1px, 1px);height: 1px;margin: -1px;overflow: hidden;padding: 0;position: absolute;width: 1px;}#sk-container-id-2 div.sk-estimator {font-family: monospace;background-color: #f0f8ff;border: 1px dotted black;border-radius: 0.25em;box-sizing: border-box;margin-bottom: 0.5em;}#sk-container-id-2 div.sk-estimator:hover {background-color: #d4ebff;}#sk-container-id-2 div.sk-parallel-item::after {content: \"\";width: 100%;border-bottom: 1px solid gray;flex-grow: 1;}#sk-container-id-2 div.sk-label:hover label.sk-toggleable__label {background-color: #d4ebff;}#sk-container-id-2 div.sk-serial::before {content: \"\";position: absolute;border-left: 1px solid gray;box-sizing: border-box;top: 0;bottom: 0;left: 50%;z-index: 0;}#sk-container-id-2 div.sk-serial {display: flex;flex-direction: column;align-items: center;background-color: white;padding-right: 0.2em;padding-left: 0.2em;position: relative;}#sk-container-id-2 div.sk-item {position: relative;z-index: 1;}#sk-container-id-2 div.sk-parallel {display: flex;align-items: stretch;justify-content: center;background-color: white;position: relative;}#sk-container-id-2 div.sk-item::before, #sk-container-id-2 div.sk-parallel-item::before {content: \"\";position: absolute;border-left: 1px solid gray;box-sizing: border-box;top: 0;bottom: 0;left: 50%;z-index: -1;}#sk-container-id-2 div.sk-parallel-item {display: flex;flex-direction: column;z-index: 1;position: relative;background-color: white;}#sk-container-id-2 div.sk-parallel-item:first-child::after {align-self: flex-end;width: 50%;}#sk-container-id-2 div.sk-parallel-item:last-child::after {align-self: flex-start;width: 50%;}#sk-container-id-2 div.sk-parallel-item:only-child::after {width: 0;}#sk-container-id-2 div.sk-dashed-wrapped {border: 1px dashed gray;margin: 0 0.4em 0.5em 0.4em;box-sizing: border-box;padding-bottom: 0.4em;background-color: white;}#sk-container-id-2 div.sk-label label {font-family: monospace;font-weight: bold;display: inline-block;line-height: 1.2em;}#sk-container-id-2 div.sk-label-container {text-align: center;}#sk-container-id-2 div.sk-container {/* jupyter's `normalize.less` sets `[hidden] { display: none; }` but bootstrap.min.css set `[hidden] { display: none !important; }` so we also need the `!important` here to be able to override the default hidden behavior on the sphinx rendered scikit-learn.org. See: https://github.com/scikit-learn/scikit-learn/issues/21755 */display: inline-block !important;position: relative;}#sk-container-id-2 div.sk-text-repr-fallback {display: none;}</style><div id=\"sk-container-id-2\" class=\"sk-top-container\"><div class=\"sk-text-repr-fallback\"><pre>ColumnTransformer(transformers=[(&#x27;pipeline-1&#x27;,\n",
              "                                 Pipeline(steps=[(&#x27;simpleimputer&#x27;,\n",
              "                                                  SimpleImputer()),\n",
              "                                                 (&#x27;standardscaler&#x27;,\n",
              "                                                  StandardScaler())]),\n",
              "                                 &lt;sklearn.compose._column_transformer.make_column_selector object at 0x7f1963a52820&gt;),\n",
              "                                (&#x27;pipeline-2&#x27;,\n",
              "                                 Pipeline(steps=[(&#x27;simpleimputer&#x27;,\n",
              "                                                  SimpleImputer(strategy=&#x27;most_frequent&#x27;)),\n",
              "                                                 (&#x27;onehotencoder&#x27;,\n",
              "                                                  OneHotEncoder(handle_unknown=&#x27;ignore&#x27;,\n",
              "                                                                sparse_output=False))]),\n",
              "                                 &lt;sklearn.compose._column_transformer.make_column_selector object at 0x7f1963a526d0&gt;)])</pre><b>In a Jupyter environment, please rerun this cell to show the HTML representation or trust the notebook. <br />On GitHub, the HTML representation is unable to render, please try loading this page with nbviewer.org.</b></div><div class=\"sk-container\" hidden><div class=\"sk-item sk-dashed-wrapped\"><div class=\"sk-label-container\"><div class=\"sk-label sk-toggleable\"><input class=\"sk-toggleable__control sk-hidden--visually\" id=\"sk-estimator-id-8\" type=\"checkbox\" ><label for=\"sk-estimator-id-8\" class=\"sk-toggleable__label sk-toggleable__label-arrow\">ColumnTransformer</label><div class=\"sk-toggleable__content\"><pre>ColumnTransformer(transformers=[(&#x27;pipeline-1&#x27;,\n",
              "                                 Pipeline(steps=[(&#x27;simpleimputer&#x27;,\n",
              "                                                  SimpleImputer()),\n",
              "                                                 (&#x27;standardscaler&#x27;,\n",
              "                                                  StandardScaler())]),\n",
              "                                 &lt;sklearn.compose._column_transformer.make_column_selector object at 0x7f1963a52820&gt;),\n",
              "                                (&#x27;pipeline-2&#x27;,\n",
              "                                 Pipeline(steps=[(&#x27;simpleimputer&#x27;,\n",
              "                                                  SimpleImputer(strategy=&#x27;most_frequent&#x27;)),\n",
              "                                                 (&#x27;onehotencoder&#x27;,\n",
              "                                                  OneHotEncoder(handle_unknown=&#x27;ignore&#x27;,\n",
              "                                                                sparse_output=False))]),\n",
              "                                 &lt;sklearn.compose._column_transformer.make_column_selector object at 0x7f1963a526d0&gt;)])</pre></div></div></div><div class=\"sk-parallel\"><div class=\"sk-parallel-item\"><div class=\"sk-item\"><div class=\"sk-label-container\"><div class=\"sk-label sk-toggleable\"><input class=\"sk-toggleable__control sk-hidden--visually\" id=\"sk-estimator-id-9\" type=\"checkbox\" ><label for=\"sk-estimator-id-9\" class=\"sk-toggleable__label sk-toggleable__label-arrow\">pipeline-1</label><div class=\"sk-toggleable__content\"><pre>&lt;sklearn.compose._column_transformer.make_column_selector object at 0x7f1963a52820&gt;</pre></div></div></div><div class=\"sk-serial\"><div class=\"sk-item\"><div class=\"sk-serial\"><div class=\"sk-item\"><div class=\"sk-estimator sk-toggleable\"><input class=\"sk-toggleable__control sk-hidden--visually\" id=\"sk-estimator-id-10\" type=\"checkbox\" ><label for=\"sk-estimator-id-10\" class=\"sk-toggleable__label sk-toggleable__label-arrow\">SimpleImputer</label><div class=\"sk-toggleable__content\"><pre>SimpleImputer()</pre></div></div></div><div class=\"sk-item\"><div class=\"sk-estimator sk-toggleable\"><input class=\"sk-toggleable__control sk-hidden--visually\" id=\"sk-estimator-id-11\" type=\"checkbox\" ><label for=\"sk-estimator-id-11\" class=\"sk-toggleable__label sk-toggleable__label-arrow\">StandardScaler</label><div class=\"sk-toggleable__content\"><pre>StandardScaler()</pre></div></div></div></div></div></div></div></div><div class=\"sk-parallel-item\"><div class=\"sk-item\"><div class=\"sk-label-container\"><div class=\"sk-label sk-toggleable\"><input class=\"sk-toggleable__control sk-hidden--visually\" id=\"sk-estimator-id-12\" type=\"checkbox\" ><label for=\"sk-estimator-id-12\" class=\"sk-toggleable__label sk-toggleable__label-arrow\">pipeline-2</label><div class=\"sk-toggleable__content\"><pre>&lt;sklearn.compose._column_transformer.make_column_selector object at 0x7f1963a526d0&gt;</pre></div></div></div><div class=\"sk-serial\"><div class=\"sk-item\"><div class=\"sk-serial\"><div class=\"sk-item\"><div class=\"sk-estimator sk-toggleable\"><input class=\"sk-toggleable__control sk-hidden--visually\" id=\"sk-estimator-id-13\" type=\"checkbox\" ><label for=\"sk-estimator-id-13\" class=\"sk-toggleable__label sk-toggleable__label-arrow\">SimpleImputer</label><div class=\"sk-toggleable__content\"><pre>SimpleImputer(strategy=&#x27;most_frequent&#x27;)</pre></div></div></div><div class=\"sk-item\"><div class=\"sk-estimator sk-toggleable\"><input class=\"sk-toggleable__control sk-hidden--visually\" id=\"sk-estimator-id-14\" type=\"checkbox\" ><label for=\"sk-estimator-id-14\" class=\"sk-toggleable__label sk-toggleable__label-arrow\">OneHotEncoder</label><div class=\"sk-toggleable__content\"><pre>OneHotEncoder(handle_unknown=&#x27;ignore&#x27;, sparse_output=False)</pre></div></div></div></div></div></div></div></div></div></div></div></div>"
            ]
          },
          "metadata": {},
          "execution_count": 24
        }
      ],
      "source": [
        "# fit the column transformer on the TRAINING SET ONLY\n",
        "preprocessor.fit(X_train)"
      ]
    },
    {
      "cell_type": "code",
      "source": [
        "# transform training AND testing sets with column transformer\n",
        "X_train_processed = preprocessor.transform(X_train)\n",
        "X_test_processed = preprocessor.transform(X_test)"
      ],
      "metadata": {
        "id": "Xaq4XbuCMk8l"
      },
      "execution_count": null,
      "outputs": []
    },
    {
      "cell_type": "code",
      "source": [
        "# check for missing values\n",
        "print(np.isnan(X_train_processed).sum().sum(), 'missing claues in training data')\n",
        "print(np.isnan(X_test_processed).sum().sum(), 'missing values in testing data')"
      ],
      "metadata": {
        "colab": {
          "base_uri": "https://localhost:8080/"
        },
        "id": "uywdvgxQMx0K",
        "outputId": "b947062c-f702-448f-e7e2-815d30b5f836"
      },
      "execution_count": null,
      "outputs": [
        {
          "output_type": "stream",
          "name": "stdout",
          "text": [
            "0 missing claues in training data\n",
            "0 missing values in testing data\n"
          ]
        }
      ]
    },
    {
      "cell_type": "code",
      "source": [
        "# check that all data is numeric\n",
        "print('All data in X_train_processed are', X_train_processed.dtype)\n",
        "print('All data in X_test_processed are', X_test_processed.dtype)"
      ],
      "metadata": {
        "colab": {
          "base_uri": "https://localhost:8080/"
        },
        "id": "nWJFtfWwND7h",
        "outputId": "df92c49e-674b-4f5f-f3b3-c74cda902e89"
      },
      "execution_count": null,
      "outputs": [
        {
          "output_type": "stream",
          "name": "stdout",
          "text": [
            "All data in X_train_processed are float64\n",
            "All data in X_test_processed are float64\n"
          ]
        }
      ]
    },
    {
      "cell_type": "code",
      "source": [
        "# check shape of data to infer that categorical columns were one hot encoded\n",
        "# should have 11 columns (3 numeric, 'Manufacturer' has 6 unique values, 'type' has 2 unique values)\n",
        "print('Shape of X_train_processed data is', X_train_processed.shape)\n",
        "print('Shape of X_test_processed data is', X_test_processed.shape)"
      ],
      "metadata": {
        "colab": {
          "base_uri": "https://localhost:8080/"
        },
        "id": "Yj7tI-xSNXmx",
        "outputId": "c2dd63b8-0b2b-4ffb-f516-3e8da2cd2f36"
      },
      "execution_count": null,
      "outputs": [
        {
          "output_type": "stream",
          "name": "stdout",
          "text": [
            "Shape of X_train_processed data is (52, 11)\n",
            "Shape of X_test_processed data is (18, 11)\n"
          ]
        }
      ]
    },
    {
      "cell_type": "code",
      "source": [
        "# check arrays to see that numeric data was scaled\n",
        "print(X_train_processed)\n",
        "print(X_test_processed)"
      ],
      "metadata": {
        "colab": {
          "base_uri": "https://localhost:8080/"
        },
        "id": "Qq1a3cJYNr8C",
        "outputId": "f14f299c-e994-402a-a49c-aa7594526a91"
      },
      "execution_count": null,
      "outputs": [
        {
          "output_type": "stream",
          "name": "stdout",
          "text": [
            "[[-1.00539366e+00 -1.53835815e+00 -3.52083059e+00  0.00000000e+00\n",
            "   0.00000000e+00  0.00000000e+00  0.00000000e+00  1.00000000e+00\n",
            "   0.00000000e+00  1.00000000e+00  0.00000000e+00]\n",
            " [-4.10364759e-02  1.19210391e+00 -2.39769825e-01  0.00000000e+00\n",
            "   0.00000000e+00  0.00000000e+00  1.00000000e+00  0.00000000e+00\n",
            "   0.00000000e+00  1.00000000e+00  0.00000000e+00]\n",
            " [-4.10364759e-02 -8.55742637e-01 -2.39769825e-01  1.00000000e+00\n",
            "   0.00000000e+00  0.00000000e+00  0.00000000e+00  0.00000000e+00\n",
            "   0.00000000e+00  1.00000000e+00  0.00000000e+00]\n",
            " [ 9.23320709e-01  5.44113816e-02  1.92573028e+00  0.00000000e+00\n",
            "   1.00000000e+00  0.00000000e+00  0.00000000e+00  0.00000000e+00\n",
            "   0.00000000e+00  1.00000000e+00  0.00000000e+00]\n",
            " [-1.00539366e+00 -1.53835815e+00 -1.35533049e+00  0.00000000e+00\n",
            "   0.00000000e+00  1.00000000e+00  0.00000000e+00  0.00000000e+00\n",
            "   0.00000000e+00  1.00000000e+00  0.00000000e+00]\n",
            " [-1.00539366e+00  5.44113816e-02 -2.39769825e-01  0.00000000e+00\n",
            "   1.00000000e+00  0.00000000e+00  0.00000000e+00  0.00000000e+00\n",
            "   0.00000000e+00  1.00000000e+00  0.00000000e+00]\n",
            " [-4.10364759e-02  5.09488391e-01 -2.39769825e-01  1.00000000e+00\n",
            "   0.00000000e+00  0.00000000e+00  0.00000000e+00  0.00000000e+00\n",
            "   0.00000000e+00  1.00000000e+00  0.00000000e+00]\n",
            " [ 3.81639226e+00  2.81949886e-01 -2.39769825e-01  0.00000000e+00\n",
            "   0.00000000e+00  0.00000000e+00  0.00000000e+00  1.00000000e+00\n",
            "   0.00000000e+00  1.00000000e+00  0.00000000e+00]\n",
            " [-1.00539366e+00 -8.55742637e-01 -2.39769825e-01  0.00000000e+00\n",
            "   1.00000000e+00  0.00000000e+00  0.00000000e+00  0.00000000e+00\n",
            "   0.00000000e+00  1.00000000e+00  0.00000000e+00]\n",
            " [-1.00539366e+00 -1.53835815e+00 -2.39769825e-01  0.00000000e+00\n",
            "   0.00000000e+00  1.00000000e+00  0.00000000e+00  0.00000000e+00\n",
            "   0.00000000e+00  1.00000000e+00  0.00000000e+00]\n",
            " [ 2.14130310e-16  0.00000000e+00  1.40076056e+00  0.00000000e+00\n",
            "   0.00000000e+00  0.00000000e+00  1.00000000e+00  0.00000000e+00\n",
            "   0.00000000e+00  1.00000000e+00  0.00000000e+00]\n",
            " [-4.10364759e-02  2.81949886e-01 -2.39769825e-01  1.00000000e+00\n",
            "   0.00000000e+00  0.00000000e+00  0.00000000e+00  0.00000000e+00\n",
            "   0.00000000e+00  1.00000000e+00  0.00000000e+00]\n",
            " [ 2.14130310e-16  0.00000000e+00 -2.39769825e-01  0.00000000e+00\n",
            "   0.00000000e+00  0.00000000e+00  0.00000000e+00  1.00000000e+00\n",
            "   0.00000000e+00  1.00000000e+00  0.00000000e+00]\n",
            " [-4.10364759e-02  1.87471942e+00 -2.39769825e-01  0.00000000e+00\n",
            "   1.00000000e+00  0.00000000e+00  0.00000000e+00  0.00000000e+00\n",
            "   0.00000000e+00  1.00000000e+00  0.00000000e+00]\n",
            " [ 2.14130310e-16  0.00000000e+00 -2.39769825e-01  0.00000000e+00\n",
            "   1.00000000e+00  0.00000000e+00  0.00000000e+00  0.00000000e+00\n",
            "   0.00000000e+00  1.00000000e+00  0.00000000e+00]\n",
            " [ 2.14130310e-16 -8.55742637e-01 -2.39769825e-01  0.00000000e+00\n",
            "   1.00000000e+00  0.00000000e+00  0.00000000e+00  0.00000000e+00\n",
            "   0.00000000e+00  1.00000000e+00  0.00000000e+00]\n",
            " [-4.10364759e-02 -8.55742637e-01 -2.39769825e-01  1.00000000e+00\n",
            "   0.00000000e+00  0.00000000e+00  0.00000000e+00  0.00000000e+00\n",
            "   0.00000000e+00  1.00000000e+00  0.00000000e+00]\n",
            " [-1.00539366e+00 -8.55742637e-01 -2.39769825e-01  0.00000000e+00\n",
            "   0.00000000e+00  0.00000000e+00  1.00000000e+00  0.00000000e+00\n",
            "   0.00000000e+00  1.00000000e+00  0.00000000e+00]\n",
            " [ 9.23320709e-01  5.44113816e-02 -2.39769825e-01  1.00000000e+00\n",
            "   0.00000000e+00  0.00000000e+00  0.00000000e+00  0.00000000e+00\n",
            "   0.00000000e+00  1.00000000e+00  0.00000000e+00]\n",
            " [-4.10364759e-02  0.00000000e+00 -2.39769825e-01  1.00000000e+00\n",
            "   0.00000000e+00  0.00000000e+00  0.00000000e+00  0.00000000e+00\n",
            "   0.00000000e+00  1.00000000e+00  0.00000000e+00]\n",
            " [-4.10364759e-02  7.37026896e-01 -2.39769825e-01  1.00000000e+00\n",
            "   0.00000000e+00  0.00000000e+00  0.00000000e+00  0.00000000e+00\n",
            "   0.00000000e+00  1.00000000e+00  0.00000000e+00]\n",
            " [ 9.23320709e-01  9.64565400e-01 -2.39769825e-01  0.00000000e+00\n",
            "   0.00000000e+00  0.00000000e+00  0.00000000e+00  1.00000000e+00\n",
            "   0.00000000e+00  1.00000000e+00  0.00000000e+00]\n",
            " [-4.10364759e-02  7.37026896e-01 -2.39769825e-01  1.00000000e+00\n",
            "   0.00000000e+00  0.00000000e+00  0.00000000e+00  0.00000000e+00\n",
            "   0.00000000e+00  1.00000000e+00  0.00000000e+00]\n",
            " [-4.10364759e-02  1.19210391e+00  1.92573028e+00  0.00000000e+00\n",
            "   1.00000000e+00  0.00000000e+00  0.00000000e+00  0.00000000e+00\n",
            "   0.00000000e+00  1.00000000e+00  0.00000000e+00]\n",
            " [ 1.88767789e+00  9.64565400e-01 -2.39769825e-01  0.00000000e+00\n",
            "   0.00000000e+00  0.00000000e+00  0.00000000e+00  0.00000000e+00\n",
            "   1.00000000e+00  1.00000000e+00  0.00000000e+00]\n",
            " [ 9.23320709e-01 -1.76589666e+00 -2.39769825e-01  0.00000000e+00\n",
            "   0.00000000e+00  0.00000000e+00  0.00000000e+00  1.00000000e+00\n",
            "   0.00000000e+00  0.00000000e+00  1.00000000e+00]\n",
            " [-1.00539366e+00 -1.53835815e+00 -2.39769825e-01  0.00000000e+00\n",
            "   0.00000000e+00  1.00000000e+00  0.00000000e+00  0.00000000e+00\n",
            "   0.00000000e+00  0.00000000e+00  1.00000000e+00]\n",
            " [-4.10364759e-02 -8.55742637e-01 -2.39769825e-01  1.00000000e+00\n",
            "   0.00000000e+00  0.00000000e+00  0.00000000e+00  0.00000000e+00\n",
            "   0.00000000e+00  1.00000000e+00  0.00000000e+00]\n",
            " [-1.00539366e+00  9.64565400e-01 -2.39769825e-01  0.00000000e+00\n",
            "   1.00000000e+00  0.00000000e+00  0.00000000e+00  0.00000000e+00\n",
            "   0.00000000e+00  1.00000000e+00  0.00000000e+00]\n",
            " [-4.10364759e-02 -1.73127123e-01 -2.39769825e-01  0.00000000e+00\n",
            "   0.00000000e+00  1.00000000e+00  0.00000000e+00  0.00000000e+00\n",
            "   0.00000000e+00  1.00000000e+00  0.00000000e+00]\n",
            " [-4.10364759e-02  1.41964241e+00 -2.39769825e-01  0.00000000e+00\n",
            "   1.00000000e+00  0.00000000e+00  0.00000000e+00  0.00000000e+00\n",
            "   0.00000000e+00  1.00000000e+00  0.00000000e+00]\n",
            " [-1.00539366e+00  1.87471942e+00 -2.39769825e-01  0.00000000e+00\n",
            "   0.00000000e+00  0.00000000e+00  1.00000000e+00  0.00000000e+00\n",
            "   0.00000000e+00  1.00000000e+00  0.00000000e+00]\n",
            " [-1.00539366e+00  1.19210391e+00 -2.39769825e-01  0.00000000e+00\n",
            "   1.00000000e+00  0.00000000e+00  0.00000000e+00  0.00000000e+00\n",
            "   0.00000000e+00  1.00000000e+00  0.00000000e+00]\n",
            " [-4.10364759e-02 -1.73127123e-01 -2.39769825e-01  0.00000000e+00\n",
            "   0.00000000e+00  0.00000000e+00  0.00000000e+00  1.00000000e+00\n",
            "   0.00000000e+00  1.00000000e+00  0.00000000e+00]\n",
            " [ 1.88767789e+00  9.64565400e-01 -2.39769825e-01  0.00000000e+00\n",
            "   0.00000000e+00  0.00000000e+00  0.00000000e+00  0.00000000e+00\n",
            "   1.00000000e+00  1.00000000e+00  0.00000000e+00]\n",
            " [-4.10364759e-02 -1.73127123e-01 -2.39769825e-01  1.00000000e+00\n",
            "   0.00000000e+00  0.00000000e+00  0.00000000e+00  0.00000000e+00\n",
            "   0.00000000e+00  1.00000000e+00  0.00000000e+00]\n",
            " [ 9.23320709e-01  1.41964241e+00  3.04129094e+00  0.00000000e+00\n",
            "   1.00000000e+00  0.00000000e+00  0.00000000e+00  0.00000000e+00\n",
            "   0.00000000e+00  1.00000000e+00  0.00000000e+00]\n",
            " [-4.10364759e-02 -8.55742637e-01 -2.39769825e-01  0.00000000e+00\n",
            "   0.00000000e+00  0.00000000e+00  0.00000000e+00  0.00000000e+00\n",
            "   1.00000000e+00  1.00000000e+00  0.00000000e+00]\n",
            " [-1.00539366e+00 -8.55742637e-01 -2.39769825e-01  0.00000000e+00\n",
            "   0.00000000e+00  0.00000000e+00  0.00000000e+00  0.00000000e+00\n",
            "   1.00000000e+00  1.00000000e+00  0.00000000e+00]\n",
            " [-1.00539366e+00 -1.73127123e-01 -2.39769825e-01  0.00000000e+00\n",
            "   1.00000000e+00  0.00000000e+00  0.00000000e+00  0.00000000e+00\n",
            "   0.00000000e+00  1.00000000e+00  0.00000000e+00]\n",
            " [-1.00539366e+00  1.19210391e+00  1.92573028e+00  0.00000000e+00\n",
            "   1.00000000e+00  0.00000000e+00  0.00000000e+00  0.00000000e+00\n",
            "   0.00000000e+00  1.00000000e+00  0.00000000e+00]\n",
            " [-1.00539366e+00 -1.53835815e+00 -2.39769825e-01  0.00000000e+00\n",
            "   0.00000000e+00  1.00000000e+00  0.00000000e+00  0.00000000e+00\n",
            "   0.00000000e+00  1.00000000e+00  0.00000000e+00]\n",
            " [ 2.14130310e-16 -1.08328114e+00 -2.39769825e-01  0.00000000e+00\n",
            "   0.00000000e+00  0.00000000e+00  0.00000000e+00  0.00000000e+00\n",
            "   1.00000000e+00  1.00000000e+00  0.00000000e+00]\n",
            " [ 9.23320709e-01  0.00000000e+00  1.92573028e+00  1.00000000e+00\n",
            "   0.00000000e+00  0.00000000e+00  0.00000000e+00  0.00000000e+00\n",
            "   0.00000000e+00  1.00000000e+00  0.00000000e+00]\n",
            " [-1.00539366e+00  9.64565400e-01 -2.39769825e-01  0.00000000e+00\n",
            "   0.00000000e+00  0.00000000e+00  1.00000000e+00  0.00000000e+00\n",
            "   0.00000000e+00  1.00000000e+00  0.00000000e+00]\n",
            " [-1.00539366e+00 -1.53835815e+00 -2.39769825e-01  0.00000000e+00\n",
            "   1.00000000e+00  0.00000000e+00  0.00000000e+00  0.00000000e+00\n",
            "   0.00000000e+00  1.00000000e+00  0.00000000e+00]\n",
            " [ 1.88767789e+00  5.09488391e-01 -2.39769825e-01  1.00000000e+00\n",
            "   0.00000000e+00  0.00000000e+00  0.00000000e+00  0.00000000e+00\n",
            "   0.00000000e+00  1.00000000e+00  0.00000000e+00]\n",
            " [-1.00539366e+00 -1.08328114e+00 -2.39769825e-01  0.00000000e+00\n",
            "   1.00000000e+00  0.00000000e+00  0.00000000e+00  0.00000000e+00\n",
            "   0.00000000e+00  1.00000000e+00  0.00000000e+00]\n",
            " [-4.10364759e-02  0.00000000e+00 -2.39769825e-01  0.00000000e+00\n",
            "   1.00000000e+00  0.00000000e+00  0.00000000e+00  0.00000000e+00\n",
            "   0.00000000e+00  1.00000000e+00  0.00000000e+00]\n",
            " [ 9.23320709e-01  2.81949886e-01 -2.39769825e-01  0.00000000e+00\n",
            "   0.00000000e+00  0.00000000e+00  0.00000000e+00  0.00000000e+00\n",
            "   1.00000000e+00  1.00000000e+00  0.00000000e+00]\n",
            " [-4.10364759e-02  1.64718091e+00  3.04129094e+00  1.00000000e+00\n",
            "   0.00000000e+00  0.00000000e+00  0.00000000e+00  0.00000000e+00\n",
            "   0.00000000e+00  1.00000000e+00  0.00000000e+00]\n",
            " [ 1.88767789e+00 -6.28204133e-01 -2.39769825e-01  0.00000000e+00\n",
            "   0.00000000e+00  0.00000000e+00  1.00000000e+00  0.00000000e+00\n",
            "   0.00000000e+00  1.00000000e+00  0.00000000e+00]]\n",
            "[[-1.00539366e+00  1.64718091e+00 -2.39769825e-01  0.00000000e+00\n",
            "   1.00000000e+00  0.00000000e+00  0.00000000e+00  0.00000000e+00\n",
            "   0.00000000e+00  1.00000000e+00  0.00000000e+00]\n",
            " [ 9.23320709e-01  7.37026896e-01 -2.39769825e-01  1.00000000e+00\n",
            "   0.00000000e+00  0.00000000e+00  0.00000000e+00  0.00000000e+00\n",
            "   0.00000000e+00  1.00000000e+00  0.00000000e+00]\n",
            " [-4.10364759e-02 -4.00665628e-01 -2.39769825e-01  0.00000000e+00\n",
            "   0.00000000e+00  0.00000000e+00  1.00000000e+00  0.00000000e+00\n",
            "   0.00000000e+00  1.00000000e+00  0.00000000e+00]\n",
            " [-4.10364759e-02  1.41964241e+00 -2.39769825e-01  1.00000000e+00\n",
            "   0.00000000e+00  0.00000000e+00  0.00000000e+00  0.00000000e+00\n",
            "   0.00000000e+00  1.00000000e+00  0.00000000e+00]\n",
            " [ 9.23320709e-01  1.19210391e+00 -2.39769825e-01  0.00000000e+00\n",
            "   0.00000000e+00  0.00000000e+00  0.00000000e+00  1.00000000e+00\n",
            "   0.00000000e+00  1.00000000e+00  0.00000000e+00]\n",
            " [ 2.14130310e-16 -8.55742637e-01 -2.39769825e-01  1.00000000e+00\n",
            "   0.00000000e+00  0.00000000e+00  0.00000000e+00  0.00000000e+00\n",
            "   0.00000000e+00  1.00000000e+00  0.00000000e+00]\n",
            " [ 2.14130310e-16  1.19210391e+00 -2.39769825e-01  1.00000000e+00\n",
            "   0.00000000e+00  0.00000000e+00  0.00000000e+00  0.00000000e+00\n",
            "   0.00000000e+00  1.00000000e+00  0.00000000e+00]\n",
            " [ 2.14130310e-16  5.09488391e-01 -2.39769825e-01  0.00000000e+00\n",
            "   1.00000000e+00  0.00000000e+00  0.00000000e+00  0.00000000e+00\n",
            "   0.00000000e+00  1.00000000e+00  0.00000000e+00]\n",
            " [-1.00539366e+00 -4.00665628e-01 -2.39769825e-01  0.00000000e+00\n",
            "   0.00000000e+00  0.00000000e+00  1.00000000e+00  0.00000000e+00\n",
            "   0.00000000e+00  1.00000000e+00  0.00000000e+00]\n",
            " [ 9.23320709e-01  2.81949886e-01 -2.39769825e-01  1.00000000e+00\n",
            "   0.00000000e+00  0.00000000e+00  0.00000000e+00  0.00000000e+00\n",
            "   0.00000000e+00  1.00000000e+00  0.00000000e+00]\n",
            " [-4.10364759e-02  0.00000000e+00  1.72886663e+00  0.00000000e+00\n",
            "   1.00000000e+00  0.00000000e+00  0.00000000e+00  0.00000000e+00\n",
            "   0.00000000e+00  1.00000000e+00  0.00000000e+00]\n",
            " [-4.10364759e-02 -8.55742637e-01 -2.39769825e-01  1.00000000e+00\n",
            "   0.00000000e+00  0.00000000e+00  0.00000000e+00  0.00000000e+00\n",
            "   0.00000000e+00  1.00000000e+00  0.00000000e+00]\n",
            " [-4.10364759e-02  0.00000000e+00 -2.39769825e-01  0.00000000e+00\n",
            "   0.00000000e+00  0.00000000e+00  0.00000000e+00  0.00000000e+00\n",
            "   0.00000000e+00  0.00000000e+00  1.00000000e+00]\n",
            " [-4.10364759e-02  1.41964241e+00 -2.39769825e-01  1.00000000e+00\n",
            "   0.00000000e+00  0.00000000e+00  0.00000000e+00  0.00000000e+00\n",
            "   0.00000000e+00  1.00000000e+00  0.00000000e+00]\n",
            " [-1.00539366e+00 -4.00665628e-01 -2.39769825e-01  0.00000000e+00\n",
            "   0.00000000e+00  0.00000000e+00  0.00000000e+00  0.00000000e+00\n",
            "   1.00000000e+00  1.00000000e+00  0.00000000e+00]\n",
            " [-4.10364759e-02 -1.73127123e-01 -2.39769825e-01  0.00000000e+00\n",
            "   1.00000000e+00  0.00000000e+00  0.00000000e+00  0.00000000e+00\n",
            "   0.00000000e+00  1.00000000e+00  0.00000000e+00]\n",
            " [-1.00539366e+00 -1.53835815e+00 -3.52083059e+00  0.00000000e+00\n",
            "   0.00000000e+00  0.00000000e+00  0.00000000e+00  1.00000000e+00\n",
            "   0.00000000e+00  1.00000000e+00  0.00000000e+00]\n",
            " [-1.00539366e+00 -1.08328114e+00 -2.39769825e-01  0.00000000e+00\n",
            "   1.00000000e+00  0.00000000e+00  0.00000000e+00  0.00000000e+00\n",
            "   0.00000000e+00  1.00000000e+00  0.00000000e+00]]\n"
          ]
        }
      ]
    },
    {
      "cell_type": "code",
      "source": [],
      "metadata": {
        "id": "QgLbuZMZXjs2"
      },
      "execution_count": null,
      "outputs": []
    }
  ]
}