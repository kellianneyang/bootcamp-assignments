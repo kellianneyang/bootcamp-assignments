{
  "nbformat": 4,
  "nbformat_minor": 0,
  "metadata": {
    "colab": {
      "provenance": []
    },
    "kernelspec": {
      "name": "python3",
      "display_name": "Python 3"
    },
    "language_info": {
      "name": "python"
    }
  },
  "cells": [
    {
      "cell_type": "markdown",
      "source": [
        "# **Plotting Confusion Matrix Exercise (Practice)**"
      ],
      "metadata": {
        "id": "r--nlWFHs0gK"
      }
    },
    {
      "cell_type": "markdown",
      "source": [
        "## Assignment:\n"
      ],
      "metadata": {
        "id": "dOfLsaOFs4ki"
      }
    },
    {
      "cell_type": "markdown",
      "source": [
        "Your task for this exercise is to create a confusion matrix visualized as a heatmap.\n",
        "\n",
        "Use the results of the tree models you created in the Classification Tree Exercise based on the breast cancer data set as the basis for your confusion matrix. The data for that exercise can be found [here](https://drive.google.com/file/d/1Zms1RfgkWrTp7S6_BFpeELYyvX1s2FSN/view?usp=sharing). The target vector is the diagnosis as either malignant (M) or benign (B).\n",
        "\n",
        "Sklearn allows us to create a confusion matrix very easily. First import the confusion matrix as shown:"
      ],
      "metadata": {
        "id": "b2zSjPiWs6KY"
      }
    },
    {
      "cell_type": "markdown",
      "source": [
        "\n",
        "\n",
        "```\n",
        "from sklearn.metrics import ConfusionMatrixDisplay\n",
        "```\n",
        "\n"
      ],
      "metadata": {
        "id": "Rq00iTghs_E0"
      }
    },
    {
      "cell_type": "markdown",
      "source": [
        "**Note**: This is just an example of what the code and output would look like for a model instantiated as \"model\".\n",
        "\n"
      ],
      "metadata": {
        "id": "FELNbv5TtFir"
      }
    },
    {
      "cell_type": "markdown",
      "source": [
        "\n",
        "\n",
        "```\n",
        "ConfusionMatrixDisplay.from_estimator(model, X_test, y_test, cmap = 'Blues')\n",
        "```\n",
        "\n"
      ],
      "metadata": {
        "id": "S6SciRcJtHaF"
      }
    },
    {
      "cell_type": "markdown",
      "source": [
        "![image.png](data:image/png;base64,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)"
      ],
      "metadata": {
        "id": "Iawd1rIltPA5"
      }
    },
    {
      "cell_type": "markdown",
      "source": [
        "For this exercise, you can answer questions about your classification tree (although you may want to look at your results for the bagging classifier and random forest classifier to see how they compare)\n"
      ],
      "metadata": {
        "id": "aIp1R9jrtPSx"
      }
    },
    {
      "cell_type": "markdown",
      "source": [
        "# **Copy cells from Classification Tree Exercise**"
      ],
      "metadata": {
        "id": "wn8VbxKtxA-k"
      }
    },
    {
      "cell_type": "code",
      "source": [],
      "metadata": {
        "id": "mYi_y0GF3rr9"
      },
      "execution_count": null,
      "outputs": []
    },
    {
      "cell_type": "markdown",
      "source": [
        "# Preliminary Steps"
      ],
      "metadata": {
        "id": "VOr5Oqu63r5F"
      }
    },
    {
      "cell_type": "code",
      "source": [
        "# import libraries\n",
        "\n",
        "# foundation\n",
        "import pandas as pd\n",
        "import matplotlib.pyplot as plt\n",
        "import numpy as np\n",
        "\n",
        "# preprocessing\n",
        "from sklearn.model_selection import train_test_split\n",
        "\n",
        "# models\n",
        "from sklearn.tree import DecisionTreeClassifier\n",
        "from sklearn.ensemble import BaggingClassifier\n",
        "from sklearn.ensemble import RandomForestClassifier\n",
        "\n",
        "# regression metrics\n",
        "from sklearn.metrics import r2_score\n",
        "from sklearn.metrics import mean_absolute_error\n",
        "from sklearn.metrics import mean_squared_error\n",
        "from sklearn.metrics import ConfusionMatrixDisplay\n"
      ],
      "metadata": {
        "id": "Y5xOC7Qf3r5F"
      },
      "execution_count": null,
      "outputs": []
    },
    {
      "cell_type": "code",
      "source": [
        "# mount drive\n",
        "\n",
        "from google.colab import drive\n",
        "drive.mount('/content/drive/')"
      ],
      "metadata": {
        "colab": {
          "base_uri": "https://localhost:8080/"
        },
        "outputId": "151e73d8-1893-4246-fb0d-5062e2b1bbad",
        "id": "Im2FtBDO3r5F"
      },
      "execution_count": null,
      "outputs": [
        {
          "output_type": "stream",
          "name": "stdout",
          "text": [
            "Drive already mounted at /content/drive/; to attempt to forcibly remount, call drive.mount(\"/content/drive/\", force_remount=True).\n"
          ]
        }
      ]
    },
    {
      "cell_type": "code",
      "source": [
        "# load data\n",
        "\n",
        "path = '/content/drive/MyDrive/Coding Dojo/07 Week 7: Classification Models/cancer.csv'\n",
        "df = pd.read_csv(path)"
      ],
      "metadata": {
        "id": "_N8F9R113r5G"
      },
      "execution_count": null,
      "outputs": []
    },
    {
      "cell_type": "code",
      "source": [
        "# inspect data\n",
        "df.info()"
      ],
      "metadata": {
        "colab": {
          "base_uri": "https://localhost:8080/"
        },
        "outputId": "4051fdc1-2821-4601-e378-66cf70a4b83b",
        "id": "x_hJIA423r5G"
      },
      "execution_count": null,
      "outputs": [
        {
          "output_type": "stream",
          "name": "stdout",
          "text": [
            "<class 'pandas.core.frame.DataFrame'>\n",
            "RangeIndex: 569 entries, 0 to 568\n",
            "Data columns (total 32 columns):\n",
            " #   Column                   Non-Null Count  Dtype  \n",
            "---  ------                   --------------  -----  \n",
            " 0   id                       569 non-null    int64  \n",
            " 1   diagnosis                569 non-null    object \n",
            " 2   radius_mean              569 non-null    float64\n",
            " 3   texture_mean             569 non-null    float64\n",
            " 4   perimeter_mean           569 non-null    float64\n",
            " 5   area_mean                569 non-null    float64\n",
            " 6   smoothness_mean          569 non-null    float64\n",
            " 7   compactness_mean         569 non-null    float64\n",
            " 8   concavity_mean           569 non-null    float64\n",
            " 9   concave points_mean      569 non-null    float64\n",
            " 10  symmetry_mean            569 non-null    float64\n",
            " 11  fractal_dimension_mean   569 non-null    float64\n",
            " 12  radius_se                569 non-null    float64\n",
            " 13  texture_se               569 non-null    float64\n",
            " 14  perimeter_se             569 non-null    float64\n",
            " 15  area_se                  569 non-null    float64\n",
            " 16  smoothness_se            569 non-null    float64\n",
            " 17  compactness_se           569 non-null    float64\n",
            " 18  concavity_se             569 non-null    float64\n",
            " 19  concave points_se        569 non-null    float64\n",
            " 20  symmetry_se              569 non-null    float64\n",
            " 21  fractal_dimension_se     569 non-null    float64\n",
            " 22  radius_worst             569 non-null    float64\n",
            " 23  texture_worst            569 non-null    float64\n",
            " 24  perimeter_worst          569 non-null    float64\n",
            " 25  area_worst               569 non-null    float64\n",
            " 26  smoothness_worst         569 non-null    float64\n",
            " 27  compactness_worst        569 non-null    float64\n",
            " 28  concavity_worst          569 non-null    float64\n",
            " 29  concave points_worst     569 non-null    float64\n",
            " 30  symmetry_worst           569 non-null    float64\n",
            " 31  fractal_dimension_worst  569 non-null    float64\n",
            "dtypes: float64(30), int64(1), object(1)\n",
            "memory usage: 142.4+ KB\n"
          ]
        }
      ]
    },
    {
      "cell_type": "code",
      "source": [
        "df.sample(10)"
      ],
      "metadata": {
        "colab": {
          "base_uri": "https://localhost:8080/",
          "height": 473
        },
        "outputId": "e6e92c09-2dbb-4557-9897-87701d1c96a7",
        "id": "g9QqCIqk3r5G"
      },
      "execution_count": null,
      "outputs": [
        {
          "output_type": "execute_result",
          "data": {
            "text/plain": [
              "           id diagnosis  radius_mean  texture_mean  perimeter_mean  area_mean  \\\n",
              "300    892438         M       19.530         18.90          129.50     1217.0   \n",
              "486    913102         B       14.640         16.85           94.21      666.0   \n",
              "492    914062         M       18.010         20.56          118.40     1007.0   \n",
              "187    874373         B       11.710         17.19           74.68      420.3   \n",
              "27     852781         M       18.610         20.25          122.10     1094.0   \n",
              "329    895633         M       16.260         21.88          107.50      826.8   \n",
              "497    914580         B       12.470         17.31           80.45      480.1   \n",
              "442  90944601         B       13.780         15.79           88.37      585.9   \n",
              "176    872608         B        9.904         18.06           64.60      302.4   \n",
              "108     86355         M       22.270         19.67          152.80     1509.0   \n",
              "\n",
              "     smoothness_mean  compactness_mean  concavity_mean  concave points_mean  \\\n",
              "300          0.11500           0.16420         0.21970             0.106200   \n",
              "486          0.08641           0.06698         0.05192             0.027910   \n",
              "492          0.10010           0.12890         0.11700             0.077620   \n",
              "187          0.09774           0.06141         0.03809             0.032390   \n",
              "27           0.09440           0.10660         0.14900             0.077310   \n",
              "329          0.11650           0.12830         0.17990             0.079810   \n",
              "497          0.08928           0.07630         0.03609             0.023690   \n",
              "442          0.08817           0.06718         0.01055             0.009937   \n",
              "176          0.09699           0.12940         0.13070             0.037160   \n",
              "108          0.13260           0.27680         0.42640             0.182300   \n",
              "\n",
              "     ...  radius_worst  texture_worst  perimeter_worst  area_worst  \\\n",
              "300  ...         25.93          26.24           171.10      2053.0   \n",
              "486  ...         16.46          25.44           106.00       831.0   \n",
              "492  ...         21.53          26.06           143.40      1426.0   \n",
              "187  ...         13.01          21.39            84.42       521.5   \n",
              "27   ...         21.31          27.26           139.90      1403.0   \n",
              "329  ...         17.73          25.21           113.70       975.2   \n",
              "497  ...         14.06          24.34            92.82       607.3   \n",
              "442  ...         15.27          17.50            97.90       706.6   \n",
              "176  ...         11.26          24.39            73.07       390.2   \n",
              "108  ...         28.40          28.01           206.80      2360.0   \n",
              "\n",
              "     smoothness_worst  compactness_worst  concavity_worst  \\\n",
              "300            0.1495             0.4116          0.61210   \n",
              "486            0.1142             0.2070          0.24370   \n",
              "492            0.1309             0.2327          0.25440   \n",
              "187            0.1323             0.1040          0.15210   \n",
              "27             0.1338             0.2117          0.34460   \n",
              "329            0.1426             0.2116          0.33440   \n",
              "497            0.1276             0.2506          0.20280   \n",
              "442            0.1072             0.1071          0.03517   \n",
              "176            0.1301             0.2950          0.34860   \n",
              "108            0.1701             0.6997          0.96080   \n",
              "\n",
              "     concave points_worst  symmetry_worst  fractal_dimension_worst  \n",
              "300               0.19800          0.2968                  0.09929  \n",
              "486               0.07828          0.2455                  0.06596  \n",
              "492               0.14890          0.3251                  0.07625  \n",
              "187               0.10990          0.2572                  0.07097  \n",
              "27                0.14900          0.2341                  0.07421  \n",
              "329               0.10470          0.2736                  0.07953  \n",
              "497               0.10530          0.3035                  0.07661  \n",
              "442               0.03312          0.1859                  0.06810  \n",
              "176               0.09910          0.2614                  0.11620  \n",
              "108               0.29100          0.4055                  0.09789  \n",
              "\n",
              "[10 rows x 32 columns]"
            ],
            "text/html": [
              "\n",
              "  <div id=\"df-ffbdcc8a-6565-4c68-9032-bcd84fcc116e\">\n",
              "    <div class=\"colab-df-container\">\n",
              "      <div>\n",
              "<style scoped>\n",
              "    .dataframe tbody tr th:only-of-type {\n",
              "        vertical-align: middle;\n",
              "    }\n",
              "\n",
              "    .dataframe tbody tr th {\n",
              "        vertical-align: top;\n",
              "    }\n",
              "\n",
              "    .dataframe thead th {\n",
              "        text-align: right;\n",
              "    }\n",
              "</style>\n",
              "<table border=\"1\" class=\"dataframe\">\n",
              "  <thead>\n",
              "    <tr style=\"text-align: right;\">\n",
              "      <th></th>\n",
              "      <th>id</th>\n",
              "      <th>diagnosis</th>\n",
              "      <th>radius_mean</th>\n",
              "      <th>texture_mean</th>\n",
              "      <th>perimeter_mean</th>\n",
              "      <th>area_mean</th>\n",
              "      <th>smoothness_mean</th>\n",
              "      <th>compactness_mean</th>\n",
              "      <th>concavity_mean</th>\n",
              "      <th>concave points_mean</th>\n",
              "      <th>...</th>\n",
              "      <th>radius_worst</th>\n",
              "      <th>texture_worst</th>\n",
              "      <th>perimeter_worst</th>\n",
              "      <th>area_worst</th>\n",
              "      <th>smoothness_worst</th>\n",
              "      <th>compactness_worst</th>\n",
              "      <th>concavity_worst</th>\n",
              "      <th>concave points_worst</th>\n",
              "      <th>symmetry_worst</th>\n",
              "      <th>fractal_dimension_worst</th>\n",
              "    </tr>\n",
              "  </thead>\n",
              "  <tbody>\n",
              "    <tr>\n",
              "      <th>300</th>\n",
              "      <td>892438</td>\n",
              "      <td>M</td>\n",
              "      <td>19.530</td>\n",
              "      <td>18.90</td>\n",
              "      <td>129.50</td>\n",
              "      <td>1217.0</td>\n",
              "      <td>0.11500</td>\n",
              "      <td>0.16420</td>\n",
              "      <td>0.21970</td>\n",
              "      <td>0.106200</td>\n",
              "      <td>...</td>\n",
              "      <td>25.93</td>\n",
              "      <td>26.24</td>\n",
              "      <td>171.10</td>\n",
              "      <td>2053.0</td>\n",
              "      <td>0.1495</td>\n",
              "      <td>0.4116</td>\n",
              "      <td>0.61210</td>\n",
              "      <td>0.19800</td>\n",
              "      <td>0.2968</td>\n",
              "      <td>0.09929</td>\n",
              "    </tr>\n",
              "    <tr>\n",
              "      <th>486</th>\n",
              "      <td>913102</td>\n",
              "      <td>B</td>\n",
              "      <td>14.640</td>\n",
              "      <td>16.85</td>\n",
              "      <td>94.21</td>\n",
              "      <td>666.0</td>\n",
              "      <td>0.08641</td>\n",
              "      <td>0.06698</td>\n",
              "      <td>0.05192</td>\n",
              "      <td>0.027910</td>\n",
              "      <td>...</td>\n",
              "      <td>16.46</td>\n",
              "      <td>25.44</td>\n",
              "      <td>106.00</td>\n",
              "      <td>831.0</td>\n",
              "      <td>0.1142</td>\n",
              "      <td>0.2070</td>\n",
              "      <td>0.24370</td>\n",
              "      <td>0.07828</td>\n",
              "      <td>0.2455</td>\n",
              "      <td>0.06596</td>\n",
              "    </tr>\n",
              "    <tr>\n",
              "      <th>492</th>\n",
              "      <td>914062</td>\n",
              "      <td>M</td>\n",
              "      <td>18.010</td>\n",
              "      <td>20.56</td>\n",
              "      <td>118.40</td>\n",
              "      <td>1007.0</td>\n",
              "      <td>0.10010</td>\n",
              "      <td>0.12890</td>\n",
              "      <td>0.11700</td>\n",
              "      <td>0.077620</td>\n",
              "      <td>...</td>\n",
              "      <td>21.53</td>\n",
              "      <td>26.06</td>\n",
              "      <td>143.40</td>\n",
              "      <td>1426.0</td>\n",
              "      <td>0.1309</td>\n",
              "      <td>0.2327</td>\n",
              "      <td>0.25440</td>\n",
              "      <td>0.14890</td>\n",
              "      <td>0.3251</td>\n",
              "      <td>0.07625</td>\n",
              "    </tr>\n",
              "    <tr>\n",
              "      <th>187</th>\n",
              "      <td>874373</td>\n",
              "      <td>B</td>\n",
              "      <td>11.710</td>\n",
              "      <td>17.19</td>\n",
              "      <td>74.68</td>\n",
              "      <td>420.3</td>\n",
              "      <td>0.09774</td>\n",
              "      <td>0.06141</td>\n",
              "      <td>0.03809</td>\n",
              "      <td>0.032390</td>\n",
              "      <td>...</td>\n",
              "      <td>13.01</td>\n",
              "      <td>21.39</td>\n",
              "      <td>84.42</td>\n",
              "      <td>521.5</td>\n",
              "      <td>0.1323</td>\n",
              "      <td>0.1040</td>\n",
              "      <td>0.15210</td>\n",
              "      <td>0.10990</td>\n",
              "      <td>0.2572</td>\n",
              "      <td>0.07097</td>\n",
              "    </tr>\n",
              "    <tr>\n",
              "      <th>27</th>\n",
              "      <td>852781</td>\n",
              "      <td>M</td>\n",
              "      <td>18.610</td>\n",
              "      <td>20.25</td>\n",
              "      <td>122.10</td>\n",
              "      <td>1094.0</td>\n",
              "      <td>0.09440</td>\n",
              "      <td>0.10660</td>\n",
              "      <td>0.14900</td>\n",
              "      <td>0.077310</td>\n",
              "      <td>...</td>\n",
              "      <td>21.31</td>\n",
              "      <td>27.26</td>\n",
              "      <td>139.90</td>\n",
              "      <td>1403.0</td>\n",
              "      <td>0.1338</td>\n",
              "      <td>0.2117</td>\n",
              "      <td>0.34460</td>\n",
              "      <td>0.14900</td>\n",
              "      <td>0.2341</td>\n",
              "      <td>0.07421</td>\n",
              "    </tr>\n",
              "    <tr>\n",
              "      <th>329</th>\n",
              "      <td>895633</td>\n",
              "      <td>M</td>\n",
              "      <td>16.260</td>\n",
              "      <td>21.88</td>\n",
              "      <td>107.50</td>\n",
              "      <td>826.8</td>\n",
              "      <td>0.11650</td>\n",
              "      <td>0.12830</td>\n",
              "      <td>0.17990</td>\n",
              "      <td>0.079810</td>\n",
              "      <td>...</td>\n",
              "      <td>17.73</td>\n",
              "      <td>25.21</td>\n",
              "      <td>113.70</td>\n",
              "      <td>975.2</td>\n",
              "      <td>0.1426</td>\n",
              "      <td>0.2116</td>\n",
              "      <td>0.33440</td>\n",
              "      <td>0.10470</td>\n",
              "      <td>0.2736</td>\n",
              "      <td>0.07953</td>\n",
              "    </tr>\n",
              "    <tr>\n",
              "      <th>497</th>\n",
              "      <td>914580</td>\n",
              "      <td>B</td>\n",
              "      <td>12.470</td>\n",
              "      <td>17.31</td>\n",
              "      <td>80.45</td>\n",
              "      <td>480.1</td>\n",
              "      <td>0.08928</td>\n",
              "      <td>0.07630</td>\n",
              "      <td>0.03609</td>\n",
              "      <td>0.023690</td>\n",
              "      <td>...</td>\n",
              "      <td>14.06</td>\n",
              "      <td>24.34</td>\n",
              "      <td>92.82</td>\n",
              "      <td>607.3</td>\n",
              "      <td>0.1276</td>\n",
              "      <td>0.2506</td>\n",
              "      <td>0.20280</td>\n",
              "      <td>0.10530</td>\n",
              "      <td>0.3035</td>\n",
              "      <td>0.07661</td>\n",
              "    </tr>\n",
              "    <tr>\n",
              "      <th>442</th>\n",
              "      <td>90944601</td>\n",
              "      <td>B</td>\n",
              "      <td>13.780</td>\n",
              "      <td>15.79</td>\n",
              "      <td>88.37</td>\n",
              "      <td>585.9</td>\n",
              "      <td>0.08817</td>\n",
              "      <td>0.06718</td>\n",
              "      <td>0.01055</td>\n",
              "      <td>0.009937</td>\n",
              "      <td>...</td>\n",
              "      <td>15.27</td>\n",
              "      <td>17.50</td>\n",
              "      <td>97.90</td>\n",
              "      <td>706.6</td>\n",
              "      <td>0.1072</td>\n",
              "      <td>0.1071</td>\n",
              "      <td>0.03517</td>\n",
              "      <td>0.03312</td>\n",
              "      <td>0.1859</td>\n",
              "      <td>0.06810</td>\n",
              "    </tr>\n",
              "    <tr>\n",
              "      <th>176</th>\n",
              "      <td>872608</td>\n",
              "      <td>B</td>\n",
              "      <td>9.904</td>\n",
              "      <td>18.06</td>\n",
              "      <td>64.60</td>\n",
              "      <td>302.4</td>\n",
              "      <td>0.09699</td>\n",
              "      <td>0.12940</td>\n",
              "      <td>0.13070</td>\n",
              "      <td>0.037160</td>\n",
              "      <td>...</td>\n",
              "      <td>11.26</td>\n",
              "      <td>24.39</td>\n",
              "      <td>73.07</td>\n",
              "      <td>390.2</td>\n",
              "      <td>0.1301</td>\n",
              "      <td>0.2950</td>\n",
              "      <td>0.34860</td>\n",
              "      <td>0.09910</td>\n",
              "      <td>0.2614</td>\n",
              "      <td>0.11620</td>\n",
              "    </tr>\n",
              "    <tr>\n",
              "      <th>108</th>\n",
              "      <td>86355</td>\n",
              "      <td>M</td>\n",
              "      <td>22.270</td>\n",
              "      <td>19.67</td>\n",
              "      <td>152.80</td>\n",
              "      <td>1509.0</td>\n",
              "      <td>0.13260</td>\n",
              "      <td>0.27680</td>\n",
              "      <td>0.42640</td>\n",
              "      <td>0.182300</td>\n",
              "      <td>...</td>\n",
              "      <td>28.40</td>\n",
              "      <td>28.01</td>\n",
              "      <td>206.80</td>\n",
              "      <td>2360.0</td>\n",
              "      <td>0.1701</td>\n",
              "      <td>0.6997</td>\n",
              "      <td>0.96080</td>\n",
              "      <td>0.29100</td>\n",
              "      <td>0.4055</td>\n",
              "      <td>0.09789</td>\n",
              "    </tr>\n",
              "  </tbody>\n",
              "</table>\n",
              "<p>10 rows × 32 columns</p>\n",
              "</div>\n",
              "      <button class=\"colab-df-convert\" onclick=\"convertToInteractive('df-ffbdcc8a-6565-4c68-9032-bcd84fcc116e')\"\n",
              "              title=\"Convert this dataframe to an interactive table.\"\n",
              "              style=\"display:none;\">\n",
              "        \n",
              "  <svg xmlns=\"http://www.w3.org/2000/svg\" height=\"24px\"viewBox=\"0 0 24 24\"\n",
              "       width=\"24px\">\n",
              "    <path d=\"M0 0h24v24H0V0z\" fill=\"none\"/>\n",
              "    <path d=\"M18.56 5.44l.94 2.06.94-2.06 2.06-.94-2.06-.94-.94-2.06-.94 2.06-2.06.94zm-11 1L8.5 8.5l.94-2.06 2.06-.94-2.06-.94L8.5 2.5l-.94 2.06-2.06.94zm10 10l.94 2.06.94-2.06 2.06-.94-2.06-.94-.94-2.06-.94 2.06-2.06.94z\"/><path d=\"M17.41 7.96l-1.37-1.37c-.4-.4-.92-.59-1.43-.59-.52 0-1.04.2-1.43.59L10.3 9.45l-7.72 7.72c-.78.78-.78 2.05 0 2.83L4 21.41c.39.39.9.59 1.41.59.51 0 1.02-.2 1.41-.59l7.78-7.78 2.81-2.81c.8-.78.8-2.07 0-2.86zM5.41 20L4 18.59l7.72-7.72 1.47 1.35L5.41 20z\"/>\n",
              "  </svg>\n",
              "      </button>\n",
              "      \n",
              "  <style>\n",
              "    .colab-df-container {\n",
              "      display:flex;\n",
              "      flex-wrap:wrap;\n",
              "      gap: 12px;\n",
              "    }\n",
              "\n",
              "    .colab-df-convert {\n",
              "      background-color: #E8F0FE;\n",
              "      border: none;\n",
              "      border-radius: 50%;\n",
              "      cursor: pointer;\n",
              "      display: none;\n",
              "      fill: #1967D2;\n",
              "      height: 32px;\n",
              "      padding: 0 0 0 0;\n",
              "      width: 32px;\n",
              "    }\n",
              "\n",
              "    .colab-df-convert:hover {\n",
              "      background-color: #E2EBFA;\n",
              "      box-shadow: 0px 1px 2px rgba(60, 64, 67, 0.3), 0px 1px 3px 1px rgba(60, 64, 67, 0.15);\n",
              "      fill: #174EA6;\n",
              "    }\n",
              "\n",
              "    [theme=dark] .colab-df-convert {\n",
              "      background-color: #3B4455;\n",
              "      fill: #D2E3FC;\n",
              "    }\n",
              "\n",
              "    [theme=dark] .colab-df-convert:hover {\n",
              "      background-color: #434B5C;\n",
              "      box-shadow: 0px 1px 3px 1px rgba(0, 0, 0, 0.15);\n",
              "      filter: drop-shadow(0px 1px 2px rgba(0, 0, 0, 0.3));\n",
              "      fill: #FFFFFF;\n",
              "    }\n",
              "  </style>\n",
              "\n",
              "      <script>\n",
              "        const buttonEl =\n",
              "          document.querySelector('#df-ffbdcc8a-6565-4c68-9032-bcd84fcc116e button.colab-df-convert');\n",
              "        buttonEl.style.display =\n",
              "          google.colab.kernel.accessAllowed ? 'block' : 'none';\n",
              "\n",
              "        async function convertToInteractive(key) {\n",
              "          const element = document.querySelector('#df-ffbdcc8a-6565-4c68-9032-bcd84fcc116e');\n",
              "          const dataTable =\n",
              "            await google.colab.kernel.invokeFunction('convertToInteractive',\n",
              "                                                     [key], {});\n",
              "          if (!dataTable) return;\n",
              "\n",
              "          const docLinkHtml = 'Like what you see? Visit the ' +\n",
              "            '<a target=\"_blank\" href=https://colab.research.google.com/notebooks/data_table.ipynb>data table notebook</a>'\n",
              "            + ' to learn more about interactive tables.';\n",
              "          element.innerHTML = '';\n",
              "          dataTable['output_type'] = 'display_data';\n",
              "          await google.colab.output.renderOutput(dataTable, element);\n",
              "          const docLink = document.createElement('div');\n",
              "          docLink.innerHTML = docLinkHtml;\n",
              "          element.appendChild(docLink);\n",
              "        }\n",
              "      </script>\n",
              "    </div>\n",
              "  </div>\n",
              "  "
            ]
          },
          "metadata": {},
          "execution_count": 31
        }
      ]
    },
    {
      "cell_type": "code",
      "source": [
        "df.describe(include = 'number')"
      ],
      "metadata": {
        "colab": {
          "base_uri": "https://localhost:8080/",
          "height": 411
        },
        "outputId": "5d6305cd-d43a-454c-dbb8-1b968b4cf0af",
        "id": "hZq1anSr3r5G"
      },
      "execution_count": null,
      "outputs": [
        {
          "output_type": "execute_result",
          "data": {
            "text/plain": [
              "                 id  radius_mean  texture_mean  perimeter_mean    area_mean  \\\n",
              "count  5.690000e+02   569.000000    569.000000      569.000000   569.000000   \n",
              "mean   3.037183e+07    14.127292     19.289649       91.969033   654.889104   \n",
              "std    1.250206e+08     3.524049      4.301036       24.298981   351.914129   \n",
              "min    8.670000e+03     6.981000      9.710000       43.790000   143.500000   \n",
              "25%    8.692180e+05    11.700000     16.170000       75.170000   420.300000   \n",
              "50%    9.060240e+05    13.370000     18.840000       86.240000   551.100000   \n",
              "75%    8.813129e+06    15.780000     21.800000      104.100000   782.700000   \n",
              "max    9.113205e+08    28.110000     39.280000      188.500000  2501.000000   \n",
              "\n",
              "       smoothness_mean  compactness_mean  concavity_mean  concave points_mean  \\\n",
              "count       569.000000        569.000000      569.000000           569.000000   \n",
              "mean          0.096360          0.104341        0.088799             0.048919   \n",
              "std           0.014064          0.052813        0.079720             0.038803   \n",
              "min           0.052630          0.019380        0.000000             0.000000   \n",
              "25%           0.086370          0.064920        0.029560             0.020310   \n",
              "50%           0.095870          0.092630        0.061540             0.033500   \n",
              "75%           0.105300          0.130400        0.130700             0.074000   \n",
              "max           0.163400          0.345400        0.426800             0.201200   \n",
              "\n",
              "       symmetry_mean  ...  radius_worst  texture_worst  perimeter_worst  \\\n",
              "count     569.000000  ...    569.000000     569.000000       569.000000   \n",
              "mean        0.181162  ...     16.269190      25.677223       107.261213   \n",
              "std         0.027414  ...      4.833242       6.146258        33.602542   \n",
              "min         0.106000  ...      7.930000      12.020000        50.410000   \n",
              "25%         0.161900  ...     13.010000      21.080000        84.110000   \n",
              "50%         0.179200  ...     14.970000      25.410000        97.660000   \n",
              "75%         0.195700  ...     18.790000      29.720000       125.400000   \n",
              "max         0.304000  ...     36.040000      49.540000       251.200000   \n",
              "\n",
              "        area_worst  smoothness_worst  compactness_worst  concavity_worst  \\\n",
              "count   569.000000        569.000000         569.000000       569.000000   \n",
              "mean    880.583128          0.132369           0.254265         0.272188   \n",
              "std     569.356993          0.022832           0.157336         0.208624   \n",
              "min     185.200000          0.071170           0.027290         0.000000   \n",
              "25%     515.300000          0.116600           0.147200         0.114500   \n",
              "50%     686.500000          0.131300           0.211900         0.226700   \n",
              "75%    1084.000000          0.146000           0.339100         0.382900   \n",
              "max    4254.000000          0.222600           1.058000         1.252000   \n",
              "\n",
              "       concave points_worst  symmetry_worst  fractal_dimension_worst  \n",
              "count            569.000000      569.000000               569.000000  \n",
              "mean               0.114606        0.290076                 0.083946  \n",
              "std                0.065732        0.061867                 0.018061  \n",
              "min                0.000000        0.156500                 0.055040  \n",
              "25%                0.064930        0.250400                 0.071460  \n",
              "50%                0.099930        0.282200                 0.080040  \n",
              "75%                0.161400        0.317900                 0.092080  \n",
              "max                0.291000        0.663800                 0.207500  \n",
              "\n",
              "[8 rows x 31 columns]"
            ],
            "text/html": [
              "\n",
              "  <div id=\"df-a5bf305f-fd50-4adf-b1a3-c87d085d6201\">\n",
              "    <div class=\"colab-df-container\">\n",
              "      <div>\n",
              "<style scoped>\n",
              "    .dataframe tbody tr th:only-of-type {\n",
              "        vertical-align: middle;\n",
              "    }\n",
              "\n",
              "    .dataframe tbody tr th {\n",
              "        vertical-align: top;\n",
              "    }\n",
              "\n",
              "    .dataframe thead th {\n",
              "        text-align: right;\n",
              "    }\n",
              "</style>\n",
              "<table border=\"1\" class=\"dataframe\">\n",
              "  <thead>\n",
              "    <tr style=\"text-align: right;\">\n",
              "      <th></th>\n",
              "      <th>id</th>\n",
              "      <th>radius_mean</th>\n",
              "      <th>texture_mean</th>\n",
              "      <th>perimeter_mean</th>\n",
              "      <th>area_mean</th>\n",
              "      <th>smoothness_mean</th>\n",
              "      <th>compactness_mean</th>\n",
              "      <th>concavity_mean</th>\n",
              "      <th>concave points_mean</th>\n",
              "      <th>symmetry_mean</th>\n",
              "      <th>...</th>\n",
              "      <th>radius_worst</th>\n",
              "      <th>texture_worst</th>\n",
              "      <th>perimeter_worst</th>\n",
              "      <th>area_worst</th>\n",
              "      <th>smoothness_worst</th>\n",
              "      <th>compactness_worst</th>\n",
              "      <th>concavity_worst</th>\n",
              "      <th>concave points_worst</th>\n",
              "      <th>symmetry_worst</th>\n",
              "      <th>fractal_dimension_worst</th>\n",
              "    </tr>\n",
              "  </thead>\n",
              "  <tbody>\n",
              "    <tr>\n",
              "      <th>count</th>\n",
              "      <td>5.690000e+02</td>\n",
              "      <td>569.000000</td>\n",
              "      <td>569.000000</td>\n",
              "      <td>569.000000</td>\n",
              "      <td>569.000000</td>\n",
              "      <td>569.000000</td>\n",
              "      <td>569.000000</td>\n",
              "      <td>569.000000</td>\n",
              "      <td>569.000000</td>\n",
              "      <td>569.000000</td>\n",
              "      <td>...</td>\n",
              "      <td>569.000000</td>\n",
              "      <td>569.000000</td>\n",
              "      <td>569.000000</td>\n",
              "      <td>569.000000</td>\n",
              "      <td>569.000000</td>\n",
              "      <td>569.000000</td>\n",
              "      <td>569.000000</td>\n",
              "      <td>569.000000</td>\n",
              "      <td>569.000000</td>\n",
              "      <td>569.000000</td>\n",
              "    </tr>\n",
              "    <tr>\n",
              "      <th>mean</th>\n",
              "      <td>3.037183e+07</td>\n",
              "      <td>14.127292</td>\n",
              "      <td>19.289649</td>\n",
              "      <td>91.969033</td>\n",
              "      <td>654.889104</td>\n",
              "      <td>0.096360</td>\n",
              "      <td>0.104341</td>\n",
              "      <td>0.088799</td>\n",
              "      <td>0.048919</td>\n",
              "      <td>0.181162</td>\n",
              "      <td>...</td>\n",
              "      <td>16.269190</td>\n",
              "      <td>25.677223</td>\n",
              "      <td>107.261213</td>\n",
              "      <td>880.583128</td>\n",
              "      <td>0.132369</td>\n",
              "      <td>0.254265</td>\n",
              "      <td>0.272188</td>\n",
              "      <td>0.114606</td>\n",
              "      <td>0.290076</td>\n",
              "      <td>0.083946</td>\n",
              "    </tr>\n",
              "    <tr>\n",
              "      <th>std</th>\n",
              "      <td>1.250206e+08</td>\n",
              "      <td>3.524049</td>\n",
              "      <td>4.301036</td>\n",
              "      <td>24.298981</td>\n",
              "      <td>351.914129</td>\n",
              "      <td>0.014064</td>\n",
              "      <td>0.052813</td>\n",
              "      <td>0.079720</td>\n",
              "      <td>0.038803</td>\n",
              "      <td>0.027414</td>\n",
              "      <td>...</td>\n",
              "      <td>4.833242</td>\n",
              "      <td>6.146258</td>\n",
              "      <td>33.602542</td>\n",
              "      <td>569.356993</td>\n",
              "      <td>0.022832</td>\n",
              "      <td>0.157336</td>\n",
              "      <td>0.208624</td>\n",
              "      <td>0.065732</td>\n",
              "      <td>0.061867</td>\n",
              "      <td>0.018061</td>\n",
              "    </tr>\n",
              "    <tr>\n",
              "      <th>min</th>\n",
              "      <td>8.670000e+03</td>\n",
              "      <td>6.981000</td>\n",
              "      <td>9.710000</td>\n",
              "      <td>43.790000</td>\n",
              "      <td>143.500000</td>\n",
              "      <td>0.052630</td>\n",
              "      <td>0.019380</td>\n",
              "      <td>0.000000</td>\n",
              "      <td>0.000000</td>\n",
              "      <td>0.106000</td>\n",
              "      <td>...</td>\n",
              "      <td>7.930000</td>\n",
              "      <td>12.020000</td>\n",
              "      <td>50.410000</td>\n",
              "      <td>185.200000</td>\n",
              "      <td>0.071170</td>\n",
              "      <td>0.027290</td>\n",
              "      <td>0.000000</td>\n",
              "      <td>0.000000</td>\n",
              "      <td>0.156500</td>\n",
              "      <td>0.055040</td>\n",
              "    </tr>\n",
              "    <tr>\n",
              "      <th>25%</th>\n",
              "      <td>8.692180e+05</td>\n",
              "      <td>11.700000</td>\n",
              "      <td>16.170000</td>\n",
              "      <td>75.170000</td>\n",
              "      <td>420.300000</td>\n",
              "      <td>0.086370</td>\n",
              "      <td>0.064920</td>\n",
              "      <td>0.029560</td>\n",
              "      <td>0.020310</td>\n",
              "      <td>0.161900</td>\n",
              "      <td>...</td>\n",
              "      <td>13.010000</td>\n",
              "      <td>21.080000</td>\n",
              "      <td>84.110000</td>\n",
              "      <td>515.300000</td>\n",
              "      <td>0.116600</td>\n",
              "      <td>0.147200</td>\n",
              "      <td>0.114500</td>\n",
              "      <td>0.064930</td>\n",
              "      <td>0.250400</td>\n",
              "      <td>0.071460</td>\n",
              "    </tr>\n",
              "    <tr>\n",
              "      <th>50%</th>\n",
              "      <td>9.060240e+05</td>\n",
              "      <td>13.370000</td>\n",
              "      <td>18.840000</td>\n",
              "      <td>86.240000</td>\n",
              "      <td>551.100000</td>\n",
              "      <td>0.095870</td>\n",
              "      <td>0.092630</td>\n",
              "      <td>0.061540</td>\n",
              "      <td>0.033500</td>\n",
              "      <td>0.179200</td>\n",
              "      <td>...</td>\n",
              "      <td>14.970000</td>\n",
              "      <td>25.410000</td>\n",
              "      <td>97.660000</td>\n",
              "      <td>686.500000</td>\n",
              "      <td>0.131300</td>\n",
              "      <td>0.211900</td>\n",
              "      <td>0.226700</td>\n",
              "      <td>0.099930</td>\n",
              "      <td>0.282200</td>\n",
              "      <td>0.080040</td>\n",
              "    </tr>\n",
              "    <tr>\n",
              "      <th>75%</th>\n",
              "      <td>8.813129e+06</td>\n",
              "      <td>15.780000</td>\n",
              "      <td>21.800000</td>\n",
              "      <td>104.100000</td>\n",
              "      <td>782.700000</td>\n",
              "      <td>0.105300</td>\n",
              "      <td>0.130400</td>\n",
              "      <td>0.130700</td>\n",
              "      <td>0.074000</td>\n",
              "      <td>0.195700</td>\n",
              "      <td>...</td>\n",
              "      <td>18.790000</td>\n",
              "      <td>29.720000</td>\n",
              "      <td>125.400000</td>\n",
              "      <td>1084.000000</td>\n",
              "      <td>0.146000</td>\n",
              "      <td>0.339100</td>\n",
              "      <td>0.382900</td>\n",
              "      <td>0.161400</td>\n",
              "      <td>0.317900</td>\n",
              "      <td>0.092080</td>\n",
              "    </tr>\n",
              "    <tr>\n",
              "      <th>max</th>\n",
              "      <td>9.113205e+08</td>\n",
              "      <td>28.110000</td>\n",
              "      <td>39.280000</td>\n",
              "      <td>188.500000</td>\n",
              "      <td>2501.000000</td>\n",
              "      <td>0.163400</td>\n",
              "      <td>0.345400</td>\n",
              "      <td>0.426800</td>\n",
              "      <td>0.201200</td>\n",
              "      <td>0.304000</td>\n",
              "      <td>...</td>\n",
              "      <td>36.040000</td>\n",
              "      <td>49.540000</td>\n",
              "      <td>251.200000</td>\n",
              "      <td>4254.000000</td>\n",
              "      <td>0.222600</td>\n",
              "      <td>1.058000</td>\n",
              "      <td>1.252000</td>\n",
              "      <td>0.291000</td>\n",
              "      <td>0.663800</td>\n",
              "      <td>0.207500</td>\n",
              "    </tr>\n",
              "  </tbody>\n",
              "</table>\n",
              "<p>8 rows × 31 columns</p>\n",
              "</div>\n",
              "      <button class=\"colab-df-convert\" onclick=\"convertToInteractive('df-a5bf305f-fd50-4adf-b1a3-c87d085d6201')\"\n",
              "              title=\"Convert this dataframe to an interactive table.\"\n",
              "              style=\"display:none;\">\n",
              "        \n",
              "  <svg xmlns=\"http://www.w3.org/2000/svg\" height=\"24px\"viewBox=\"0 0 24 24\"\n",
              "       width=\"24px\">\n",
              "    <path d=\"M0 0h24v24H0V0z\" fill=\"none\"/>\n",
              "    <path d=\"M18.56 5.44l.94 2.06.94-2.06 2.06-.94-2.06-.94-.94-2.06-.94 2.06-2.06.94zm-11 1L8.5 8.5l.94-2.06 2.06-.94-2.06-.94L8.5 2.5l-.94 2.06-2.06.94zm10 10l.94 2.06.94-2.06 2.06-.94-2.06-.94-.94-2.06-.94 2.06-2.06.94z\"/><path d=\"M17.41 7.96l-1.37-1.37c-.4-.4-.92-.59-1.43-.59-.52 0-1.04.2-1.43.59L10.3 9.45l-7.72 7.72c-.78.78-.78 2.05 0 2.83L4 21.41c.39.39.9.59 1.41.59.51 0 1.02-.2 1.41-.59l7.78-7.78 2.81-2.81c.8-.78.8-2.07 0-2.86zM5.41 20L4 18.59l7.72-7.72 1.47 1.35L5.41 20z\"/>\n",
              "  </svg>\n",
              "      </button>\n",
              "      \n",
              "  <style>\n",
              "    .colab-df-container {\n",
              "      display:flex;\n",
              "      flex-wrap:wrap;\n",
              "      gap: 12px;\n",
              "    }\n",
              "\n",
              "    .colab-df-convert {\n",
              "      background-color: #E8F0FE;\n",
              "      border: none;\n",
              "      border-radius: 50%;\n",
              "      cursor: pointer;\n",
              "      display: none;\n",
              "      fill: #1967D2;\n",
              "      height: 32px;\n",
              "      padding: 0 0 0 0;\n",
              "      width: 32px;\n",
              "    }\n",
              "\n",
              "    .colab-df-convert:hover {\n",
              "      background-color: #E2EBFA;\n",
              "      box-shadow: 0px 1px 2px rgba(60, 64, 67, 0.3), 0px 1px 3px 1px rgba(60, 64, 67, 0.15);\n",
              "      fill: #174EA6;\n",
              "    }\n",
              "\n",
              "    [theme=dark] .colab-df-convert {\n",
              "      background-color: #3B4455;\n",
              "      fill: #D2E3FC;\n",
              "    }\n",
              "\n",
              "    [theme=dark] .colab-df-convert:hover {\n",
              "      background-color: #434B5C;\n",
              "      box-shadow: 0px 1px 3px 1px rgba(0, 0, 0, 0.15);\n",
              "      filter: drop-shadow(0px 1px 2px rgba(0, 0, 0, 0.3));\n",
              "      fill: #FFFFFF;\n",
              "    }\n",
              "  </style>\n",
              "\n",
              "      <script>\n",
              "        const buttonEl =\n",
              "          document.querySelector('#df-a5bf305f-fd50-4adf-b1a3-c87d085d6201 button.colab-df-convert');\n",
              "        buttonEl.style.display =\n",
              "          google.colab.kernel.accessAllowed ? 'block' : 'none';\n",
              "\n",
              "        async function convertToInteractive(key) {\n",
              "          const element = document.querySelector('#df-a5bf305f-fd50-4adf-b1a3-c87d085d6201');\n",
              "          const dataTable =\n",
              "            await google.colab.kernel.invokeFunction('convertToInteractive',\n",
              "                                                     [key], {});\n",
              "          if (!dataTable) return;\n",
              "\n",
              "          const docLinkHtml = 'Like what you see? Visit the ' +\n",
              "            '<a target=\"_blank\" href=https://colab.research.google.com/notebooks/data_table.ipynb>data table notebook</a>'\n",
              "            + ' to learn more about interactive tables.';\n",
              "          element.innerHTML = '';\n",
              "          dataTable['output_type'] = 'display_data';\n",
              "          await google.colab.output.renderOutput(dataTable, element);\n",
              "          const docLink = document.createElement('div');\n",
              "          docLink.innerHTML = docLinkHtml;\n",
              "          element.appendChild(docLink);\n",
              "        }\n",
              "      </script>\n",
              "    </div>\n",
              "  </div>\n",
              "  "
            ]
          },
          "metadata": {},
          "execution_count": 32
        }
      ]
    },
    {
      "cell_type": "code",
      "source": [
        "df.describe(include = 'object')"
      ],
      "metadata": {
        "colab": {
          "base_uri": "https://localhost:8080/",
          "height": 174
        },
        "outputId": "9b6efe9b-8549-4874-9ce3-114ea3d5e80b",
        "id": "xRoPgGwS3r5G"
      },
      "execution_count": null,
      "outputs": [
        {
          "output_type": "execute_result",
          "data": {
            "text/plain": [
              "       diagnosis\n",
              "count        569\n",
              "unique         2\n",
              "top            B\n",
              "freq         357"
            ],
            "text/html": [
              "\n",
              "  <div id=\"df-165ab26f-9393-4672-b9ae-9c2e47837fae\">\n",
              "    <div class=\"colab-df-container\">\n",
              "      <div>\n",
              "<style scoped>\n",
              "    .dataframe tbody tr th:only-of-type {\n",
              "        vertical-align: middle;\n",
              "    }\n",
              "\n",
              "    .dataframe tbody tr th {\n",
              "        vertical-align: top;\n",
              "    }\n",
              "\n",
              "    .dataframe thead th {\n",
              "        text-align: right;\n",
              "    }\n",
              "</style>\n",
              "<table border=\"1\" class=\"dataframe\">\n",
              "  <thead>\n",
              "    <tr style=\"text-align: right;\">\n",
              "      <th></th>\n",
              "      <th>diagnosis</th>\n",
              "    </tr>\n",
              "  </thead>\n",
              "  <tbody>\n",
              "    <tr>\n",
              "      <th>count</th>\n",
              "      <td>569</td>\n",
              "    </tr>\n",
              "    <tr>\n",
              "      <th>unique</th>\n",
              "      <td>2</td>\n",
              "    </tr>\n",
              "    <tr>\n",
              "      <th>top</th>\n",
              "      <td>B</td>\n",
              "    </tr>\n",
              "    <tr>\n",
              "      <th>freq</th>\n",
              "      <td>357</td>\n",
              "    </tr>\n",
              "  </tbody>\n",
              "</table>\n",
              "</div>\n",
              "      <button class=\"colab-df-convert\" onclick=\"convertToInteractive('df-165ab26f-9393-4672-b9ae-9c2e47837fae')\"\n",
              "              title=\"Convert this dataframe to an interactive table.\"\n",
              "              style=\"display:none;\">\n",
              "        \n",
              "  <svg xmlns=\"http://www.w3.org/2000/svg\" height=\"24px\"viewBox=\"0 0 24 24\"\n",
              "       width=\"24px\">\n",
              "    <path d=\"M0 0h24v24H0V0z\" fill=\"none\"/>\n",
              "    <path d=\"M18.56 5.44l.94 2.06.94-2.06 2.06-.94-2.06-.94-.94-2.06-.94 2.06-2.06.94zm-11 1L8.5 8.5l.94-2.06 2.06-.94-2.06-.94L8.5 2.5l-.94 2.06-2.06.94zm10 10l.94 2.06.94-2.06 2.06-.94-2.06-.94-.94-2.06-.94 2.06-2.06.94z\"/><path d=\"M17.41 7.96l-1.37-1.37c-.4-.4-.92-.59-1.43-.59-.52 0-1.04.2-1.43.59L10.3 9.45l-7.72 7.72c-.78.78-.78 2.05 0 2.83L4 21.41c.39.39.9.59 1.41.59.51 0 1.02-.2 1.41-.59l7.78-7.78 2.81-2.81c.8-.78.8-2.07 0-2.86zM5.41 20L4 18.59l7.72-7.72 1.47 1.35L5.41 20z\"/>\n",
              "  </svg>\n",
              "      </button>\n",
              "      \n",
              "  <style>\n",
              "    .colab-df-container {\n",
              "      display:flex;\n",
              "      flex-wrap:wrap;\n",
              "      gap: 12px;\n",
              "    }\n",
              "\n",
              "    .colab-df-convert {\n",
              "      background-color: #E8F0FE;\n",
              "      border: none;\n",
              "      border-radius: 50%;\n",
              "      cursor: pointer;\n",
              "      display: none;\n",
              "      fill: #1967D2;\n",
              "      height: 32px;\n",
              "      padding: 0 0 0 0;\n",
              "      width: 32px;\n",
              "    }\n",
              "\n",
              "    .colab-df-convert:hover {\n",
              "      background-color: #E2EBFA;\n",
              "      box-shadow: 0px 1px 2px rgba(60, 64, 67, 0.3), 0px 1px 3px 1px rgba(60, 64, 67, 0.15);\n",
              "      fill: #174EA6;\n",
              "    }\n",
              "\n",
              "    [theme=dark] .colab-df-convert {\n",
              "      background-color: #3B4455;\n",
              "      fill: #D2E3FC;\n",
              "    }\n",
              "\n",
              "    [theme=dark] .colab-df-convert:hover {\n",
              "      background-color: #434B5C;\n",
              "      box-shadow: 0px 1px 3px 1px rgba(0, 0, 0, 0.15);\n",
              "      filter: drop-shadow(0px 1px 2px rgba(0, 0, 0, 0.3));\n",
              "      fill: #FFFFFF;\n",
              "    }\n",
              "  </style>\n",
              "\n",
              "      <script>\n",
              "        const buttonEl =\n",
              "          document.querySelector('#df-165ab26f-9393-4672-b9ae-9c2e47837fae button.colab-df-convert');\n",
              "        buttonEl.style.display =\n",
              "          google.colab.kernel.accessAllowed ? 'block' : 'none';\n",
              "\n",
              "        async function convertToInteractive(key) {\n",
              "          const element = document.querySelector('#df-165ab26f-9393-4672-b9ae-9c2e47837fae');\n",
              "          const dataTable =\n",
              "            await google.colab.kernel.invokeFunction('convertToInteractive',\n",
              "                                                     [key], {});\n",
              "          if (!dataTable) return;\n",
              "\n",
              "          const docLinkHtml = 'Like what you see? Visit the ' +\n",
              "            '<a target=\"_blank\" href=https://colab.research.google.com/notebooks/data_table.ipynb>data table notebook</a>'\n",
              "            + ' to learn more about interactive tables.';\n",
              "          element.innerHTML = '';\n",
              "          dataTable['output_type'] = 'display_data';\n",
              "          await google.colab.output.renderOutput(dataTable, element);\n",
              "          const docLink = document.createElement('div');\n",
              "          docLink.innerHTML = docLinkHtml;\n",
              "          element.appendChild(docLink);\n",
              "        }\n",
              "      </script>\n",
              "    </div>\n",
              "  </div>\n",
              "  "
            ]
          },
          "metadata": {},
          "execution_count": 33
        }
      ]
    },
    {
      "cell_type": "code",
      "source": [
        "# check to see if data is balanced\n",
        "df['diagnosis'].value_counts()"
      ],
      "metadata": {
        "colab": {
          "base_uri": "https://localhost:8080/"
        },
        "outputId": "f25bdfe6-f4e7-4139-980c-2728967a737a",
        "id": "0I_v_J-b3r5H"
      },
      "execution_count": null,
      "outputs": [
        {
          "output_type": "execute_result",
          "data": {
            "text/plain": [
              "B    357\n",
              "M    212\n",
              "Name: diagnosis, dtype: int64"
            ]
          },
          "metadata": {},
          "execution_count": 34
        }
      ]
    },
    {
      "cell_type": "code",
      "source": [
        "# check with percentages (alternative)\n",
        "df['diagnosis'].value_counts(normalize = True)"
      ],
      "metadata": {
        "colab": {
          "base_uri": "https://localhost:8080/"
        },
        "outputId": "9056e90a-d966-4bec-bf64-af24c658d257",
        "id": "O3DSnzo83r5H"
      },
      "execution_count": null,
      "outputs": [
        {
          "output_type": "execute_result",
          "data": {
            "text/plain": [
              "B    0.627417\n",
              "M    0.372583\n",
              "Name: diagnosis, dtype: float64"
            ]
          },
          "metadata": {},
          "execution_count": 35
        }
      ]
    },
    {
      "cell_type": "code",
      "source": [
        "# check for duplicates\n",
        "df.duplicated().sum()"
      ],
      "metadata": {
        "colab": {
          "base_uri": "https://localhost:8080/"
        },
        "outputId": "811533a7-f15e-40d1-cd77-ba6bed103ad7",
        "id": "AreziKlO3r5H"
      },
      "execution_count": null,
      "outputs": [
        {
          "output_type": "execute_result",
          "data": {
            "text/plain": [
              "0"
            ]
          },
          "metadata": {},
          "execution_count": 36
        }
      ]
    },
    {
      "cell_type": "code",
      "source": [
        "'''\n",
        "# set function for evaluating models with error metrics\n",
        "# (copied from Josh Johnson's Code-Along Notebook from 4/3/2023 CD class)\n",
        "\n",
        "## Create a function to take the true and predicted values\n",
        "## and print MAE, MSE, RMSE, and R2 metrics for a model\n",
        "def eval_model(y_true, y_pred, name='model'):\n",
        "  \"\"\"Takes true targets and predictions from a model and prints\n",
        "  MAE, MSE, RMSE, AND R2 scores\n",
        "  Set 'name' to name of model and 'train' or 'test' as appropriate\"\"\"\n",
        "  mae = mean_absolute_error(y_true, y_pred)\n",
        "  mse = mean_squared_error(y_true, y_pred)\n",
        "  rmse = np.sqrt(mse)\n",
        "  r2 = r2_score(y_true, y_pred)\n",
        "\n",
        "  print(f'{name} Scores')\n",
        "  print(f'MAE: {mae:,.4f} \\nMSE: {mse:,.4f} \\nRMSE: {rmse:,.4f} \\nR2: {r2:.4f}\\n')\n",
        "'''"
      ],
      "metadata": {
        "colab": {
          "base_uri": "https://localhost:8080/",
          "height": 191
        },
        "id": "mcW0nOzRwPsG",
        "outputId": "36bdb730-9021-4a29-d13e-0e96fa06b95d"
      },
      "execution_count": null,
      "outputs": [
        {
          "output_type": "execute_result",
          "data": {
            "text/plain": [
              "'\\n# set function for evaluating models with error metrics\\n# (copied from Josh Johnson\\'s Code-Along Notebook from 4/3/2023 CD class)\\n\\n## Create a function to take the true and predicted values\\n## and print MAE, MSE, RMSE, and R2 metrics for a model\\ndef eval_model(y_true, y_pred, name=\\'model\\'):\\n  \"\"\"Takes true targets and predictions from a model and prints\\n  MAE, MSE, RMSE, AND R2 scores\\n  Set \\'name\\' to name of model and \\'train\\' or \\'test\\' as appropriate\"\"\"\\n  mae = mean_absolute_error(y_true, y_pred)\\n  mse = mean_squared_error(y_true, y_pred)\\n  rmse = np.sqrt(mse)\\n  r2 = r2_score(y_true, y_pred)\\n\\n  print(f\\'{name} Scores\\')\\n  print(f\\'MAE: {mae:,.4f} \\nMSE: {mse:,.4f} \\nRMSE: {rmse:,.4f} \\nR2: {r2:.4f}\\n\\')\\n'"
            ],
            "application/vnd.google.colaboratory.intrinsic+json": {
              "type": "string"
            }
          },
          "metadata": {},
          "execution_count": 37
        }
      ]
    },
    {
      "cell_type": "code",
      "source": [
        "'''\n",
        "# make function that will calculate all metrics for a model after it has been \n",
        "# fitted, and return a df with the metrics\n",
        "\n",
        "def eval_model(model, X_train, X_test, y_train, y_test):\n",
        "\n",
        "  # create list of metrics and df to store calculations\n",
        "  metrics = ['MAE', 'MSE', 'RMSE', 'R2']\n",
        "  metrics = pd.DataFrame(index = metrics, \n",
        "                         columns = [str(model) + '\\n' + 'Train Score', \n",
        "                                    str(model) + '\\n' + 'Test Score'])\n",
        "\n",
        "  # create training and testing predictions\n",
        "  train_pred = model.predict(X_train)\n",
        "  test_pred = model.predict(X_test)\n",
        "  \n",
        "  # calculate mae for training and testing data\n",
        "  train_mae = mean_absolute_error(y_train, train_pred)\n",
        "  test_mae = mean_absolute_error(y_test, test_pred)\n",
        "\n",
        "  # calculate mse\n",
        "  train_mse = mean_squared_error(y_train, train_pred)\n",
        "  test_mse = mean_squared_error(y_test, test_pred)\n",
        "\n",
        "  # calculate r2\n",
        "  train_r2 = r2_score(y_train, train_pred)\n",
        "  test_r2 = r2_score(y_test, test_pred)\n",
        "\n",
        "  # store values in df\n",
        "  metrics.loc['MAE', str(model) + '\\n' + 'Train Score'] = train_mae\n",
        "  metrics.loc['MAE', str(model) + '\\n' + 'Test Score'] = test_mae\n",
        "  metrics.loc['MSE', str(model) + '\\n' + 'Train Score'] = train_mse\n",
        "  metrics.loc['MSE', str(model) + '\\n' + 'Test Score'] = test_mse\n",
        "  metrics.loc['RMSE', str(model) + '\\n' + 'Train Score'] = np.sqrt(train_mse)\n",
        "  metrics.loc['RMSE', str(model) + '\\n' + 'Test Score'] = np.sqrt(test_mse)\n",
        "  metrics.loc['R2', str(model) + '\\n' + 'Train Score'] = train_r2\n",
        "  metrics.loc['R2', str(model) + '\\n' + 'Test Score'] = test_r2\n",
        "\n",
        "  return metrics\n",
        "\n",
        "'''"
      ],
      "metadata": {
        "colab": {
          "base_uri": "https://localhost:8080/",
          "height": 226
        },
        "id": "udjTpvYX1H4c",
        "outputId": "b61865b7-73a4-4c39-da8d-0127c4de381d"
      },
      "execution_count": null,
      "outputs": [
        {
          "output_type": "execute_result",
          "data": {
            "text/plain": [
              "\"\\n# make function that will calculate all metrics for a model after it has been \\n# fitted, and return a df with the metrics\\n\\ndef eval_model(model, X_train, X_test, y_train, y_test):\\n\\n  # create list of metrics and df to store calculations\\n  metrics = ['MAE', 'MSE', 'RMSE', 'R2']\\n  metrics = pd.DataFrame(index = metrics, \\n                         columns = [str(model) + '\\n' + 'Train Score', \\n                                    str(model) + '\\n' + 'Test Score'])\\n\\n  # create training and testing predictions\\n  train_pred = model.predict(X_train)\\n  test_pred = model.predict(X_test)\\n  \\n  # calculate mae for training and testing data\\n  train_mae = mean_absolute_error(y_train, train_pred)\\n  test_mae = mean_absolute_error(y_test, test_pred)\\n\\n  # calculate mse\\n  train_mse = mean_squared_error(y_train, train_pred)\\n  test_mse = mean_squared_error(y_test, test_pred)\\n\\n  # calculate r2\\n  train_r2 = r2_score(y_train, train_pred)\\n  test_r2 = r2_score(y_test, test_pred)\\n\\n  # store values in df\\n  metrics.loc['MAE', str(model) + '\\n' + 'Train Score'] = train_mae\\n  metrics.loc['MAE', str(model) + '\\n' + 'Test Score'] = test_mae\\n  metrics.loc['MSE', str(model) + '\\n' + 'Train Score'] = train_mse\\n  metrics.loc['MSE', str(model) + '\\n' + 'Test Score'] = test_mse\\n  metrics.loc['RMSE', str(model) + '\\n' + 'Train Score'] = np.sqrt(train_mse)\\n  metrics.loc['RMSE', str(model) + '\\n' + 'Test Score'] = np.sqrt(test_mse)\\n  metrics.loc['R2', str(model) + '\\n' + 'Train Score'] = train_r2\\n  metrics.loc['R2', str(model) + '\\n' + 'Test Score'] = test_r2\\n\\n  return metrics\\n\\n\""
            ],
            "application/vnd.google.colaboratory.intrinsic+json": {
              "type": "string"
            }
          },
          "metadata": {},
          "execution_count": 38
        }
      ]
    },
    {
      "cell_type": "markdown",
      "source": [
        "# Preprocessing"
      ],
      "metadata": {
        "id": "KaOMsksr3r5I"
      }
    },
    {
      "cell_type": "code",
      "source": [
        "# convert string target variable values to numbers\n",
        "df['diagnosis'].replace({'B': 0,\n",
        "                         'M': 1},\n",
        "                        inplace = True)"
      ],
      "metadata": {
        "id": "bUE4kcqP3r5I"
      },
      "execution_count": null,
      "outputs": []
    },
    {
      "cell_type": "code",
      "source": [
        "# split into features matrix and target vector\n",
        "target = 'diagnosis'\n",
        "y = df[target]\n",
        "X = df.drop(columns = target)"
      ],
      "metadata": {
        "id": "RgUyx2Qo3r5I"
      },
      "execution_count": null,
      "outputs": []
    },
    {
      "cell_type": "code",
      "source": [
        "# train test split (model validation)\n",
        "X_train, X_test, y_train, y_test = train_test_split(X, y, random_state = 42)"
      ],
      "metadata": {
        "id": "VWo_T48f3r5I"
      },
      "execution_count": null,
      "outputs": []
    },
    {
      "cell_type": "markdown",
      "source": [
        "# Decision Tree Classifier Model"
      ],
      "metadata": {
        "id": "LR1M38W43r5I"
      }
    },
    {
      "cell_type": "code",
      "source": [
        "# instantiate model with default parameter settings\n",
        "dec_tree_class = DecisionTreeClassifier(random_state = 42)"
      ],
      "metadata": {
        "id": "XTda28jl3r5J"
      },
      "execution_count": null,
      "outputs": []
    },
    {
      "cell_type": "code",
      "source": [
        "# fit model on training data\n",
        "dec_tree_class.fit(X_train, y_train)"
      ],
      "metadata": {
        "colab": {
          "base_uri": "https://localhost:8080/",
          "height": 74
        },
        "outputId": "e798938d-a7a6-46be-ffba-bef4d0212b5d",
        "id": "4luwr_8M3r5J"
      },
      "execution_count": null,
      "outputs": [
        {
          "output_type": "execute_result",
          "data": {
            "text/plain": [
              "DecisionTreeClassifier(random_state=42)"
            ],
            "text/html": [
              "<style>#sk-container-id-3 {color: black;background-color: white;}#sk-container-id-3 pre{padding: 0;}#sk-container-id-3 div.sk-toggleable {background-color: white;}#sk-container-id-3 label.sk-toggleable__label {cursor: pointer;display: block;width: 100%;margin-bottom: 0;padding: 0.3em;box-sizing: border-box;text-align: center;}#sk-container-id-3 label.sk-toggleable__label-arrow:before {content: \"▸\";float: left;margin-right: 0.25em;color: #696969;}#sk-container-id-3 label.sk-toggleable__label-arrow:hover:before {color: black;}#sk-container-id-3 div.sk-estimator:hover label.sk-toggleable__label-arrow:before {color: black;}#sk-container-id-3 div.sk-toggleable__content {max-height: 0;max-width: 0;overflow: hidden;text-align: left;background-color: #f0f8ff;}#sk-container-id-3 div.sk-toggleable__content pre {margin: 0.2em;color: black;border-radius: 0.25em;background-color: #f0f8ff;}#sk-container-id-3 input.sk-toggleable__control:checked~div.sk-toggleable__content {max-height: 200px;max-width: 100%;overflow: auto;}#sk-container-id-3 input.sk-toggleable__control:checked~label.sk-toggleable__label-arrow:before {content: \"▾\";}#sk-container-id-3 div.sk-estimator input.sk-toggleable__control:checked~label.sk-toggleable__label {background-color: #d4ebff;}#sk-container-id-3 div.sk-label input.sk-toggleable__control:checked~label.sk-toggleable__label {background-color: #d4ebff;}#sk-container-id-3 input.sk-hidden--visually {border: 0;clip: rect(1px 1px 1px 1px);clip: rect(1px, 1px, 1px, 1px);height: 1px;margin: -1px;overflow: hidden;padding: 0;position: absolute;width: 1px;}#sk-container-id-3 div.sk-estimator {font-family: monospace;background-color: #f0f8ff;border: 1px dotted black;border-radius: 0.25em;box-sizing: border-box;margin-bottom: 0.5em;}#sk-container-id-3 div.sk-estimator:hover {background-color: #d4ebff;}#sk-container-id-3 div.sk-parallel-item::after {content: \"\";width: 100%;border-bottom: 1px solid gray;flex-grow: 1;}#sk-container-id-3 div.sk-label:hover label.sk-toggleable__label {background-color: #d4ebff;}#sk-container-id-3 div.sk-serial::before {content: \"\";position: absolute;border-left: 1px solid gray;box-sizing: border-box;top: 0;bottom: 0;left: 50%;z-index: 0;}#sk-container-id-3 div.sk-serial {display: flex;flex-direction: column;align-items: center;background-color: white;padding-right: 0.2em;padding-left: 0.2em;position: relative;}#sk-container-id-3 div.sk-item {position: relative;z-index: 1;}#sk-container-id-3 div.sk-parallel {display: flex;align-items: stretch;justify-content: center;background-color: white;position: relative;}#sk-container-id-3 div.sk-item::before, #sk-container-id-3 div.sk-parallel-item::before {content: \"\";position: absolute;border-left: 1px solid gray;box-sizing: border-box;top: 0;bottom: 0;left: 50%;z-index: -1;}#sk-container-id-3 div.sk-parallel-item {display: flex;flex-direction: column;z-index: 1;position: relative;background-color: white;}#sk-container-id-3 div.sk-parallel-item:first-child::after {align-self: flex-end;width: 50%;}#sk-container-id-3 div.sk-parallel-item:last-child::after {align-self: flex-start;width: 50%;}#sk-container-id-3 div.sk-parallel-item:only-child::after {width: 0;}#sk-container-id-3 div.sk-dashed-wrapped {border: 1px dashed gray;margin: 0 0.4em 0.5em 0.4em;box-sizing: border-box;padding-bottom: 0.4em;background-color: white;}#sk-container-id-3 div.sk-label label {font-family: monospace;font-weight: bold;display: inline-block;line-height: 1.2em;}#sk-container-id-3 div.sk-label-container {text-align: center;}#sk-container-id-3 div.sk-container {/* jupyter's `normalize.less` sets `[hidden] { display: none; }` but bootstrap.min.css set `[hidden] { display: none !important; }` so we also need the `!important` here to be able to override the default hidden behavior on the sphinx rendered scikit-learn.org. See: https://github.com/scikit-learn/scikit-learn/issues/21755 */display: inline-block !important;position: relative;}#sk-container-id-3 div.sk-text-repr-fallback {display: none;}</style><div id=\"sk-container-id-3\" class=\"sk-top-container\"><div class=\"sk-text-repr-fallback\"><pre>DecisionTreeClassifier(random_state=42)</pre><b>In a Jupyter environment, please rerun this cell to show the HTML representation or trust the notebook. <br />On GitHub, the HTML representation is unable to render, please try loading this page with nbviewer.org.</b></div><div class=\"sk-container\" hidden><div class=\"sk-item\"><div class=\"sk-estimator sk-toggleable\"><input class=\"sk-toggleable__control sk-hidden--visually\" id=\"sk-estimator-id-3\" type=\"checkbox\" checked><label for=\"sk-estimator-id-3\" class=\"sk-toggleable__label sk-toggleable__label-arrow\">DecisionTreeClassifier</label><div class=\"sk-toggleable__content\"><pre>DecisionTreeClassifier(random_state=42)</pre></div></div></div></div></div>"
            ]
          },
          "metadata": {},
          "execution_count": 43
        }
      ]
    },
    {
      "cell_type": "code",
      "source": [
        "# get accuracy for model\n",
        "print(f\"Model's accuracy score on training data: {dec_tree_class.score(X_train, y_train)}\")\n",
        "print(f\"Model's accuracy score on testing data: {dec_tree_class.score(X_test, y_test)}\")"
      ],
      "metadata": {
        "colab": {
          "base_uri": "https://localhost:8080/"
        },
        "outputId": "e0f7a36a-48d9-4a26-bb06-82f09468cbae",
        "id": "HIbzCSK73r5J"
      },
      "execution_count": null,
      "outputs": [
        {
          "output_type": "stream",
          "name": "stdout",
          "text": [
            "Model's accuracy score on training data: 1.0\n",
            "Model's accuracy score on testing data: 0.951048951048951\n"
          ]
        }
      ]
    },
    {
      "cell_type": "code",
      "source": [
        "# consider tuning hyperparameters (solution notebook did not tune hyperparameters, so model\n",
        "# accuracy scores will differ slightly)\n",
        "# example from LP: max_depth\n",
        "dec_tree_class.get_params()"
      ],
      "metadata": {
        "colab": {
          "base_uri": "https://localhost:8080/"
        },
        "outputId": "6fb50bcf-c5bf-4660-a9c9-58061933a8a5",
        "id": "gvioaA5W3r5J"
      },
      "execution_count": null,
      "outputs": [
        {
          "output_type": "execute_result",
          "data": {
            "text/plain": [
              "{'ccp_alpha': 0.0,\n",
              " 'class_weight': None,\n",
              " 'criterion': 'gini',\n",
              " 'max_depth': None,\n",
              " 'max_features': None,\n",
              " 'max_leaf_nodes': None,\n",
              " 'min_impurity_decrease': 0.0,\n",
              " 'min_samples_leaf': 1,\n",
              " 'min_samples_split': 2,\n",
              " 'min_weight_fraction_leaf': 0.0,\n",
              " 'random_state': 42,\n",
              " 'splitter': 'best'}"
            ]
          },
          "metadata": {},
          "execution_count": 45
        }
      ]
    },
    {
      "cell_type": "code",
      "source": [
        "# tune hyperparameter max_depth to improve model performance on test\n",
        "\n",
        "# get depth from default model\n",
        "dec_tree_class.get_depth()"
      ],
      "metadata": {
        "colab": {
          "base_uri": "https://localhost:8080/"
        },
        "outputId": "e8200de9-a019-436c-9458-a19801edb8bb",
        "id": "3R9ICcb-3r5J"
      },
      "execution_count": null,
      "outputs": [
        {
          "output_type": "execute_result",
          "data": {
            "text/plain": [
              "7"
            ]
          },
          "metadata": {},
          "execution_count": 46
        }
      ]
    },
    {
      "cell_type": "code",
      "source": [
        "# loop through depths 2-7, calculate error metrics, and choose best version of model\n",
        "depths = list(range(2, 7))\n",
        "\n",
        "scores = pd.DataFrame(index = depths,\n",
        "                      columns = ['Test Score',\n",
        "                                 'Train Score'])\n",
        "\n",
        "for depth in depths:\n",
        "  dec_tree = DecisionTreeClassifier(max_depth = depth,\n",
        "                                    random_state = 42)\n",
        "  dec_tree.fit(X_train, y_train)\n",
        "  train_pred = dec_tree.predict(X_train)\n",
        "  test_pred = dec_tree.predict(X_test)\n",
        "  train_acc = dec_tree.score(X_train, y_train)\n",
        "  test_acc = dec_tree.score(X_test, y_test)\n",
        "  scores.loc[depth, 'Train Score'] = train_acc\n",
        "  scores.loc[depth, 'Test Score'] = test_acc\n",
        "\n",
        "sorted_scores = scores.sort_values(by = 'Test Score',\n",
        "                                   ascending = False)\n",
        "\n",
        "sorted_scores.head()"
      ],
      "metadata": {
        "colab": {
          "base_uri": "https://localhost:8080/",
          "height": 206
        },
        "outputId": "578e874a-9f09-4a69-bcaf-68e2ae2e8030",
        "id": "VIvAt-rB3r5K"
      },
      "execution_count": null,
      "outputs": [
        {
          "output_type": "execute_result",
          "data": {
            "text/plain": [
              "  Test Score Train Score\n",
              "3   0.958042    0.971831\n",
              "5   0.958042    0.995305\n",
              "4   0.944056    0.995305\n",
              "6   0.944056    0.997653\n",
              "2   0.916084    0.946009"
            ],
            "text/html": [
              "\n",
              "  <div id=\"df-db093a9a-045a-4404-af6f-af1c88562aaf\">\n",
              "    <div class=\"colab-df-container\">\n",
              "      <div>\n",
              "<style scoped>\n",
              "    .dataframe tbody tr th:only-of-type {\n",
              "        vertical-align: middle;\n",
              "    }\n",
              "\n",
              "    .dataframe tbody tr th {\n",
              "        vertical-align: top;\n",
              "    }\n",
              "\n",
              "    .dataframe thead th {\n",
              "        text-align: right;\n",
              "    }\n",
              "</style>\n",
              "<table border=\"1\" class=\"dataframe\">\n",
              "  <thead>\n",
              "    <tr style=\"text-align: right;\">\n",
              "      <th></th>\n",
              "      <th>Test Score</th>\n",
              "      <th>Train Score</th>\n",
              "    </tr>\n",
              "  </thead>\n",
              "  <tbody>\n",
              "    <tr>\n",
              "      <th>3</th>\n",
              "      <td>0.958042</td>\n",
              "      <td>0.971831</td>\n",
              "    </tr>\n",
              "    <tr>\n",
              "      <th>5</th>\n",
              "      <td>0.958042</td>\n",
              "      <td>0.995305</td>\n",
              "    </tr>\n",
              "    <tr>\n",
              "      <th>4</th>\n",
              "      <td>0.944056</td>\n",
              "      <td>0.995305</td>\n",
              "    </tr>\n",
              "    <tr>\n",
              "      <th>6</th>\n",
              "      <td>0.944056</td>\n",
              "      <td>0.997653</td>\n",
              "    </tr>\n",
              "    <tr>\n",
              "      <th>2</th>\n",
              "      <td>0.916084</td>\n",
              "      <td>0.946009</td>\n",
              "    </tr>\n",
              "  </tbody>\n",
              "</table>\n",
              "</div>\n",
              "      <button class=\"colab-df-convert\" onclick=\"convertToInteractive('df-db093a9a-045a-4404-af6f-af1c88562aaf')\"\n",
              "              title=\"Convert this dataframe to an interactive table.\"\n",
              "              style=\"display:none;\">\n",
              "        \n",
              "  <svg xmlns=\"http://www.w3.org/2000/svg\" height=\"24px\"viewBox=\"0 0 24 24\"\n",
              "       width=\"24px\">\n",
              "    <path d=\"M0 0h24v24H0V0z\" fill=\"none\"/>\n",
              "    <path d=\"M18.56 5.44l.94 2.06.94-2.06 2.06-.94-2.06-.94-.94-2.06-.94 2.06-2.06.94zm-11 1L8.5 8.5l.94-2.06 2.06-.94-2.06-.94L8.5 2.5l-.94 2.06-2.06.94zm10 10l.94 2.06.94-2.06 2.06-.94-2.06-.94-.94-2.06-.94 2.06-2.06.94z\"/><path d=\"M17.41 7.96l-1.37-1.37c-.4-.4-.92-.59-1.43-.59-.52 0-1.04.2-1.43.59L10.3 9.45l-7.72 7.72c-.78.78-.78 2.05 0 2.83L4 21.41c.39.39.9.59 1.41.59.51 0 1.02-.2 1.41-.59l7.78-7.78 2.81-2.81c.8-.78.8-2.07 0-2.86zM5.41 20L4 18.59l7.72-7.72 1.47 1.35L5.41 20z\"/>\n",
              "  </svg>\n",
              "      </button>\n",
              "      \n",
              "  <style>\n",
              "    .colab-df-container {\n",
              "      display:flex;\n",
              "      flex-wrap:wrap;\n",
              "      gap: 12px;\n",
              "    }\n",
              "\n",
              "    .colab-df-convert {\n",
              "      background-color: #E8F0FE;\n",
              "      border: none;\n",
              "      border-radius: 50%;\n",
              "      cursor: pointer;\n",
              "      display: none;\n",
              "      fill: #1967D2;\n",
              "      height: 32px;\n",
              "      padding: 0 0 0 0;\n",
              "      width: 32px;\n",
              "    }\n",
              "\n",
              "    .colab-df-convert:hover {\n",
              "      background-color: #E2EBFA;\n",
              "      box-shadow: 0px 1px 2px rgba(60, 64, 67, 0.3), 0px 1px 3px 1px rgba(60, 64, 67, 0.15);\n",
              "      fill: #174EA6;\n",
              "    }\n",
              "\n",
              "    [theme=dark] .colab-df-convert {\n",
              "      background-color: #3B4455;\n",
              "      fill: #D2E3FC;\n",
              "    }\n",
              "\n",
              "    [theme=dark] .colab-df-convert:hover {\n",
              "      background-color: #434B5C;\n",
              "      box-shadow: 0px 1px 3px 1px rgba(0, 0, 0, 0.15);\n",
              "      filter: drop-shadow(0px 1px 2px rgba(0, 0, 0, 0.3));\n",
              "      fill: #FFFFFF;\n",
              "    }\n",
              "  </style>\n",
              "\n",
              "      <script>\n",
              "        const buttonEl =\n",
              "          document.querySelector('#df-db093a9a-045a-4404-af6f-af1c88562aaf button.colab-df-convert');\n",
              "        buttonEl.style.display =\n",
              "          google.colab.kernel.accessAllowed ? 'block' : 'none';\n",
              "\n",
              "        async function convertToInteractive(key) {\n",
              "          const element = document.querySelector('#df-db093a9a-045a-4404-af6f-af1c88562aaf');\n",
              "          const dataTable =\n",
              "            await google.colab.kernel.invokeFunction('convertToInteractive',\n",
              "                                                     [key], {});\n",
              "          if (!dataTable) return;\n",
              "\n",
              "          const docLinkHtml = 'Like what you see? Visit the ' +\n",
              "            '<a target=\"_blank\" href=https://colab.research.google.com/notebooks/data_table.ipynb>data table notebook</a>'\n",
              "            + ' to learn more about interactive tables.';\n",
              "          element.innerHTML = '';\n",
              "          dataTable['output_type'] = 'display_data';\n",
              "          await google.colab.output.renderOutput(dataTable, element);\n",
              "          const docLink = document.createElement('div');\n",
              "          docLink.innerHTML = docLinkHtml;\n",
              "          element.appendChild(docLink);\n",
              "        }\n",
              "      </script>\n",
              "    </div>\n",
              "  </div>\n",
              "  "
            ]
          },
          "metadata": {},
          "execution_count": 47
        }
      ]
    },
    {
      "cell_type": "code",
      "source": [
        "# instantiate best version of model\n",
        "dec_tree_class_3 = DecisionTreeClassifier(max_depth = 3,\n",
        "                                          random_state = 42)"
      ],
      "metadata": {
        "id": "m8C9s0tQ3r5K"
      },
      "execution_count": null,
      "outputs": []
    },
    {
      "cell_type": "code",
      "source": [
        "# fit model on training data only\n",
        "dec_tree_class_3.fit(X_train, y_train)"
      ],
      "metadata": {
        "colab": {
          "base_uri": "https://localhost:8080/",
          "height": 74
        },
        "outputId": "72bd150a-e050-4476-c37d-7982fec1cc1b",
        "id": "caJtBFO33r5K"
      },
      "execution_count": null,
      "outputs": [
        {
          "output_type": "execute_result",
          "data": {
            "text/plain": [
              "DecisionTreeClassifier(max_depth=3, random_state=42)"
            ],
            "text/html": [
              "<style>#sk-container-id-4 {color: black;background-color: white;}#sk-container-id-4 pre{padding: 0;}#sk-container-id-4 div.sk-toggleable {background-color: white;}#sk-container-id-4 label.sk-toggleable__label {cursor: pointer;display: block;width: 100%;margin-bottom: 0;padding: 0.3em;box-sizing: border-box;text-align: center;}#sk-container-id-4 label.sk-toggleable__label-arrow:before {content: \"▸\";float: left;margin-right: 0.25em;color: #696969;}#sk-container-id-4 label.sk-toggleable__label-arrow:hover:before {color: black;}#sk-container-id-4 div.sk-estimator:hover label.sk-toggleable__label-arrow:before {color: black;}#sk-container-id-4 div.sk-toggleable__content {max-height: 0;max-width: 0;overflow: hidden;text-align: left;background-color: #f0f8ff;}#sk-container-id-4 div.sk-toggleable__content pre {margin: 0.2em;color: black;border-radius: 0.25em;background-color: #f0f8ff;}#sk-container-id-4 input.sk-toggleable__control:checked~div.sk-toggleable__content {max-height: 200px;max-width: 100%;overflow: auto;}#sk-container-id-4 input.sk-toggleable__control:checked~label.sk-toggleable__label-arrow:before {content: \"▾\";}#sk-container-id-4 div.sk-estimator input.sk-toggleable__control:checked~label.sk-toggleable__label {background-color: #d4ebff;}#sk-container-id-4 div.sk-label input.sk-toggleable__control:checked~label.sk-toggleable__label {background-color: #d4ebff;}#sk-container-id-4 input.sk-hidden--visually {border: 0;clip: rect(1px 1px 1px 1px);clip: rect(1px, 1px, 1px, 1px);height: 1px;margin: -1px;overflow: hidden;padding: 0;position: absolute;width: 1px;}#sk-container-id-4 div.sk-estimator {font-family: monospace;background-color: #f0f8ff;border: 1px dotted black;border-radius: 0.25em;box-sizing: border-box;margin-bottom: 0.5em;}#sk-container-id-4 div.sk-estimator:hover {background-color: #d4ebff;}#sk-container-id-4 div.sk-parallel-item::after {content: \"\";width: 100%;border-bottom: 1px solid gray;flex-grow: 1;}#sk-container-id-4 div.sk-label:hover label.sk-toggleable__label {background-color: #d4ebff;}#sk-container-id-4 div.sk-serial::before {content: \"\";position: absolute;border-left: 1px solid gray;box-sizing: border-box;top: 0;bottom: 0;left: 50%;z-index: 0;}#sk-container-id-4 div.sk-serial {display: flex;flex-direction: column;align-items: center;background-color: white;padding-right: 0.2em;padding-left: 0.2em;position: relative;}#sk-container-id-4 div.sk-item {position: relative;z-index: 1;}#sk-container-id-4 div.sk-parallel {display: flex;align-items: stretch;justify-content: center;background-color: white;position: relative;}#sk-container-id-4 div.sk-item::before, #sk-container-id-4 div.sk-parallel-item::before {content: \"\";position: absolute;border-left: 1px solid gray;box-sizing: border-box;top: 0;bottom: 0;left: 50%;z-index: -1;}#sk-container-id-4 div.sk-parallel-item {display: flex;flex-direction: column;z-index: 1;position: relative;background-color: white;}#sk-container-id-4 div.sk-parallel-item:first-child::after {align-self: flex-end;width: 50%;}#sk-container-id-4 div.sk-parallel-item:last-child::after {align-self: flex-start;width: 50%;}#sk-container-id-4 div.sk-parallel-item:only-child::after {width: 0;}#sk-container-id-4 div.sk-dashed-wrapped {border: 1px dashed gray;margin: 0 0.4em 0.5em 0.4em;box-sizing: border-box;padding-bottom: 0.4em;background-color: white;}#sk-container-id-4 div.sk-label label {font-family: monospace;font-weight: bold;display: inline-block;line-height: 1.2em;}#sk-container-id-4 div.sk-label-container {text-align: center;}#sk-container-id-4 div.sk-container {/* jupyter's `normalize.less` sets `[hidden] { display: none; }` but bootstrap.min.css set `[hidden] { display: none !important; }` so we also need the `!important` here to be able to override the default hidden behavior on the sphinx rendered scikit-learn.org. See: https://github.com/scikit-learn/scikit-learn/issues/21755 */display: inline-block !important;position: relative;}#sk-container-id-4 div.sk-text-repr-fallback {display: none;}</style><div id=\"sk-container-id-4\" class=\"sk-top-container\"><div class=\"sk-text-repr-fallback\"><pre>DecisionTreeClassifier(max_depth=3, random_state=42)</pre><b>In a Jupyter environment, please rerun this cell to show the HTML representation or trust the notebook. <br />On GitHub, the HTML representation is unable to render, please try loading this page with nbviewer.org.</b></div><div class=\"sk-container\" hidden><div class=\"sk-item\"><div class=\"sk-estimator sk-toggleable\"><input class=\"sk-toggleable__control sk-hidden--visually\" id=\"sk-estimator-id-4\" type=\"checkbox\" checked><label for=\"sk-estimator-id-4\" class=\"sk-toggleable__label sk-toggleable__label-arrow\">DecisionTreeClassifier</label><div class=\"sk-toggleable__content\"><pre>DecisionTreeClassifier(max_depth=3, random_state=42)</pre></div></div></div></div></div>"
            ]
          },
          "metadata": {},
          "execution_count": 49
        }
      ]
    },
    {
      "cell_type": "code",
      "source": [
        "# get accuracy for model\n",
        "print(f\"Model's accuracy score on training data: {dec_tree_class_3.score(X_train, y_train)}\")\n",
        "print(f\"Model's accuracy score on testing data: {dec_tree_class_3.score(X_test, y_test)}\")"
      ],
      "metadata": {
        "colab": {
          "base_uri": "https://localhost:8080/"
        },
        "outputId": "03ecf002-1700-4032-9d74-65aefaa98e9a",
        "id": "LI1Qalw93r5K"
      },
      "execution_count": null,
      "outputs": [
        {
          "output_type": "stream",
          "name": "stdout",
          "text": [
            "Model's accuracy score on training data: 0.971830985915493\n",
            "Model's accuracy score on testing data: 0.958041958041958\n"
          ]
        }
      ]
    },
    {
      "cell_type": "markdown",
      "source": [
        "# Bagging Classifier Model"
      ],
      "metadata": {
        "id": "B52BFb1rvSSX"
      }
    },
    {
      "cell_type": "code",
      "source": [
        "# instantiate model with default parameters\n",
        "bag_class = BaggingClassifier(random_state = 42)"
      ],
      "metadata": {
        "id": "A_ZvbBOO7-qp"
      },
      "execution_count": null,
      "outputs": []
    },
    {
      "cell_type": "code",
      "source": [
        "# fit model on training data\n",
        "bag_class.fit(X_train, y_train)"
      ],
      "metadata": {
        "colab": {
          "base_uri": "https://localhost:8080/",
          "height": 74
        },
        "id": "H7OsjDFB8FOd",
        "outputId": "09a1225a-4c79-42a0-fd0b-7e708334af3f"
      },
      "execution_count": null,
      "outputs": [
        {
          "output_type": "execute_result",
          "data": {
            "text/plain": [
              "BaggingClassifier(random_state=42)"
            ],
            "text/html": [
              "<style>#sk-container-id-5 {color: black;background-color: white;}#sk-container-id-5 pre{padding: 0;}#sk-container-id-5 div.sk-toggleable {background-color: white;}#sk-container-id-5 label.sk-toggleable__label {cursor: pointer;display: block;width: 100%;margin-bottom: 0;padding: 0.3em;box-sizing: border-box;text-align: center;}#sk-container-id-5 label.sk-toggleable__label-arrow:before {content: \"▸\";float: left;margin-right: 0.25em;color: #696969;}#sk-container-id-5 label.sk-toggleable__label-arrow:hover:before {color: black;}#sk-container-id-5 div.sk-estimator:hover label.sk-toggleable__label-arrow:before {color: black;}#sk-container-id-5 div.sk-toggleable__content {max-height: 0;max-width: 0;overflow: hidden;text-align: left;background-color: #f0f8ff;}#sk-container-id-5 div.sk-toggleable__content pre {margin: 0.2em;color: black;border-radius: 0.25em;background-color: #f0f8ff;}#sk-container-id-5 input.sk-toggleable__control:checked~div.sk-toggleable__content {max-height: 200px;max-width: 100%;overflow: auto;}#sk-container-id-5 input.sk-toggleable__control:checked~label.sk-toggleable__label-arrow:before {content: \"▾\";}#sk-container-id-5 div.sk-estimator input.sk-toggleable__control:checked~label.sk-toggleable__label {background-color: #d4ebff;}#sk-container-id-5 div.sk-label input.sk-toggleable__control:checked~label.sk-toggleable__label {background-color: #d4ebff;}#sk-container-id-5 input.sk-hidden--visually {border: 0;clip: rect(1px 1px 1px 1px);clip: rect(1px, 1px, 1px, 1px);height: 1px;margin: -1px;overflow: hidden;padding: 0;position: absolute;width: 1px;}#sk-container-id-5 div.sk-estimator {font-family: monospace;background-color: #f0f8ff;border: 1px dotted black;border-radius: 0.25em;box-sizing: border-box;margin-bottom: 0.5em;}#sk-container-id-5 div.sk-estimator:hover {background-color: #d4ebff;}#sk-container-id-5 div.sk-parallel-item::after {content: \"\";width: 100%;border-bottom: 1px solid gray;flex-grow: 1;}#sk-container-id-5 div.sk-label:hover label.sk-toggleable__label {background-color: #d4ebff;}#sk-container-id-5 div.sk-serial::before {content: \"\";position: absolute;border-left: 1px solid gray;box-sizing: border-box;top: 0;bottom: 0;left: 50%;z-index: 0;}#sk-container-id-5 div.sk-serial {display: flex;flex-direction: column;align-items: center;background-color: white;padding-right: 0.2em;padding-left: 0.2em;position: relative;}#sk-container-id-5 div.sk-item {position: relative;z-index: 1;}#sk-container-id-5 div.sk-parallel {display: flex;align-items: stretch;justify-content: center;background-color: white;position: relative;}#sk-container-id-5 div.sk-item::before, #sk-container-id-5 div.sk-parallel-item::before {content: \"\";position: absolute;border-left: 1px solid gray;box-sizing: border-box;top: 0;bottom: 0;left: 50%;z-index: -1;}#sk-container-id-5 div.sk-parallel-item {display: flex;flex-direction: column;z-index: 1;position: relative;background-color: white;}#sk-container-id-5 div.sk-parallel-item:first-child::after {align-self: flex-end;width: 50%;}#sk-container-id-5 div.sk-parallel-item:last-child::after {align-self: flex-start;width: 50%;}#sk-container-id-5 div.sk-parallel-item:only-child::after {width: 0;}#sk-container-id-5 div.sk-dashed-wrapped {border: 1px dashed gray;margin: 0 0.4em 0.5em 0.4em;box-sizing: border-box;padding-bottom: 0.4em;background-color: white;}#sk-container-id-5 div.sk-label label {font-family: monospace;font-weight: bold;display: inline-block;line-height: 1.2em;}#sk-container-id-5 div.sk-label-container {text-align: center;}#sk-container-id-5 div.sk-container {/* jupyter's `normalize.less` sets `[hidden] { display: none; }` but bootstrap.min.css set `[hidden] { display: none !important; }` so we also need the `!important` here to be able to override the default hidden behavior on the sphinx rendered scikit-learn.org. See: https://github.com/scikit-learn/scikit-learn/issues/21755 */display: inline-block !important;position: relative;}#sk-container-id-5 div.sk-text-repr-fallback {display: none;}</style><div id=\"sk-container-id-5\" class=\"sk-top-container\"><div class=\"sk-text-repr-fallback\"><pre>BaggingClassifier(random_state=42)</pre><b>In a Jupyter environment, please rerun this cell to show the HTML representation or trust the notebook. <br />On GitHub, the HTML representation is unable to render, please try loading this page with nbviewer.org.</b></div><div class=\"sk-container\" hidden><div class=\"sk-item\"><div class=\"sk-estimator sk-toggleable\"><input class=\"sk-toggleable__control sk-hidden--visually\" id=\"sk-estimator-id-5\" type=\"checkbox\" checked><label for=\"sk-estimator-id-5\" class=\"sk-toggleable__label sk-toggleable__label-arrow\">BaggingClassifier</label><div class=\"sk-toggleable__content\"><pre>BaggingClassifier(random_state=42)</pre></div></div></div></div></div>"
            ]
          },
          "metadata": {},
          "execution_count": 52
        }
      ]
    },
    {
      "cell_type": "code",
      "source": [
        "# get accuracy for model\n",
        "print(f\"Model's accuracy score on training data: {bag_class.score(X_train, y_train)}\")\n",
        "print(f\"Model's accuracy score on testing data: {bag_class.score(X_test, y_test)}\")"
      ],
      "metadata": {
        "colab": {
          "base_uri": "https://localhost:8080/"
        },
        "id": "T0Y1mc8o8FRa",
        "outputId": "1742b140-5c58-4165-ebf0-2554cdc8f059"
      },
      "execution_count": null,
      "outputs": [
        {
          "output_type": "stream",
          "name": "stdout",
          "text": [
            "Model's accuracy score on training data: 0.9929577464788732\n",
            "Model's accuracy score on testing data: 0.951048951048951\n"
          ]
        }
      ]
    },
    {
      "cell_type": "code",
      "source": [
        "# consider tuning hyperparameters\n",
        "# example from LP: n_estimators\n",
        "bag_class.get_params()"
      ],
      "metadata": {
        "colab": {
          "base_uri": "https://localhost:8080/"
        },
        "id": "re0kP_0V8FD2",
        "outputId": "c5445899-9b12-454e-9dd9-48fc427bec77"
      },
      "execution_count": null,
      "outputs": [
        {
          "output_type": "execute_result",
          "data": {
            "text/plain": [
              "{'base_estimator': 'deprecated',\n",
              " 'bootstrap': True,\n",
              " 'bootstrap_features': False,\n",
              " 'estimator': None,\n",
              " 'max_features': 1.0,\n",
              " 'max_samples': 1.0,\n",
              " 'n_estimators': 10,\n",
              " 'n_jobs': None,\n",
              " 'oob_score': False,\n",
              " 'random_state': 42,\n",
              " 'verbose': 0,\n",
              " 'warm_start': False}"
            ]
          },
          "metadata": {},
          "execution_count": 54
        }
      ]
    },
    {
      "cell_type": "code",
      "source": [
        "# tune hyperparameter n_estimators to improve model performance on test data\n",
        "\n",
        "# start by guessing some number of n_estimators (refine later if necessary)\n",
        "\n",
        "num_estimators = [50, 100, 150, 200]\n",
        "\n",
        "scores = pd.DataFrame(index = num_estimators, columns = ['Test Score',\n",
        "                                                         'Train Score'])\n",
        "\n",
        "for num in num_estimators:\n",
        "  bag_class = BaggingClassifier(n_estimators = num,\n",
        "                                random_state = 42)\n",
        "  bag_class.fit(X_train, y_train)\n",
        "  train_score = bag_class.score(X_train, y_train)\n",
        "  test_score = bag_class.score(X_test, y_test)\n",
        "  scores.loc[num, 'Train Score'] = train_score\n",
        "  scores.loc[num, 'Test Score'] = test_score\n",
        "\n",
        "sorted_scores = scores.sort_values(by = 'Test Score',\n",
        "                                     ascending = False)\n",
        "  \n",
        "sorted_scores.head()"
      ],
      "metadata": {
        "colab": {
          "base_uri": "https://localhost:8080/",
          "height": 174
        },
        "id": "wqgv8uWE8FT1",
        "outputId": "26dbc2ba-5e45-4589-8556-c962478cf681"
      },
      "execution_count": null,
      "outputs": [
        {
          "output_type": "execute_result",
          "data": {
            "text/plain": [
              "    Test Score Train Score\n",
              "50    0.958042         1.0\n",
              "100   0.958042         1.0\n",
              "150   0.958042         1.0\n",
              "200   0.958042         1.0"
            ],
            "text/html": [
              "\n",
              "  <div id=\"df-2f4e7683-8ce6-4edf-9939-a0e940834a1b\">\n",
              "    <div class=\"colab-df-container\">\n",
              "      <div>\n",
              "<style scoped>\n",
              "    .dataframe tbody tr th:only-of-type {\n",
              "        vertical-align: middle;\n",
              "    }\n",
              "\n",
              "    .dataframe tbody tr th {\n",
              "        vertical-align: top;\n",
              "    }\n",
              "\n",
              "    .dataframe thead th {\n",
              "        text-align: right;\n",
              "    }\n",
              "</style>\n",
              "<table border=\"1\" class=\"dataframe\">\n",
              "  <thead>\n",
              "    <tr style=\"text-align: right;\">\n",
              "      <th></th>\n",
              "      <th>Test Score</th>\n",
              "      <th>Train Score</th>\n",
              "    </tr>\n",
              "  </thead>\n",
              "  <tbody>\n",
              "    <tr>\n",
              "      <th>50</th>\n",
              "      <td>0.958042</td>\n",
              "      <td>1.0</td>\n",
              "    </tr>\n",
              "    <tr>\n",
              "      <th>100</th>\n",
              "      <td>0.958042</td>\n",
              "      <td>1.0</td>\n",
              "    </tr>\n",
              "    <tr>\n",
              "      <th>150</th>\n",
              "      <td>0.958042</td>\n",
              "      <td>1.0</td>\n",
              "    </tr>\n",
              "    <tr>\n",
              "      <th>200</th>\n",
              "      <td>0.958042</td>\n",
              "      <td>1.0</td>\n",
              "    </tr>\n",
              "  </tbody>\n",
              "</table>\n",
              "</div>\n",
              "      <button class=\"colab-df-convert\" onclick=\"convertToInteractive('df-2f4e7683-8ce6-4edf-9939-a0e940834a1b')\"\n",
              "              title=\"Convert this dataframe to an interactive table.\"\n",
              "              style=\"display:none;\">\n",
              "        \n",
              "  <svg xmlns=\"http://www.w3.org/2000/svg\" height=\"24px\"viewBox=\"0 0 24 24\"\n",
              "       width=\"24px\">\n",
              "    <path d=\"M0 0h24v24H0V0z\" fill=\"none\"/>\n",
              "    <path d=\"M18.56 5.44l.94 2.06.94-2.06 2.06-.94-2.06-.94-.94-2.06-.94 2.06-2.06.94zm-11 1L8.5 8.5l.94-2.06 2.06-.94-2.06-.94L8.5 2.5l-.94 2.06-2.06.94zm10 10l.94 2.06.94-2.06 2.06-.94-2.06-.94-.94-2.06-.94 2.06-2.06.94z\"/><path d=\"M17.41 7.96l-1.37-1.37c-.4-.4-.92-.59-1.43-.59-.52 0-1.04.2-1.43.59L10.3 9.45l-7.72 7.72c-.78.78-.78 2.05 0 2.83L4 21.41c.39.39.9.59 1.41.59.51 0 1.02-.2 1.41-.59l7.78-7.78 2.81-2.81c.8-.78.8-2.07 0-2.86zM5.41 20L4 18.59l7.72-7.72 1.47 1.35L5.41 20z\"/>\n",
              "  </svg>\n",
              "      </button>\n",
              "      \n",
              "  <style>\n",
              "    .colab-df-container {\n",
              "      display:flex;\n",
              "      flex-wrap:wrap;\n",
              "      gap: 12px;\n",
              "    }\n",
              "\n",
              "    .colab-df-convert {\n",
              "      background-color: #E8F0FE;\n",
              "      border: none;\n",
              "      border-radius: 50%;\n",
              "      cursor: pointer;\n",
              "      display: none;\n",
              "      fill: #1967D2;\n",
              "      height: 32px;\n",
              "      padding: 0 0 0 0;\n",
              "      width: 32px;\n",
              "    }\n",
              "\n",
              "    .colab-df-convert:hover {\n",
              "      background-color: #E2EBFA;\n",
              "      box-shadow: 0px 1px 2px rgba(60, 64, 67, 0.3), 0px 1px 3px 1px rgba(60, 64, 67, 0.15);\n",
              "      fill: #174EA6;\n",
              "    }\n",
              "\n",
              "    [theme=dark] .colab-df-convert {\n",
              "      background-color: #3B4455;\n",
              "      fill: #D2E3FC;\n",
              "    }\n",
              "\n",
              "    [theme=dark] .colab-df-convert:hover {\n",
              "      background-color: #434B5C;\n",
              "      box-shadow: 0px 1px 3px 1px rgba(0, 0, 0, 0.15);\n",
              "      filter: drop-shadow(0px 1px 2px rgba(0, 0, 0, 0.3));\n",
              "      fill: #FFFFFF;\n",
              "    }\n",
              "  </style>\n",
              "\n",
              "      <script>\n",
              "        const buttonEl =\n",
              "          document.querySelector('#df-2f4e7683-8ce6-4edf-9939-a0e940834a1b button.colab-df-convert');\n",
              "        buttonEl.style.display =\n",
              "          google.colab.kernel.accessAllowed ? 'block' : 'none';\n",
              "\n",
              "        async function convertToInteractive(key) {\n",
              "          const element = document.querySelector('#df-2f4e7683-8ce6-4edf-9939-a0e940834a1b');\n",
              "          const dataTable =\n",
              "            await google.colab.kernel.invokeFunction('convertToInteractive',\n",
              "                                                     [key], {});\n",
              "          if (!dataTable) return;\n",
              "\n",
              "          const docLinkHtml = 'Like what you see? Visit the ' +\n",
              "            '<a target=\"_blank\" href=https://colab.research.google.com/notebooks/data_table.ipynb>data table notebook</a>'\n",
              "            + ' to learn more about interactive tables.';\n",
              "          element.innerHTML = '';\n",
              "          dataTable['output_type'] = 'display_data';\n",
              "          await google.colab.output.renderOutput(dataTable, element);\n",
              "          const docLink = document.createElement('div');\n",
              "          docLink.innerHTML = docLinkHtml;\n",
              "          element.appendChild(docLink);\n",
              "        }\n",
              "      </script>\n",
              "    </div>\n",
              "  </div>\n",
              "  "
            ]
          },
          "metadata": {},
          "execution_count": 55
        }
      ]
    },
    {
      "cell_type": "code",
      "source": [
        "# should put plot here to see how n_estimators affects performance"
      ],
      "metadata": {
        "id": "lpM5k8pU-pZ2"
      },
      "execution_count": null,
      "outputs": []
    },
    {
      "cell_type": "code",
      "source": [
        "# best version of model is the default (same accuracy score as models with different num_estimators)"
      ],
      "metadata": {
        "id": "GI96TDux-eXh"
      },
      "execution_count": null,
      "outputs": []
    },
    {
      "cell_type": "markdown",
      "source": [
        "# Random Forest Classifier Model"
      ],
      "metadata": {
        "id": "5FldmX48vUM9"
      }
    },
    {
      "cell_type": "code",
      "source": [
        "# instantiate model with default parameter settings\n",
        "rf_class = RandomForestClassifier(random_state = 42)"
      ],
      "metadata": {
        "id": "EdwUpctqkmj0"
      },
      "execution_count": null,
      "outputs": []
    },
    {
      "cell_type": "code",
      "source": [
        "# fit model on training data\n",
        "rf_class.fit(X_train, y_train)"
      ],
      "metadata": {
        "colab": {
          "base_uri": "https://localhost:8080/",
          "height": 74
        },
        "outputId": "29873d07-f2b2-4483-e2ec-067a4fb4d375",
        "id": "qRLaTESokmj1"
      },
      "execution_count": null,
      "outputs": [
        {
          "output_type": "execute_result",
          "data": {
            "text/plain": [
              "RandomForestClassifier(random_state=42)"
            ],
            "text/html": [
              "<style>#sk-container-id-6 {color: black;background-color: white;}#sk-container-id-6 pre{padding: 0;}#sk-container-id-6 div.sk-toggleable {background-color: white;}#sk-container-id-6 label.sk-toggleable__label {cursor: pointer;display: block;width: 100%;margin-bottom: 0;padding: 0.3em;box-sizing: border-box;text-align: center;}#sk-container-id-6 label.sk-toggleable__label-arrow:before {content: \"▸\";float: left;margin-right: 0.25em;color: #696969;}#sk-container-id-6 label.sk-toggleable__label-arrow:hover:before {color: black;}#sk-container-id-6 div.sk-estimator:hover label.sk-toggleable__label-arrow:before {color: black;}#sk-container-id-6 div.sk-toggleable__content {max-height: 0;max-width: 0;overflow: hidden;text-align: left;background-color: #f0f8ff;}#sk-container-id-6 div.sk-toggleable__content pre {margin: 0.2em;color: black;border-radius: 0.25em;background-color: #f0f8ff;}#sk-container-id-6 input.sk-toggleable__control:checked~div.sk-toggleable__content {max-height: 200px;max-width: 100%;overflow: auto;}#sk-container-id-6 input.sk-toggleable__control:checked~label.sk-toggleable__label-arrow:before {content: \"▾\";}#sk-container-id-6 div.sk-estimator input.sk-toggleable__control:checked~label.sk-toggleable__label {background-color: #d4ebff;}#sk-container-id-6 div.sk-label input.sk-toggleable__control:checked~label.sk-toggleable__label {background-color: #d4ebff;}#sk-container-id-6 input.sk-hidden--visually {border: 0;clip: rect(1px 1px 1px 1px);clip: rect(1px, 1px, 1px, 1px);height: 1px;margin: -1px;overflow: hidden;padding: 0;position: absolute;width: 1px;}#sk-container-id-6 div.sk-estimator {font-family: monospace;background-color: #f0f8ff;border: 1px dotted black;border-radius: 0.25em;box-sizing: border-box;margin-bottom: 0.5em;}#sk-container-id-6 div.sk-estimator:hover {background-color: #d4ebff;}#sk-container-id-6 div.sk-parallel-item::after {content: \"\";width: 100%;border-bottom: 1px solid gray;flex-grow: 1;}#sk-container-id-6 div.sk-label:hover label.sk-toggleable__label {background-color: #d4ebff;}#sk-container-id-6 div.sk-serial::before {content: \"\";position: absolute;border-left: 1px solid gray;box-sizing: border-box;top: 0;bottom: 0;left: 50%;z-index: 0;}#sk-container-id-6 div.sk-serial {display: flex;flex-direction: column;align-items: center;background-color: white;padding-right: 0.2em;padding-left: 0.2em;position: relative;}#sk-container-id-6 div.sk-item {position: relative;z-index: 1;}#sk-container-id-6 div.sk-parallel {display: flex;align-items: stretch;justify-content: center;background-color: white;position: relative;}#sk-container-id-6 div.sk-item::before, #sk-container-id-6 div.sk-parallel-item::before {content: \"\";position: absolute;border-left: 1px solid gray;box-sizing: border-box;top: 0;bottom: 0;left: 50%;z-index: -1;}#sk-container-id-6 div.sk-parallel-item {display: flex;flex-direction: column;z-index: 1;position: relative;background-color: white;}#sk-container-id-6 div.sk-parallel-item:first-child::after {align-self: flex-end;width: 50%;}#sk-container-id-6 div.sk-parallel-item:last-child::after {align-self: flex-start;width: 50%;}#sk-container-id-6 div.sk-parallel-item:only-child::after {width: 0;}#sk-container-id-6 div.sk-dashed-wrapped {border: 1px dashed gray;margin: 0 0.4em 0.5em 0.4em;box-sizing: border-box;padding-bottom: 0.4em;background-color: white;}#sk-container-id-6 div.sk-label label {font-family: monospace;font-weight: bold;display: inline-block;line-height: 1.2em;}#sk-container-id-6 div.sk-label-container {text-align: center;}#sk-container-id-6 div.sk-container {/* jupyter's `normalize.less` sets `[hidden] { display: none; }` but bootstrap.min.css set `[hidden] { display: none !important; }` so we also need the `!important` here to be able to override the default hidden behavior on the sphinx rendered scikit-learn.org. See: https://github.com/scikit-learn/scikit-learn/issues/21755 */display: inline-block !important;position: relative;}#sk-container-id-6 div.sk-text-repr-fallback {display: none;}</style><div id=\"sk-container-id-6\" class=\"sk-top-container\"><div class=\"sk-text-repr-fallback\"><pre>RandomForestClassifier(random_state=42)</pre><b>In a Jupyter environment, please rerun this cell to show the HTML representation or trust the notebook. <br />On GitHub, the HTML representation is unable to render, please try loading this page with nbviewer.org.</b></div><div class=\"sk-container\" hidden><div class=\"sk-item\"><div class=\"sk-estimator sk-toggleable\"><input class=\"sk-toggleable__control sk-hidden--visually\" id=\"sk-estimator-id-6\" type=\"checkbox\" checked><label for=\"sk-estimator-id-6\" class=\"sk-toggleable__label sk-toggleable__label-arrow\">RandomForestClassifier</label><div class=\"sk-toggleable__content\"><pre>RandomForestClassifier(random_state=42)</pre></div></div></div></div></div>"
            ]
          },
          "metadata": {},
          "execution_count": 59
        }
      ]
    },
    {
      "cell_type": "code",
      "source": [
        "# get accuracy for model\n",
        "print(f\"Model's accuracy score on training data: {rf_class.score(X_train, y_train)}\")\n",
        "print(f\"Model's accuracy score on testing data: {rf_class.score(X_test, y_test)}\")"
      ],
      "metadata": {
        "colab": {
          "base_uri": "https://localhost:8080/"
        },
        "outputId": "1c0ce9bb-6df0-48c8-95bd-0b84ea908630",
        "id": "BmXZ4zD8kmj3"
      },
      "execution_count": null,
      "outputs": [
        {
          "output_type": "stream",
          "name": "stdout",
          "text": [
            "Model's accuracy score on training data: 1.0\n",
            "Model's accuracy score on testing data: 0.972027972027972\n"
          ]
        }
      ]
    },
    {
      "cell_type": "code",
      "source": [
        "# these accuracy scores differ from the rf classifier in the solutions notebook??"
      ],
      "metadata": {
        "id": "wyC8m6lO2f4V"
      },
      "execution_count": null,
      "outputs": []
    },
    {
      "cell_type": "code",
      "source": [
        "# consider tuning hyperparameters\n",
        "# example from LP: max_depth\n",
        "rf_class.get_params()"
      ],
      "metadata": {
        "colab": {
          "base_uri": "https://localhost:8080/"
        },
        "outputId": "e8eb5c96-0493-4234-b6d9-14a518c26eb6",
        "id": "UOyXih2Kkmj3"
      },
      "execution_count": null,
      "outputs": [
        {
          "output_type": "execute_result",
          "data": {
            "text/plain": [
              "{'bootstrap': True,\n",
              " 'ccp_alpha': 0.0,\n",
              " 'class_weight': None,\n",
              " 'criterion': 'gini',\n",
              " 'max_depth': None,\n",
              " 'max_features': 'sqrt',\n",
              " 'max_leaf_nodes': None,\n",
              " 'max_samples': None,\n",
              " 'min_impurity_decrease': 0.0,\n",
              " 'min_samples_leaf': 1,\n",
              " 'min_samples_split': 2,\n",
              " 'min_weight_fraction_leaf': 0.0,\n",
              " 'n_estimators': 100,\n",
              " 'n_jobs': None,\n",
              " 'oob_score': False,\n",
              " 'random_state': 42,\n",
              " 'verbose': 0,\n",
              " 'warm_start': False}"
            ]
          },
          "metadata": {},
          "execution_count": 62
        }
      ]
    },
    {
      "cell_type": "code",
      "source": [
        "# did not tune any hyperparameters for this model"
      ],
      "metadata": {
        "id": "tLpKEpcx2X3a"
      },
      "execution_count": null,
      "outputs": []
    },
    {
      "cell_type": "markdown",
      "source": [
        "The best model according to test accuracy is the random forest model, which was 97.2% accurate on the test data."
      ],
      "metadata": {
        "id": "kkiwSlb525P2"
      }
    },
    {
      "cell_type": "markdown",
      "source": [
        "# **Plotting Confusion Matrix Exercise**"
      ],
      "metadata": {
        "id": "AWo_kD8FxHLM"
      }
    },
    {
      "cell_type": "markdown",
      "source": [
        "## Decision Tree Model"
      ],
      "metadata": {
        "id": "D7oBgrjT4aVu"
      }
    },
    {
      "cell_type": "markdown",
      "source": [
        "**These numbers may be different from solution because I tuned a hyperparameter for my model but the solution notebook didn't.**"
      ],
      "metadata": {
        "id": "Va63gKkH4mi9"
      }
    },
    {
      "cell_type": "markdown",
      "source": [
        "1. What was the accuracy of the model? (You should have already determined this for the classification tree exercise)"
      ],
      "metadata": {
        "id": "nmDHxu4dwffS"
      }
    },
    {
      "cell_type": "code",
      "source": [
        "# get accuracy for model\n",
        "print(f\"Model's accuracy score on training data: {dec_tree_class_3.score(X_train, y_train)}\")\n",
        "print(f\"Model's accuracy score on testing data: {dec_tree_class_3.score(X_test, y_test)}\")"
      ],
      "metadata": {
        "colab": {
          "base_uri": "https://localhost:8080/"
        },
        "id": "Bbq8CJ-i4DBB",
        "outputId": "799cc532-2d22-4729-bb8e-b5674df36912"
      },
      "execution_count": null,
      "outputs": [
        {
          "output_type": "stream",
          "name": "stdout",
          "text": [
            "Model's accuracy score on training data: 0.971830985915493\n",
            "Model's accuracy score on testing data: 0.958041958041958\n"
          ]
        }
      ]
    },
    {
      "cell_type": "markdown",
      "source": [
        "2. Which condition (Malignant or Benign) is considered the positive class in this data set?"
      ],
      "metadata": {
        "id": "ucCi61fxwhs6"
      }
    },
    {
      "cell_type": "markdown",
      "source": [
        "Malignant is considered the positive class (1) in this data set."
      ],
      "metadata": {
        "id": "-tCEOQJ6x0HX"
      }
    },
    {
      "cell_type": "markdown",
      "source": [
        "Create the confusion matrix to answer the following questions."
      ],
      "metadata": {
        "id": "hseRwXU0x89A"
      }
    },
    {
      "cell_type": "code",
      "source": [
        "ConfusionMatrixDisplay.from_estimator(dec_tree_class_3, X_test, y_test, cmap = 'Blues');"
      ],
      "metadata": {
        "colab": {
          "base_uri": "https://localhost:8080/",
          "height": 449
        },
        "id": "G4viMTqryGjr",
        "outputId": "247cbd3d-b950-46ab-d487-fd74569428d5"
      },
      "execution_count": null,
      "outputs": [
        {
          "output_type": "display_data",
          "data": {
            "text/plain": [
              "<Figure size 640x480 with 2 Axes>"
            ],
            "image/png": "[encoded data removed]"
          },
          "metadata": {}
        }
      ]
    },
    {
      "cell_type": "markdown",
      "source": [
        "3. How many false positives were there?"
      ],
      "metadata": {
        "id": "BX9-TO0_wkFU"
      }
    },
    {
      "cell_type": "markdown",
      "source": [
        "There were 2 false positives (predicted label positive, true label negative). "
      ],
      "metadata": {
        "id": "ONyVXpoyysXi"
      }
    },
    {
      "cell_type": "markdown",
      "source": [
        "4. How many false negatives were there?"
      ],
      "metadata": {
        "id": "yekKJUxlwmaU"
      }
    },
    {
      "cell_type": "markdown",
      "source": [
        "There were 4 false negatives (predicted label negative, true label positive). "
      ],
      "metadata": {
        "id": "jD2KJmPay5vu"
      }
    },
    {
      "cell_type": "markdown",
      "source": [
        "5. For the breast cancer data set, which do you think is more problematic: false positives or false negatives? Explain."
      ],
      "metadata": {
        "id": "0G1MaxEZwot7"
      }
    },
    {
      "cell_type": "markdown",
      "source": [
        "As I assume with many other disease-related datasets, where having the disease is assigned 1, false negatives are more problematic. \n",
        "\n",
        "This is because, if there is a false negative, the doctor and patient believe the patient does not have the disease but in fact does. The patient may suffer from the disease but will not receive medical care for it (it will go undiagnosed unless another test is performed). \n",
        "\n",
        "If there is a false positive, the patient can undergo more extensive testing to find out they are truly negative for the disease, and will not suffer from having the disease.\n",
        "\n"
      ],
      "metadata": {
        "id": "51H0Halty-0i"
      }
    },
    {
      "cell_type": "markdown",
      "source": [
        "## Bagged Classification Model"
      ],
      "metadata": {
        "id": "A1_ojzn44u48"
      }
    },
    {
      "cell_type": "code",
      "source": [
        "# get accuracy for model\n",
        "print(f\"Model's accuracy score on training data: {bag_class.score(X_train, y_train)}\")\n",
        "print(f\"Model's accuracy score on testing data: {bag_class.score(X_test, y_test)}\")"
      ],
      "metadata": {
        "colab": {
          "base_uri": "https://localhost:8080/"
        },
        "id": "yFRNMiiV45Ht",
        "outputId": "a24f2f3b-553d-47c2-8527-5562e5cea01e"
      },
      "execution_count": null,
      "outputs": [
        {
          "output_type": "stream",
          "name": "stdout",
          "text": [
            "Model's accuracy score on training data: 1.0\n",
            "Model's accuracy score on testing data: 0.958041958041958\n"
          ]
        }
      ]
    },
    {
      "cell_type": "code",
      "source": [
        "ConfusionMatrixDisplay.from_estimator(bag_class, X_test, y_test, cmap = 'Blues');"
      ],
      "metadata": {
        "colab": {
          "base_uri": "https://localhost:8080/",
          "height": 449
        },
        "id": "KECZNMdm5CrF",
        "outputId": "764baebd-92ff-4adc-93d4-80f0148afd80"
      },
      "execution_count": null,
      "outputs": [
        {
          "output_type": "display_data",
          "data": {
            "text/plain": [
              "<Figure size 640x480 with 2 Axes>"
            ],
            "image/png": "[encoded data removed]"
          },
          "metadata": {}
        }
      ]
    },
    {
      "cell_type": "markdown",
      "source": [
        "- False positives: 3\n",
        "- False negatives: 3"
      ],
      "metadata": {
        "id": "KRt_JjjK44yf"
      }
    },
    {
      "cell_type": "markdown",
      "source": [
        "## Random Forest Model"
      ],
      "metadata": {
        "id": "ibQ_D3B25Llr"
      }
    },
    {
      "cell_type": "code",
      "source": [
        "# get accuracy for model\n",
        "print(f\"Model's accuracy score on training data: {rf_class.score(X_train, y_train)}\")\n",
        "print(f\"Model's accuracy score on testing data: {rf_class.score(X_test, y_test)}\")"
      ],
      "metadata": {
        "colab": {
          "base_uri": "https://localhost:8080/"
        },
        "id": "poENyE_w5SQ6",
        "outputId": "6cba9faa-c7a6-4b88-b63c-6cae4f624714"
      },
      "execution_count": null,
      "outputs": [
        {
          "output_type": "stream",
          "name": "stdout",
          "text": [
            "Model's accuracy score on training data: 1.0\n",
            "Model's accuracy score on testing data: 0.972027972027972\n"
          ]
        }
      ]
    },
    {
      "cell_type": "code",
      "source": [
        "ConfusionMatrixDisplay.from_estimator(rf_class, X_test, y_test, cmap = 'Blues');"
      ],
      "metadata": {
        "colab": {
          "base_uri": "https://localhost:8080/",
          "height": 449
        },
        "id": "Mzwj1jlo5TsJ",
        "outputId": "7d6de535-81f3-4d26-aeae-0a3d7a1e625e"
      },
      "execution_count": null,
      "outputs": [
        {
          "output_type": "display_data",
          "data": {
            "text/plain": [
              "<Figure size 640x480 with 2 Axes>"
            ],
            "image/png": "[encoded data removed]"
          },
          "metadata": {}
        }
      ]
    },
    {
      "cell_type": "markdown",
      "source": [
        "- False positives: 1\n",
        "- False negatives: 3"
      ],
      "metadata": {
        "id": "wwoC7auu5bHS"
      }
    },
    {
      "cell_type": "markdown",
      "source": [
        "# **Solutions**"
      ],
      "metadata": {
        "id": "8_JAmmPm5fC7"
      }
    },
    {
      "cell_type": "markdown",
      "source": [
        "[Assignment Solution](https://github.com/coding-dojo-data-science/machine-learning-practice-solutions/blob/main/Confusion_Matrix_Exercise_(Practice)_Solution.ipynb)\n"
      ],
      "metadata": {
        "id": "pHoePrYWwq0S"
      }
    }
  ]
}