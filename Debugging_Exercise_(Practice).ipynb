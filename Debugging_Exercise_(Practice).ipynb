{
  "nbformat": 4,
  "nbformat_minor": 0,
  "metadata": {
    "colab": {
      "provenance": [],
      "include_colab_link": true
    },
    "kernelspec": {
      "name": "python3",
      "display_name": "Python 3"
    },
    "language_info": {
      "name": "python"
    }
  },
  "cells": [
    {
      "cell_type": "markdown",
      "metadata": {
        "id": "view-in-github",
        "colab_type": "text"
      },
      "source": [
        "<a href=\"https://colab.research.google.com/github/kellianneyang/bootcamp-assignments/blob/main/Debugging_Exercise_(Practice).ipynb\" target=\"_parent\"><img src=\"https://colab.research.google.com/assets/colab-badge.svg\" alt=\"Open In Colab\"/></a>"
      ]
    },
    {
      "cell_type": "markdown",
      "source": [
        "# 👩‍🏫 Fixing common errors 📈\n",
        "\n",
        "In this assignment you will be debugging errors. \n",
        "\n",
        "To work in this notebook, first make a copy of this notebook by clicking on \"File\" and then clicking on \"Save a Copy in Drive\""
      ],
      "metadata": {
        "id": "jOePcaF_dlTB"
      }
    },
    {
      "cell_type": "markdown",
      "source": [
        "# Types of Errors\n",
        "## Syntax Errors:\n",
        "Syntax errors are the most basic type of error. They arise when the Python parser is unable to understand a line of code. Syntax errors are almost always fatal, i.e. there is almost never a way to successfully execute a piece of code containing syntax errors.\n",
        "\n",
        "## Logical Errors:\n",
        "These are the most difficult type of error to find, because they will give unpredictable results, but may or may not actually crash your program. A lot of different things can happen if you have a logic error."
      ],
      "metadata": {
        "id": "4qCHuR323Ylj"
      }
    },
    {
      "cell_type": "markdown",
      "source": [
        "# 💪 Your Job: Diagnose and debug the following code samples.\n"
      ],
      "metadata": {
        "id": "Lk-UnXZ2oT9G"
      }
    },
    {
      "cell_type": "markdown",
      "source": [
        "# Task 1 "
      ],
      "metadata": {
        "id": "MX40r23hGBdj"
      }
    },
    {
      "cell_type": "code",
      "source": [
        "# Find and correct the error:\n",
        "employee = 'Ingrid'\n",
        "print(employee)\n"
      ],
      "metadata": {
        "id": "fG3g5qVf8k7S",
        "colab": {
          "base_uri": "https://localhost:8080/"
        },
        "outputId": "633c5708-2cd8-4164-fdde-9c9569f6443b"
      },
      "execution_count": null,
      "outputs": [
        {
          "output_type": "stream",
          "name": "stdout",
          "text": [
            "Ingrid\n"
          ]
        }
      ]
    },
    {
      "cell_type": "markdown",
      "source": [
        "# Task 2"
      ],
      "metadata": {
        "id": "5xytHNuDGNEW"
      }
    },
    {
      "cell_type": "code",
      "source": [
        "# Find and correct the error:\n",
        "candy_list = ['Snickers', 'Milky Way', 'Skittles']\n"
      ],
      "metadata": {
        "id": "l--0V67981oo"
      },
      "execution_count": null,
      "outputs": []
    },
    {
      "cell_type": "markdown",
      "source": [
        "# Task 3"
      ],
      "metadata": {
        "id": "ScIpR6v9GO-0"
      }
    },
    {
      "cell_type": "code",
      "source": [
        "# Find and correct the error:\n",
        "a = 300\n",
        "if a > 100 & a < 1000:\n",
        "  print(f'{a} is greater than 100 and less than 1000.')"
      ],
      "metadata": {
        "id": "6zu-5_s89S_i",
        "colab": {
          "base_uri": "https://localhost:8080/"
        },
        "outputId": "ff2b0ac7-2bfa-4460-c631-9d01754a82e6"
      },
      "execution_count": null,
      "outputs": [
        {
          "output_type": "stream",
          "name": "stdout",
          "text": [
            "300 is greater than 100 and less than 1000.\n"
          ]
        }
      ]
    },
    {
      "cell_type": "markdown",
      "source": [
        "# Task 4 Welcome Message\n",
        "\n",
        "- The following function takes a student name and id. \n",
        "- The function prints a message to welcome the student and show him/her his/her id. \n",
        "- The function is throwing an error! find out why this happened and solve this issue.\n",
        "- Fix this error by changing the function.\n"
      ],
      "metadata": {
        "id": "jdattlSuXJb9"
      }
    },
    {
      "cell_type": "code",
      "source": [
        "# Find and correct the error\n",
        "def Physics_Welcome_Message(name, id):\n",
        "  print(\"Hello \" + name + \"! Welcome to your Physics class. Your id is \" + str(id) + \". We know you will rock.\")"
      ],
      "metadata": {
        "id": "AtNrOvEyIRlk"
      },
      "execution_count": null,
      "outputs": []
    },
    {
      "cell_type": "markdown",
      "source": [
        "## Task 4 Test Case"
      ],
      "metadata": {
        "id": "-gK1s1YOn_52"
      }
    },
    {
      "cell_type": "code",
      "source": [
        "# this test case fails\n",
        "Physics_Welcome_Message(\"Jack\", 2022075)"
      ],
      "metadata": {
        "id": "ebC4s55CxPlE",
        "colab": {
          "base_uri": "https://localhost:8080/"
        },
        "outputId": "83a048df-db3c-4b9e-e099-0f1b511e29c1"
      },
      "execution_count": null,
      "outputs": [
        {
          "output_type": "stream",
          "name": "stdout",
          "text": [
            "Hello Jack! Welcome to your Physics class. Your id is 2022075. We know you will rock.\n"
          ]
        }
      ]
    },
    {
      "cell_type": "markdown",
      "source": [
        "# Task 5\n",
        "- The following function calculates the area for a circle. It's not working!\n",
        "- Find out why and get the function working."
      ],
      "metadata": {
        "id": "9iwb402VEMXX"
      }
    },
    {
      "cell_type": "code",
      "source": [
        "# Find and correct the error\n",
        "def circle_area(r):\n",
        "  PiConstantnumber = 3.1415926\n",
        "  area = r*r*PiConstantnumber\n",
        "  return area"
      ],
      "metadata": {
        "id": "xe4BxUoC2h6o"
      },
      "execution_count": null,
      "outputs": []
    },
    {
      "cell_type": "markdown",
      "source": [
        "## Task 5 Test Case"
      ],
      "metadata": {
        "id": "aSDrj74Qn-WG"
      }
    },
    {
      "cell_type": "code",
      "source": [
        "# This test case fails\n",
        "circle_area(6)"
      ],
      "metadata": {
        "id": "2v4Pro1520J0",
        "colab": {
          "base_uri": "https://localhost:8080/"
        },
        "outputId": "a2ba4be0-af51-4a37-a054-e82441da2874"
      },
      "execution_count": null,
      "outputs": [
        {
          "output_type": "execute_result",
          "data": {
            "text/plain": [
              "113.0973336"
            ]
          },
          "metadata": {},
          "execution_count": 14
        }
      ]
    },
    {
      "cell_type": "markdown",
      "source": [
        "# Task 6\n",
        "## Managing time \n",
        "- You want to divide up your free time evenly among your friends each weekend. Your free time and the friends you are trying to spend time with varies each weekend. num_hours is the number of free hours you can dedicate to friends, and num_friends is the number of friends you want to schedule time with.\n",
        "- The following function takes two numbers and return how much time you should spend with each friend.\n",
        "\n",
        "\n",
        "- Run the following test cases and make sure your function covers ALL test cases:\n",
        "1.   friends_time(8 , 2)\n",
        "2.   friends_time(0 , 3)\n",
        "3.   friends_time(7 , 0)\n",
        "\n",
        "Hint: This gives the error when num_friends equals 0. Consider including an if/else statement where if num_friends is 0, the function prints a statement such as \"No friends available this weekend.\" rather than performing the calculation. \n"
      ],
      "metadata": {
        "id": "g3kvBoka6EGT"
      }
    },
    {
      "cell_type": "code",
      "source": [
        "# Find and correct the error\n",
        "def friends_time(num_hours, num_friends):\n",
        "  if num_friends > 0:\n",
        "    print(f\"You should spend {round(num_hours/num_friends,2)} hours with each of your friends on the weekend.\")\n",
        "  else:\n",
        "    print(\"No friends available this weekend.\")"
      ],
      "metadata": {
        "id": "7hs7fLs66mPJ"
      },
      "execution_count": null,
      "outputs": []
    },
    {
      "cell_type": "markdown",
      "source": [
        "## Task 6 Test Case"
      ],
      "metadata": {
        "id": "K-2yiBP0n7Rn"
      }
    },
    {
      "cell_type": "code",
      "source": [
        "# This test case fails\n",
        "friends_time(4 , 0)"
      ],
      "metadata": {
        "id": "8GWAzPf563gR",
        "colab": {
          "base_uri": "https://localhost:8080/"
        },
        "outputId": "e356ed8b-b564-4031-aa91-27eec756e056"
      },
      "execution_count": null,
      "outputs": [
        {
          "output_type": "stream",
          "name": "stdout",
          "text": [
            "No friends available this weekend.\n"
          ]
        }
      ]
    }
  ]
}